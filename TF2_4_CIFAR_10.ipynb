{
  "nbformat": 4,
  "nbformat_minor": 0,
  "metadata": {
    "colab": {
      "name": "TF2.4 CIFAR-10.ipynb",
      "provenance": [],
      "collapsed_sections": [],
      "authorship_tag": "ABX9TyOyaKZUOUAEE+j00wixlw0R"
    },
    "kernelspec": {
      "name": "python3",
      "display_name": "Python 3"
    },
    "accelerator": "GPU"
  },
  "cells": [
    {
      "cell_type": "code",
      "metadata": {
        "id": "A_L-VJ3tS2-W"
      },
      "source": [
        "import numpy as np\r\n",
        "import tensorflow as tf\r\n",
        "import matplotlib.pyplot as plt\r\n",
        "from sklearn.metrics import confusion_matrix\r\n",
        "from tensorflow.keras.layers import Input, Conv2D, Conv2DTranspose, Dense, Flatten, concatenate, Dropout, MaxPooling2D, BatchNormalization\r\n",
        "from tensorflow.keras.callbacks import EarlyStopping, ModelCheckpoint, ReduceLROnPlateau\r\n",
        "from tensorflow.keras.models import Model\r\n",
        "import itertools"
      ],
      "execution_count": 1,
      "outputs": []
    },
    {
      "cell_type": "code",
      "metadata": {
        "colab": {
          "base_uri": "https://localhost:8080/",
          "height": 35
        },
        "id": "tELnxdwm1JwJ",
        "outputId": "bd7f4cbe-bbe0-40e5-b264-6ca9990b6c9d"
      },
      "source": [
        "tf.__version__"
      ],
      "execution_count": 80,
      "outputs": [
        {
          "output_type": "execute_result",
          "data": {
            "application/vnd.google.colaboratory.intrinsic+json": {
              "type": "string"
            },
            "text/plain": [
              "'2.4.1'"
            ]
          },
          "metadata": {
            "tags": []
          },
          "execution_count": 80
        }
      ]
    },
    {
      "cell_type": "markdown",
      "metadata": {
        "id": "b1sgBh4ZWS3o"
      },
      "source": [
        "### Carregando o dataset CIFAR de 10 classes do Tensorflow"
      ]
    },
    {
      "cell_type": "code",
      "metadata": {
        "colab": {
          "base_uri": "https://localhost:8080/"
        },
        "id": "KCXnzvhiWODq",
        "outputId": "d4581915-10b0-4e91-fc98-027517ca3caa"
      },
      "source": [
        "cifar10 = tf.keras.datasets.cifar10\r\n",
        "\r\n",
        "(x_train, y_train), (x_test, y_test) = cifar10.load_data()\r\n",
        "x_train, x_test = x_train / 255.0, x_test / 255.0\r\n",
        "y_train, y_test = y_train.flatten(), y_test.flatten()\r\n",
        "print(\"x_train.shape:\", x_train.shape)\r\n",
        "print(\"y_train.shape\", y_train.shape)"
      ],
      "execution_count": 2,
      "outputs": [
        {
          "output_type": "stream",
          "text": [
            "Downloading data from https://www.cs.toronto.edu/~kriz/cifar-10-python.tar.gz\n",
            "170500096/170498071 [==============================] - 2s 0us/step\n",
            "x_train.shape: (50000, 32, 32, 3)\n",
            "y_train.shape (50000,)\n"
          ],
          "name": "stdout"
        }
      ]
    },
    {
      "cell_type": "code",
      "metadata": {
        "colab": {
          "base_uri": "https://localhost:8080/"
        },
        "id": "xJU6j_moWdTn",
        "outputId": "78792a63-81ae-4a5e-c9b7-274aff8b2431"
      },
      "source": [
        "K = len(set(y_train))\r\n",
        "print(\"número de classes:\", K)"
      ],
      "execution_count": 3,
      "outputs": [
        {
          "output_type": "stream",
          "text": [
            "número de classes: 10\n"
          ],
          "name": "stdout"
        }
      ]
    },
    {
      "cell_type": "code",
      "metadata": {
        "id": "415eBdyvWpow"
      },
      "source": [
        "def conv(layer, filter, kernel):\r\n",
        "  x = Conv2D(filter, kernel, activation='relu', padding='same')(layer)\r\n",
        "  x = BatchNormalization()(x)\r\n",
        "  x = Conv2D(filter, kernel, activation='relu', padding='same')(x)\r\n",
        "  x = BatchNormalization()(x)\r\n",
        "  x = MaxPooling2D((2, 2))(x)\r\n",
        "  \r\n",
        "  return x"
      ],
      "execution_count": 141,
      "outputs": []
    },
    {
      "cell_type": "code",
      "metadata": {
        "id": "J6DAVUDFbPLq"
      },
      "source": [
        "def deconv(layer, conv_layer, filter, kernel):\r\n",
        "  x = Conv2DTranspose(filter, kernel, strides = (2, 2), padding = 'same')(layer)\r\n",
        "  x = concatenate([x, conv_layer])\r\n",
        "  x = Dropout(0.1)(x)\r\n",
        "  x = Conv2D(filter, kernel, activation='relu', padding='same')(x)\r\n",
        "  x = BatchNormalization()(x)\r\n",
        "\r\n",
        "  return x"
      ],
      "execution_count": 142,
      "outputs": []
    },
    {
      "cell_type": "code",
      "metadata": {
        "id": "0mcqFeKGYuuo"
      },
      "source": [
        "def unet(x_train):\r\n",
        "  i = Input(shape=x_train[0].shape)\r\n",
        "\r\n",
        "  c1 = conv(i, 32, (3,3))\r\n",
        "  c2 = conv(c1, 64, (3,3))\r\n",
        "  c3 = conv(c2, 128, (3, 3))\r\n",
        "\r\n",
        "  u1 = deconv(c3, c2, 64, (3, 3))\r\n",
        "  u2 = deconv(u1, c1, 32, (3, 3))\r\n",
        "\r\n",
        "  x = Flatten()(u2)\r\n",
        "  x = Dense(1024, activation='relu')(x)\r\n",
        "  x = Dropout(0.4)(x)\r\n",
        "  x = Dense(K, activation='softmax')(x)\r\n",
        "\r\n",
        "  return Model(i, x)"
      ],
      "execution_count": 143,
      "outputs": []
    },
    {
      "cell_type": "code",
      "metadata": {
        "id": "EHv0gYu339u5"
      },
      "source": [
        "adam = tf.keras.optimizers.Adam(\r\n",
        "    learning_rate=0.00001, beta_1=0.8, beta_2=0.9, epsilon=1e-07, amsgrad=False,\r\n",
        "    name='Adam'\r\n",
        ")"
      ],
      "execution_count": 144,
      "outputs": []
    },
    {
      "cell_type": "markdown",
      "metadata": {
        "id": "tH41q6bbhC_o"
      },
      "source": [
        "### Configuração do modelo"
      ]
    },
    {
      "cell_type": "code",
      "metadata": {
        "id": "TF1WzSVUfUMi"
      },
      "source": [
        "model = unet(x_train)\r\n",
        "\r\n",
        "model.compile(optimizer=adam,\r\n",
        "              loss='sparse_categorical_crossentropy',\r\n",
        "              metrics=['accuracy'])\r\n",
        "\r\n",
        "callbacks = [\r\n",
        "    EarlyStopping(patience=10, verbose=1),\r\n",
        "    ReduceLROnPlateau(factor=0.1, patience=5, min_lr=0.0000001, verbose=1),\r\n",
        "    ModelCheckpoint('unet_classifier.h5', verbose=1, save_best_only=True, save_weights_only=True)\r\n",
        "]"
      ],
      "execution_count": 145,
      "outputs": []
    },
    {
      "cell_type": "code",
      "metadata": {
        "colab": {
          "base_uri": "https://localhost:8080/"
        },
        "id": "qh422KE8hh0o",
        "outputId": "8bd80412-b367-42d2-eb68-73637a346076"
      },
      "source": [
        "model.summary()"
      ],
      "execution_count": 146,
      "outputs": [
        {
          "output_type": "stream",
          "text": [
            "Model: \"model_14\"\n",
            "__________________________________________________________________________________________________\n",
            "Layer (type)                    Output Shape         Param #     Connected to                     \n",
            "==================================================================================================\n",
            "input_16 (InputLayer)           [(None, 32, 32, 3)]  0                                            \n",
            "__________________________________________________________________________________________________\n",
            "conv2d_111 (Conv2D)             (None, 32, 32, 32)   896         input_16[0][0]                   \n",
            "__________________________________________________________________________________________________\n",
            "batch_normalization_111 (BatchN (None, 32, 32, 32)   128         conv2d_111[0][0]                 \n",
            "__________________________________________________________________________________________________\n",
            "conv2d_112 (Conv2D)             (None, 32, 32, 32)   9248        batch_normalization_111[0][0]    \n",
            "__________________________________________________________________________________________________\n",
            "batch_normalization_112 (BatchN (None, 32, 32, 32)   128         conv2d_112[0][0]                 \n",
            "__________________________________________________________________________________________________\n",
            "max_pooling2d_43 (MaxPooling2D) (None, 16, 16, 32)   0           batch_normalization_112[0][0]    \n",
            "__________________________________________________________________________________________________\n",
            "conv2d_113 (Conv2D)             (None, 16, 16, 64)   18496       max_pooling2d_43[0][0]           \n",
            "__________________________________________________________________________________________________\n",
            "batch_normalization_113 (BatchN (None, 16, 16, 64)   256         conv2d_113[0][0]                 \n",
            "__________________________________________________________________________________________________\n",
            "conv2d_114 (Conv2D)             (None, 16, 16, 64)   36928       batch_normalization_113[0][0]    \n",
            "__________________________________________________________________________________________________\n",
            "batch_normalization_114 (BatchN (None, 16, 16, 64)   256         conv2d_114[0][0]                 \n",
            "__________________________________________________________________________________________________\n",
            "max_pooling2d_44 (MaxPooling2D) (None, 8, 8, 64)     0           batch_normalization_114[0][0]    \n",
            "__________________________________________________________________________________________________\n",
            "conv2d_115 (Conv2D)             (None, 8, 8, 128)    73856       max_pooling2d_44[0][0]           \n",
            "__________________________________________________________________________________________________\n",
            "batch_normalization_115 (BatchN (None, 8, 8, 128)    512         conv2d_115[0][0]                 \n",
            "__________________________________________________________________________________________________\n",
            "conv2d_116 (Conv2D)             (None, 8, 8, 128)    147584      batch_normalization_115[0][0]    \n",
            "__________________________________________________________________________________________________\n",
            "batch_normalization_116 (BatchN (None, 8, 8, 128)    512         conv2d_116[0][0]                 \n",
            "__________________________________________________________________________________________________\n",
            "max_pooling2d_45 (MaxPooling2D) (None, 4, 4, 128)    0           batch_normalization_116[0][0]    \n",
            "__________________________________________________________________________________________________\n",
            "conv2d_transpose_28 (Conv2DTran (None, 8, 8, 64)     73792       max_pooling2d_45[0][0]           \n",
            "__________________________________________________________________________________________________\n",
            "concatenate_28 (Concatenate)    (None, 8, 8, 128)    0           conv2d_transpose_28[0][0]        \n",
            "                                                                 max_pooling2d_44[0][0]           \n",
            "__________________________________________________________________________________________________\n",
            "dropout_63 (Dropout)            (None, 8, 8, 128)    0           concatenate_28[0][0]             \n",
            "__________________________________________________________________________________________________\n",
            "conv2d_117 (Conv2D)             (None, 8, 8, 64)     73792       dropout_63[0][0]                 \n",
            "__________________________________________________________________________________________________\n",
            "batch_normalization_117 (BatchN (None, 8, 8, 64)     256         conv2d_117[0][0]                 \n",
            "__________________________________________________________________________________________________\n",
            "conv2d_transpose_29 (Conv2DTran (None, 16, 16, 32)   18464       batch_normalization_117[0][0]    \n",
            "__________________________________________________________________________________________________\n",
            "concatenate_29 (Concatenate)    (None, 16, 16, 64)   0           conv2d_transpose_29[0][0]        \n",
            "                                                                 max_pooling2d_43[0][0]           \n",
            "__________________________________________________________________________________________________\n",
            "dropout_64 (Dropout)            (None, 16, 16, 64)   0           concatenate_29[0][0]             \n",
            "__________________________________________________________________________________________________\n",
            "conv2d_118 (Conv2D)             (None, 16, 16, 32)   18464       dropout_64[0][0]                 \n",
            "__________________________________________________________________________________________________\n",
            "batch_normalization_118 (BatchN (None, 16, 16, 32)   128         conv2d_118[0][0]                 \n",
            "__________________________________________________________________________________________________\n",
            "flatten_14 (Flatten)            (None, 8192)         0           batch_normalization_118[0][0]    \n",
            "__________________________________________________________________________________________________\n",
            "dense_44 (Dense)                (None, 1024)         8389632     flatten_14[0][0]                 \n",
            "__________________________________________________________________________________________________\n",
            "dropout_65 (Dropout)            (None, 1024)         0           dense_44[0][0]                   \n",
            "__________________________________________________________________________________________________\n",
            "dense_45 (Dense)                (None, 10)           10250       dropout_65[0][0]                 \n",
            "==================================================================================================\n",
            "Total params: 8,873,578\n",
            "Trainable params: 8,872,490\n",
            "Non-trainable params: 1,088\n",
            "__________________________________________________________________________________________________\n"
          ],
          "name": "stdout"
        }
      ]
    },
    {
      "cell_type": "markdown",
      "metadata": {
        "id": "7qfxznzxhHOw"
      },
      "source": [
        "### Data Augmentation"
      ]
    },
    {
      "cell_type": "code",
      "metadata": {
        "id": "UGwPPiaxghgq"
      },
      "source": [
        "batch_size = 32\r\n",
        "data_generator = tf.keras.preprocessing.image.ImageDataGenerator(width_shift_range=0.1, height_shift_range=0.1, horizontal_flip=True, zoom_range = 0.2)\r\n",
        "train_generator = data_generator.flow(x_train, y_train, batch_size)\r\n",
        "steps_per_epoch = x_train.shape[0] // batch_size"
      ],
      "execution_count": 147,
      "outputs": []
    },
    {
      "cell_type": "code",
      "metadata": {
        "colab": {
          "base_uri": "https://localhost:8080/"
        },
        "id": "oCdWUvEBgRwN",
        "outputId": "31557de3-421f-4fee-c423-2f311cc3396f"
      },
      "source": [
        "history = model.fit(train_generator, validation_data=(x_test, y_test), steps_per_epoch=steps_per_epoch, epochs=100, callbacks=callbacks)"
      ],
      "execution_count": 148,
      "outputs": [
        {
          "output_type": "stream",
          "text": [
            "Epoch 1/100\n",
            "1562/1562 [==============================] - 31s 19ms/step - loss: 2.3221 - accuracy: 0.2654 - val_loss: 1.4884 - val_accuracy: 0.4778\n",
            "\n",
            "Epoch 00001: val_loss improved from inf to 1.48838, saving model to unet_classifier.h5\n",
            "Epoch 2/100\n",
            "1562/1562 [==============================] - 29s 19ms/step - loss: 1.6500 - accuracy: 0.4210 - val_loss: 1.3415 - val_accuracy: 0.5257\n",
            "\n",
            "Epoch 00002: val_loss improved from 1.48838 to 1.34147, saving model to unet_classifier.h5\n",
            "Epoch 3/100\n",
            "1562/1562 [==============================] - 29s 19ms/step - loss: 1.4965 - accuracy: 0.4689 - val_loss: 1.2754 - val_accuracy: 0.5461\n",
            "\n",
            "Epoch 00003: val_loss improved from 1.34147 to 1.27542, saving model to unet_classifier.h5\n",
            "Epoch 4/100\n",
            "1562/1562 [==============================] - 29s 19ms/step - loss: 1.4122 - accuracy: 0.4994 - val_loss: 1.2092 - val_accuracy: 0.5684\n",
            "\n",
            "Epoch 00004: val_loss improved from 1.27542 to 1.20924, saving model to unet_classifier.h5\n",
            "Epoch 5/100\n",
            "1562/1562 [==============================] - 29s 18ms/step - loss: 1.3506 - accuracy: 0.5209 - val_loss: 1.1636 - val_accuracy: 0.5824\n",
            "\n",
            "Epoch 00005: val_loss improved from 1.20924 to 1.16359, saving model to unet_classifier.h5\n",
            "Epoch 6/100\n",
            "1562/1562 [==============================] - 29s 19ms/step - loss: 1.2992 - accuracy: 0.5411 - val_loss: 1.1279 - val_accuracy: 0.5968\n",
            "\n",
            "Epoch 00006: val_loss improved from 1.16359 to 1.12787, saving model to unet_classifier.h5\n",
            "Epoch 7/100\n",
            "1562/1562 [==============================] - 29s 19ms/step - loss: 1.2500 - accuracy: 0.5554 - val_loss: 1.1285 - val_accuracy: 0.5989\n",
            "\n",
            "Epoch 00007: val_loss did not improve from 1.12787\n",
            "Epoch 8/100\n",
            "1562/1562 [==============================] - 29s 19ms/step - loss: 1.2049 - accuracy: 0.5710 - val_loss: 1.0770 - val_accuracy: 0.6190\n",
            "\n",
            "Epoch 00008: val_loss improved from 1.12787 to 1.07701, saving model to unet_classifier.h5\n",
            "Epoch 9/100\n",
            "1562/1562 [==============================] - 29s 19ms/step - loss: 1.1711 - accuracy: 0.5847 - val_loss: 1.0427 - val_accuracy: 0.6298\n",
            "\n",
            "Epoch 00009: val_loss improved from 1.07701 to 1.04270, saving model to unet_classifier.h5\n",
            "Epoch 10/100\n",
            "1562/1562 [==============================] - 29s 18ms/step - loss: 1.1477 - accuracy: 0.5966 - val_loss: 1.0078 - val_accuracy: 0.6473\n",
            "\n",
            "Epoch 00010: val_loss improved from 1.04270 to 1.00785, saving model to unet_classifier.h5\n",
            "Epoch 11/100\n",
            "1562/1562 [==============================] - 29s 19ms/step - loss: 1.1129 - accuracy: 0.6098 - val_loss: 0.9850 - val_accuracy: 0.6529\n",
            "\n",
            "Epoch 00011: val_loss improved from 1.00785 to 0.98496, saving model to unet_classifier.h5\n",
            "Epoch 12/100\n",
            "1562/1562 [==============================] - 29s 19ms/step - loss: 1.0890 - accuracy: 0.6173 - val_loss: 0.9780 - val_accuracy: 0.6526\n",
            "\n",
            "Epoch 00012: val_loss improved from 0.98496 to 0.97797, saving model to unet_classifier.h5\n",
            "Epoch 13/100\n",
            "1562/1562 [==============================] - 29s 19ms/step - loss: 1.0703 - accuracy: 0.6230 - val_loss: 0.9654 - val_accuracy: 0.6578\n",
            "\n",
            "Epoch 00013: val_loss improved from 0.97797 to 0.96542, saving model to unet_classifier.h5\n",
            "Epoch 14/100\n",
            "1562/1562 [==============================] - 29s 19ms/step - loss: 1.0437 - accuracy: 0.6307 - val_loss: 0.9570 - val_accuracy: 0.6677\n",
            "\n",
            "Epoch 00014: val_loss improved from 0.96542 to 0.95700, saving model to unet_classifier.h5\n",
            "Epoch 15/100\n",
            "1562/1562 [==============================] - 29s 19ms/step - loss: 1.0216 - accuracy: 0.6414 - val_loss: 0.9210 - val_accuracy: 0.6755\n",
            "\n",
            "Epoch 00015: val_loss improved from 0.95700 to 0.92100, saving model to unet_classifier.h5\n",
            "Epoch 16/100\n",
            "1562/1562 [==============================] - 29s 19ms/step - loss: 1.0160 - accuracy: 0.6431 - val_loss: 0.9071 - val_accuracy: 0.6825\n",
            "\n",
            "Epoch 00016: val_loss improved from 0.92100 to 0.90712, saving model to unet_classifier.h5\n",
            "Epoch 17/100\n",
            "1562/1562 [==============================] - 29s 19ms/step - loss: 1.0014 - accuracy: 0.6502 - val_loss: 0.9024 - val_accuracy: 0.6840\n",
            "\n",
            "Epoch 00017: val_loss improved from 0.90712 to 0.90239, saving model to unet_classifier.h5\n",
            "Epoch 18/100\n",
            "1562/1562 [==============================] - 29s 19ms/step - loss: 0.9735 - accuracy: 0.6591 - val_loss: 0.8899 - val_accuracy: 0.6906\n",
            "\n",
            "Epoch 00018: val_loss improved from 0.90239 to 0.88994, saving model to unet_classifier.h5\n",
            "Epoch 19/100\n",
            "1562/1562 [==============================] - 29s 19ms/step - loss: 0.9586 - accuracy: 0.6646 - val_loss: 0.8736 - val_accuracy: 0.6953\n",
            "\n",
            "Epoch 00019: val_loss improved from 0.88994 to 0.87361, saving model to unet_classifier.h5\n",
            "Epoch 20/100\n",
            "1562/1562 [==============================] - 29s 19ms/step - loss: 0.9395 - accuracy: 0.6721 - val_loss: 0.8787 - val_accuracy: 0.6949\n",
            "\n",
            "Epoch 00020: val_loss did not improve from 0.87361\n",
            "Epoch 21/100\n",
            "1562/1562 [==============================] - 29s 19ms/step - loss: 0.9359 - accuracy: 0.6735 - val_loss: 0.8453 - val_accuracy: 0.7047\n",
            "\n",
            "Epoch 00021: val_loss improved from 0.87361 to 0.84525, saving model to unet_classifier.h5\n",
            "Epoch 22/100\n",
            "1562/1562 [==============================] - 29s 19ms/step - loss: 0.9178 - accuracy: 0.6830 - val_loss: 0.8355 - val_accuracy: 0.7070\n",
            "\n",
            "Epoch 00022: val_loss improved from 0.84525 to 0.83548, saving model to unet_classifier.h5\n",
            "Epoch 23/100\n",
            "1562/1562 [==============================] - 29s 19ms/step - loss: 0.8928 - accuracy: 0.6878 - val_loss: 0.8555 - val_accuracy: 0.7046\n",
            "\n",
            "Epoch 00023: val_loss did not improve from 0.83548\n",
            "Epoch 24/100\n",
            "1562/1562 [==============================] - 29s 19ms/step - loss: 0.8805 - accuracy: 0.6912 - val_loss: 0.8246 - val_accuracy: 0.7122\n",
            "\n",
            "Epoch 00024: val_loss improved from 0.83548 to 0.82458, saving model to unet_classifier.h5\n",
            "Epoch 25/100\n",
            "1562/1562 [==============================] - 29s 19ms/step - loss: 0.8858 - accuracy: 0.6919 - val_loss: 0.8185 - val_accuracy: 0.7166\n",
            "\n",
            "Epoch 00025: val_loss improved from 0.82458 to 0.81854, saving model to unet_classifier.h5\n",
            "Epoch 26/100\n",
            "1562/1562 [==============================] - 29s 19ms/step - loss: 0.8715 - accuracy: 0.6936 - val_loss: 0.8165 - val_accuracy: 0.7167\n",
            "\n",
            "Epoch 00026: val_loss improved from 0.81854 to 0.81651, saving model to unet_classifier.h5\n",
            "Epoch 27/100\n",
            "1562/1562 [==============================] - 29s 19ms/step - loss: 0.8603 - accuracy: 0.7047 - val_loss: 0.8165 - val_accuracy: 0.7186\n",
            "\n",
            "Epoch 00027: val_loss improved from 0.81651 to 0.81647, saving model to unet_classifier.h5\n",
            "Epoch 28/100\n",
            "1562/1562 [==============================] - 30s 19ms/step - loss: 0.8363 - accuracy: 0.7081 - val_loss: 0.8022 - val_accuracy: 0.7230\n",
            "\n",
            "Epoch 00028: val_loss improved from 0.81647 to 0.80221, saving model to unet_classifier.h5\n",
            "Epoch 29/100\n",
            "1562/1562 [==============================] - 29s 19ms/step - loss: 0.8291 - accuracy: 0.7120 - val_loss: 0.7829 - val_accuracy: 0.7293\n",
            "\n",
            "Epoch 00029: val_loss improved from 0.80221 to 0.78294, saving model to unet_classifier.h5\n",
            "Epoch 30/100\n",
            "1562/1562 [==============================] - 29s 19ms/step - loss: 0.8409 - accuracy: 0.7057 - val_loss: 0.7885 - val_accuracy: 0.7243\n",
            "\n",
            "Epoch 00030: val_loss did not improve from 0.78294\n",
            "Epoch 31/100\n",
            "1562/1562 [==============================] - 30s 19ms/step - loss: 0.8241 - accuracy: 0.7140 - val_loss: 0.7781 - val_accuracy: 0.7338\n",
            "\n",
            "Epoch 00031: val_loss improved from 0.78294 to 0.77814, saving model to unet_classifier.h5\n",
            "Epoch 32/100\n",
            "1562/1562 [==============================] - 29s 19ms/step - loss: 0.8147 - accuracy: 0.7156 - val_loss: 0.7822 - val_accuracy: 0.7278\n",
            "\n",
            "Epoch 00032: val_loss did not improve from 0.77814\n",
            "Epoch 33/100\n",
            "1562/1562 [==============================] - 29s 18ms/step - loss: 0.8053 - accuracy: 0.7172 - val_loss: 0.7581 - val_accuracy: 0.7378\n",
            "\n",
            "Epoch 00033: val_loss improved from 0.77814 to 0.75806, saving model to unet_classifier.h5\n",
            "Epoch 34/100\n",
            "1562/1562 [==============================] - 29s 19ms/step - loss: 0.7918 - accuracy: 0.7245 - val_loss: 0.7544 - val_accuracy: 0.7406\n",
            "\n",
            "Epoch 00034: val_loss improved from 0.75806 to 0.75441, saving model to unet_classifier.h5\n",
            "Epoch 35/100\n",
            "1562/1562 [==============================] - 30s 19ms/step - loss: 0.7856 - accuracy: 0.7256 - val_loss: 0.7669 - val_accuracy: 0.7348\n",
            "\n",
            "Epoch 00035: val_loss did not improve from 0.75441\n",
            "Epoch 36/100\n",
            "1562/1562 [==============================] - 30s 19ms/step - loss: 0.7705 - accuracy: 0.7310 - val_loss: 0.7665 - val_accuracy: 0.7372\n",
            "\n",
            "Epoch 00036: val_loss did not improve from 0.75441\n",
            "Epoch 37/100\n",
            "1562/1562 [==============================] - 30s 19ms/step - loss: 0.7793 - accuracy: 0.7300 - val_loss: 0.7445 - val_accuracy: 0.7459\n",
            "\n",
            "Epoch 00037: val_loss improved from 0.75441 to 0.74453, saving model to unet_classifier.h5\n",
            "Epoch 38/100\n",
            "1562/1562 [==============================] - 30s 19ms/step - loss: 0.7624 - accuracy: 0.7344 - val_loss: 0.7438 - val_accuracy: 0.7431\n",
            "\n",
            "Epoch 00038: val_loss improved from 0.74453 to 0.74385, saving model to unet_classifier.h5\n",
            "Epoch 39/100\n",
            "1562/1562 [==============================] - 30s 19ms/step - loss: 0.7566 - accuracy: 0.7351 - val_loss: 0.7429 - val_accuracy: 0.7455\n",
            "\n",
            "Epoch 00039: val_loss improved from 0.74385 to 0.74289, saving model to unet_classifier.h5\n",
            "Epoch 40/100\n",
            "1562/1562 [==============================] - 29s 19ms/step - loss: 0.7477 - accuracy: 0.7379 - val_loss: 0.7247 - val_accuracy: 0.7500\n",
            "\n",
            "Epoch 00040: val_loss improved from 0.74289 to 0.72474, saving model to unet_classifier.h5\n",
            "Epoch 41/100\n",
            "1562/1562 [==============================] - 30s 19ms/step - loss: 0.7511 - accuracy: 0.7407 - val_loss: 0.7244 - val_accuracy: 0.7482\n",
            "\n",
            "Epoch 00041: val_loss improved from 0.72474 to 0.72437, saving model to unet_classifier.h5\n",
            "Epoch 42/100\n",
            "1562/1562 [==============================] - 29s 19ms/step - loss: 0.7380 - accuracy: 0.7422 - val_loss: 0.7332 - val_accuracy: 0.7461\n",
            "\n",
            "Epoch 00042: val_loss did not improve from 0.72437\n",
            "Epoch 43/100\n",
            "1562/1562 [==============================] - 29s 19ms/step - loss: 0.7380 - accuracy: 0.7447 - val_loss: 0.7486 - val_accuracy: 0.7446\n",
            "\n",
            "Epoch 00043: val_loss did not improve from 0.72437\n",
            "Epoch 44/100\n",
            "1562/1562 [==============================] - 29s 19ms/step - loss: 0.7200 - accuracy: 0.7500 - val_loss: 0.7441 - val_accuracy: 0.7443\n",
            "\n",
            "Epoch 00044: val_loss did not improve from 0.72437\n",
            "Epoch 45/100\n",
            "1562/1562 [==============================] - 30s 19ms/step - loss: 0.7247 - accuracy: 0.7484 - val_loss: 0.7138 - val_accuracy: 0.7549\n",
            "\n",
            "Epoch 00045: val_loss improved from 0.72437 to 0.71376, saving model to unet_classifier.h5\n",
            "Epoch 46/100\n",
            "1562/1562 [==============================] - 29s 19ms/step - loss: 0.7103 - accuracy: 0.7528 - val_loss: 0.7027 - val_accuracy: 0.7590\n",
            "\n",
            "Epoch 00046: val_loss improved from 0.71376 to 0.70267, saving model to unet_classifier.h5\n",
            "Epoch 47/100\n",
            "1562/1562 [==============================] - 29s 19ms/step - loss: 0.7008 - accuracy: 0.7557 - val_loss: 0.7011 - val_accuracy: 0.7630\n",
            "\n",
            "Epoch 00047: val_loss improved from 0.70267 to 0.70107, saving model to unet_classifier.h5\n",
            "Epoch 48/100\n",
            "1562/1562 [==============================] - 29s 19ms/step - loss: 0.6962 - accuracy: 0.7585 - val_loss: 0.7296 - val_accuracy: 0.7509\n",
            "\n",
            "Epoch 00048: val_loss did not improve from 0.70107\n",
            "Epoch 49/100\n",
            "1562/1562 [==============================] - 29s 19ms/step - loss: 0.6885 - accuracy: 0.7612 - val_loss: 0.7128 - val_accuracy: 0.7574\n",
            "\n",
            "Epoch 00049: val_loss did not improve from 0.70107\n",
            "Epoch 50/100\n",
            "1562/1562 [==============================] - 30s 19ms/step - loss: 0.6882 - accuracy: 0.7624 - val_loss: 0.7104 - val_accuracy: 0.7584\n",
            "\n",
            "Epoch 00050: val_loss did not improve from 0.70107\n",
            "Epoch 51/100\n",
            "1562/1562 [==============================] - 30s 19ms/step - loss: 0.6840 - accuracy: 0.7618 - val_loss: 0.7000 - val_accuracy: 0.7600\n",
            "\n",
            "Epoch 00051: val_loss improved from 0.70107 to 0.70004, saving model to unet_classifier.h5\n",
            "Epoch 52/100\n",
            "1562/1562 [==============================] - 30s 19ms/step - loss: 0.6790 - accuracy: 0.7655 - val_loss: 0.7051 - val_accuracy: 0.7596\n",
            "\n",
            "Epoch 00052: val_loss did not improve from 0.70004\n",
            "Epoch 53/100\n",
            "1562/1562 [==============================] - 30s 19ms/step - loss: 0.6768 - accuracy: 0.7646 - val_loss: 0.6897 - val_accuracy: 0.7618\n",
            "\n",
            "Epoch 00053: val_loss improved from 0.70004 to 0.68972, saving model to unet_classifier.h5\n",
            "Epoch 54/100\n",
            "1562/1562 [==============================] - 30s 19ms/step - loss: 0.6685 - accuracy: 0.7652 - val_loss: 0.7017 - val_accuracy: 0.7571\n",
            "\n",
            "Epoch 00054: val_loss did not improve from 0.68972\n",
            "Epoch 55/100\n",
            "1562/1562 [==============================] - 29s 19ms/step - loss: 0.6676 - accuracy: 0.7710 - val_loss: 0.6880 - val_accuracy: 0.7659\n",
            "\n",
            "Epoch 00055: val_loss improved from 0.68972 to 0.68799, saving model to unet_classifier.h5\n",
            "Epoch 56/100\n",
            "1562/1562 [==============================] - 30s 19ms/step - loss: 0.6605 - accuracy: 0.7740 - val_loss: 0.6829 - val_accuracy: 0.7700\n",
            "\n",
            "Epoch 00056: val_loss improved from 0.68799 to 0.68293, saving model to unet_classifier.h5\n",
            "Epoch 57/100\n",
            "1562/1562 [==============================] - 29s 19ms/step - loss: 0.6607 - accuracy: 0.7727 - val_loss: 0.7023 - val_accuracy: 0.7636\n",
            "\n",
            "Epoch 00057: val_loss did not improve from 0.68293\n",
            "Epoch 58/100\n",
            "1562/1562 [==============================] - 30s 19ms/step - loss: 0.6517 - accuracy: 0.7745 - val_loss: 0.7012 - val_accuracy: 0.7643\n",
            "\n",
            "Epoch 00058: val_loss did not improve from 0.68293\n",
            "Epoch 59/100\n",
            "1562/1562 [==============================] - 30s 19ms/step - loss: 0.6442 - accuracy: 0.7764 - val_loss: 0.6690 - val_accuracy: 0.7729\n",
            "\n",
            "Epoch 00059: val_loss improved from 0.68293 to 0.66902, saving model to unet_classifier.h5\n",
            "Epoch 60/100\n",
            "1562/1562 [==============================] - 30s 19ms/step - loss: 0.6351 - accuracy: 0.7818 - val_loss: 0.6848 - val_accuracy: 0.7713\n",
            "\n",
            "Epoch 00060: val_loss did not improve from 0.66902\n",
            "Epoch 61/100\n",
            "1562/1562 [==============================] - 30s 19ms/step - loss: 0.6374 - accuracy: 0.7790 - val_loss: 0.6583 - val_accuracy: 0.7781\n",
            "\n",
            "Epoch 00061: val_loss improved from 0.66902 to 0.65835, saving model to unet_classifier.h5\n",
            "Epoch 62/100\n",
            "1562/1562 [==============================] - 30s 19ms/step - loss: 0.6332 - accuracy: 0.7807 - val_loss: 0.7046 - val_accuracy: 0.7637\n",
            "\n",
            "Epoch 00062: val_loss did not improve from 0.65835\n",
            "Epoch 63/100\n",
            "1562/1562 [==============================] - 29s 19ms/step - loss: 0.6291 - accuracy: 0.7831 - val_loss: 0.6631 - val_accuracy: 0.7774\n",
            "\n",
            "Epoch 00063: val_loss did not improve from 0.65835\n",
            "Epoch 64/100\n",
            "1562/1562 [==============================] - 30s 19ms/step - loss: 0.6265 - accuracy: 0.7837 - val_loss: 0.6449 - val_accuracy: 0.7811\n",
            "\n",
            "Epoch 00064: val_loss improved from 0.65835 to 0.64492, saving model to unet_classifier.h5\n",
            "Epoch 65/100\n",
            "1562/1562 [==============================] - 30s 19ms/step - loss: 0.6218 - accuracy: 0.7850 - val_loss: 0.6765 - val_accuracy: 0.7719\n",
            "\n",
            "Epoch 00065: val_loss did not improve from 0.64492\n",
            "Epoch 66/100\n",
            "1562/1562 [==============================] - 30s 19ms/step - loss: 0.6213 - accuracy: 0.7844 - val_loss: 0.6743 - val_accuracy: 0.7774\n",
            "\n",
            "Epoch 00066: val_loss did not improve from 0.64492\n",
            "Epoch 67/100\n",
            "1562/1562 [==============================] - 30s 19ms/step - loss: 0.6149 - accuracy: 0.7879 - val_loss: 0.6541 - val_accuracy: 0.7824\n",
            "\n",
            "Epoch 00067: val_loss did not improve from 0.64492\n",
            "Epoch 68/100\n",
            "1562/1562 [==============================] - 30s 19ms/step - loss: 0.6094 - accuracy: 0.7906 - val_loss: 0.6467 - val_accuracy: 0.7806\n",
            "\n",
            "Epoch 00068: val_loss did not improve from 0.64492\n",
            "Epoch 69/100\n",
            "1562/1562 [==============================] - 31s 20ms/step - loss: 0.6107 - accuracy: 0.7885 - val_loss: 0.6549 - val_accuracy: 0.7793\n",
            "\n",
            "Epoch 00069: ReduceLROnPlateau reducing learning rate to 9.999999747378752e-07.\n",
            "\n",
            "Epoch 00069: val_loss did not improve from 0.64492\n",
            "Epoch 70/100\n",
            "1562/1562 [==============================] - 31s 20ms/step - loss: 0.6047 - accuracy: 0.7925 - val_loss: 0.6457 - val_accuracy: 0.7833\n",
            "\n",
            "Epoch 00070: val_loss did not improve from 0.64492\n",
            "Epoch 71/100\n",
            "1562/1562 [==============================] - 31s 20ms/step - loss: 0.5865 - accuracy: 0.7950 - val_loss: 0.6428 - val_accuracy: 0.7837\n",
            "\n",
            "Epoch 00071: val_loss improved from 0.64492 to 0.64284, saving model to unet_classifier.h5\n",
            "Epoch 72/100\n",
            "1562/1562 [==============================] - 30s 19ms/step - loss: 0.5807 - accuracy: 0.8022 - val_loss: 0.6437 - val_accuracy: 0.7838\n",
            "\n",
            "Epoch 00072: val_loss did not improve from 0.64284\n",
            "Epoch 73/100\n",
            "1562/1562 [==============================] - 30s 19ms/step - loss: 0.5809 - accuracy: 0.7994 - val_loss: 0.6467 - val_accuracy: 0.7843\n",
            "\n",
            "Epoch 00073: val_loss did not improve from 0.64284\n",
            "Epoch 74/100\n",
            "1562/1562 [==============================] - 30s 19ms/step - loss: 0.5963 - accuracy: 0.7952 - val_loss: 0.6402 - val_accuracy: 0.7850\n",
            "\n",
            "Epoch 00074: val_loss improved from 0.64284 to 0.64021, saving model to unet_classifier.h5\n",
            "Epoch 75/100\n",
            "1562/1562 [==============================] - 30s 20ms/step - loss: 0.5931 - accuracy: 0.7947 - val_loss: 0.6392 - val_accuracy: 0.7857\n",
            "\n",
            "Epoch 00075: val_loss improved from 0.64021 to 0.63923, saving model to unet_classifier.h5\n",
            "Epoch 76/100\n",
            "1562/1562 [==============================] - 31s 20ms/step - loss: 0.5715 - accuracy: 0.8028 - val_loss: 0.6445 - val_accuracy: 0.7843\n",
            "\n",
            "Epoch 00076: val_loss did not improve from 0.63923\n",
            "Epoch 77/100\n",
            "1562/1562 [==============================] - 31s 20ms/step - loss: 0.5843 - accuracy: 0.7963 - val_loss: 0.6355 - val_accuracy: 0.7871\n",
            "\n",
            "Epoch 00077: val_loss improved from 0.63923 to 0.63552, saving model to unet_classifier.h5\n",
            "Epoch 78/100\n",
            "1562/1562 [==============================] - 30s 19ms/step - loss: 0.5805 - accuracy: 0.7998 - val_loss: 0.6433 - val_accuracy: 0.7857\n",
            "\n",
            "Epoch 00078: val_loss did not improve from 0.63552\n",
            "Epoch 79/100\n",
            "1562/1562 [==============================] - 30s 19ms/step - loss: 0.5770 - accuracy: 0.7994 - val_loss: 0.6441 - val_accuracy: 0.7860\n",
            "\n",
            "Epoch 00079: val_loss did not improve from 0.63552\n",
            "Epoch 80/100\n",
            "1562/1562 [==============================] - 30s 19ms/step - loss: 0.5890 - accuracy: 0.7993 - val_loss: 0.6393 - val_accuracy: 0.7866\n",
            "\n",
            "Epoch 00080: val_loss did not improve from 0.63552\n",
            "Epoch 81/100\n",
            "1562/1562 [==============================] - 31s 20ms/step - loss: 0.5758 - accuracy: 0.8007 - val_loss: 0.6401 - val_accuracy: 0.7881\n",
            "\n",
            "Epoch 00081: val_loss did not improve from 0.63552\n",
            "Epoch 82/100\n",
            "1562/1562 [==============================] - 30s 19ms/step - loss: 0.5705 - accuracy: 0.8047 - val_loss: 0.6455 - val_accuracy: 0.7864\n",
            "\n",
            "Epoch 00082: ReduceLROnPlateau reducing learning rate to 1e-07.\n",
            "\n",
            "Epoch 00082: val_loss did not improve from 0.63552\n",
            "Epoch 83/100\n",
            "1562/1562 [==============================] - 30s 19ms/step - loss: 0.5703 - accuracy: 0.8034 - val_loss: 0.6431 - val_accuracy: 0.7874\n",
            "\n",
            "Epoch 00083: val_loss did not improve from 0.63552\n",
            "Epoch 84/100\n",
            "1562/1562 [==============================] - 30s 19ms/step - loss: 0.5929 - accuracy: 0.7977 - val_loss: 0.6415 - val_accuracy: 0.7876\n",
            "\n",
            "Epoch 00084: val_loss did not improve from 0.63552\n",
            "Epoch 85/100\n",
            "1562/1562 [==============================] - 30s 19ms/step - loss: 0.5795 - accuracy: 0.8020 - val_loss: 0.6416 - val_accuracy: 0.7868\n",
            "\n",
            "Epoch 00085: val_loss did not improve from 0.63552\n",
            "Epoch 86/100\n",
            "1562/1562 [==============================] - 30s 19ms/step - loss: 0.5754 - accuracy: 0.7986 - val_loss: 0.6417 - val_accuracy: 0.7860\n",
            "\n",
            "Epoch 00086: val_loss did not improve from 0.63552\n",
            "Epoch 87/100\n",
            "1562/1562 [==============================] - 30s 19ms/step - loss: 0.5820 - accuracy: 0.7990 - val_loss: 0.6404 - val_accuracy: 0.7868\n",
            "\n",
            "Epoch 00087: ReduceLROnPlateau reducing learning rate to 1e-07.\n",
            "\n",
            "Epoch 00087: val_loss did not improve from 0.63552\n",
            "Epoch 00087: early stopping\n"
          ],
          "name": "stdout"
        }
      ]
    },
    {
      "cell_type": "markdown",
      "metadata": {
        "id": "ZBUk4LZiuIOf"
      },
      "source": [
        "### Loss"
      ]
    },
    {
      "cell_type": "code",
      "metadata": {
        "colab": {
          "base_uri": "https://localhost:8080/",
          "height": 282
        },
        "id": "HQWHW66etttH",
        "outputId": "d881bc5c-7057-455d-b7aa-371ac31282c5"
      },
      "source": [
        "plt.plot(history.history['loss'], label='loss')\r\n",
        "plt.plot(history.history['val_loss'], label='val_loss')\r\n",
        "plt.legend()"
      ],
      "execution_count": 149,
      "outputs": [
        {
          "output_type": "execute_result",
          "data": {
            "text/plain": [
              "<matplotlib.legend.Legend at 0x7f7dded29750>"
            ]
          },
          "metadata": {
            "tags": []
          },
          "execution_count": 149
        },
        {
          "output_type": "display_data",
          "data": {
            "image/png": "[encoded data removed]",
            "text/plain": [
              "<Figure size 432x288 with 1 Axes>"
            ]
          },
          "metadata": {
            "tags": [],
            "needs_background": "light"
          }
        }
      ]
    },
    {
      "cell_type": "code",
      "metadata": {
        "colab": {
          "base_uri": "https://localhost:8080/",
          "height": 513
        },
        "id": "hc63D_ROwZEA",
        "outputId": "461ba9bc-0b79-4dd0-c5d9-1783efee18da"
      },
      "source": [
        "plt.figure(figsize=(8, 8))\r\n",
        "plt.title(\"Learning curve\")\r\n",
        "plt.plot(history.history[\"loss\"], label=\"loss\")\r\n",
        "plt.plot(history.history[\"val_loss\"], label=\"val_loss\")\r\n",
        "plt.plot( np.argmin(history.history[\"val_loss\"]), np.min(history.history[\"val_loss\"]), marker=\"x\", color=\"r\", label=\"best model\")\r\n",
        "plt.xlabel(\"Epochs\")\r\n",
        "plt.ylabel(\"log_loss\")\r\n",
        "plt.legend();"
      ],
      "execution_count": 150,
      "outputs": [
        {
          "output_type": "display_data",
          "data": {
            "image/png": "[encoded data removed]",
            "text/plain": [
              "<Figure size 576x576 with 1 Axes>"
            ]
          },
          "metadata": {
            "tags": [],
            "needs_background": "light"
          }
        }
      ]
    },
    {
      "cell_type": "markdown",
      "metadata": {
        "id": "kU_chmEauQZH"
      },
      "source": [
        "### Accuracy"
      ]
    },
    {
      "cell_type": "code",
      "metadata": {
        "colab": {
          "base_uri": "https://localhost:8080/",
          "height": 282
        },
        "id": "rIzeGtETuSzZ",
        "outputId": "3906e6f2-43a9-400a-fde3-602697698aa4"
      },
      "source": [
        "plt.plot(history.history['accuracy'], label='acc')\r\n",
        "plt.plot(history.history['val_accuracy'], label='val_acc')\r\n",
        "plt.legend()"
      ],
      "execution_count": 151,
      "outputs": [
        {
          "output_type": "execute_result",
          "data": {
            "text/plain": [
              "<matplotlib.legend.Legend at 0x7f7ddea8d650>"
            ]
          },
          "metadata": {
            "tags": []
          },
          "execution_count": 151
        },
        {
          "output_type": "display_data",
          "data": {
            "image/png": "[encoded data removed]",
            "text/plain": [
              "<Figure size 432x288 with 1 Axes>"
            ]
          },
          "metadata": {
            "tags": [],
            "needs_background": "light"
          }
        }
      ]
    },
    {
      "cell_type": "markdown",
      "metadata": {
        "id": "PoDp7Zfkufko"
      },
      "source": [
        "### Confusion Matrix"
      ]
    },
    {
      "cell_type": "code",
      "metadata": {
        "colab": {
          "base_uri": "https://localhost:8080/",
          "height": 496
        },
        "id": "ntzFmxIHuivo",
        "outputId": "1e8ff117-8083-4ad3-d3e3-3e1ecead20d6"
      },
      "source": [
        "def plot_confusion_matrix(cm, classes,\r\n",
        "                          normalize=False,\r\n",
        "                          title='Confusion matrix',\r\n",
        "                          cmap=plt.cm.Blues):\r\n",
        "  \"\"\"\r\n",
        "  This function prints and plots the confusion matrix.\r\n",
        "  Normalization can be applied by setting `normalize=True`.\r\n",
        "  \"\"\"\r\n",
        "  if normalize:\r\n",
        "      cm = cm.astype('float') / cm.sum(axis=1)[:, np.newaxis]\r\n",
        "      print(\"Normalized confusion matrix\")\r\n",
        "  else:\r\n",
        "      print('Confusion matrix, without normalization')\r\n",
        "\r\n",
        "  print(cm)\r\n",
        "\r\n",
        "  plt.imshow(cm, interpolation='nearest', cmap=cmap)\r\n",
        "  plt.title(title)\r\n",
        "  plt.colorbar()\r\n",
        "  tick_marks = np.arange(len(classes))\r\n",
        "  plt.xticks(tick_marks, classes, rotation=45)\r\n",
        "  plt.yticks(tick_marks, classes)\r\n",
        "\r\n",
        "  fmt = '.2f' if normalize else 'd'\r\n",
        "  thresh = cm.max() / 2.\r\n",
        "  for i, j in itertools.product(range(cm.shape[0]), range(cm.shape[1])):\r\n",
        "      plt.text(j, i, format(cm[i, j], fmt),\r\n",
        "               horizontalalignment=\"center\",\r\n",
        "               color=\"white\" if cm[i, j] > thresh else \"black\")\r\n",
        "\r\n",
        "  plt.tight_layout()\r\n",
        "  plt.ylabel('True label')\r\n",
        "  plt.xlabel('Predicted label')\r\n",
        "  plt.show()\r\n",
        "\r\n",
        "\r\n",
        "p_test = model.predict(x_test).argmax(axis=1)\r\n",
        "cm = confusion_matrix(y_test, p_test)\r\n",
        "plot_confusion_matrix(cm, list(range(10)))"
      ],
      "execution_count": 152,
      "outputs": [
        {
          "output_type": "stream",
          "text": [
            "Confusion matrix, without normalization\n",
            "[[828  18  23  10  21   4  18   7  33  38]\n",
            " [  8 904   1   0   1   1  13   0   8  64]\n",
            " [ 47   4 668  29  64  33 115  23   4  13]\n",
            " [ 18   9  55 547  63  99 145  32  15  17]\n",
            " [ 12   2  48  19 741  13 114  44   6   1]\n",
            " [ 10   4  32 147  47 641  73  36   5   5]\n",
            " [  3   3  16  16   7   7 940   3   3   2]\n",
            " [ 12   2  19  18  42  28  25 839   2  13]\n",
            " [ 51  32   6   3   5   1  10   4 857  31]\n",
            " [ 17  46   3   3   2   0   7   8  11 903]]\n"
          ],
          "name": "stdout"
        },
        {
          "output_type": "display_data",
          "data": {
            "image/png": "[encoded data removed]",
            "text/plain": [
              "<Figure size 432x288 with 2 Axes>"
            ]
          },
          "metadata": {
            "tags": [],
            "needs_background": "light"
          }
        }
      ]
    },
    {
      "cell_type": "code",
      "metadata": {
        "colab": {
          "base_uri": "https://localhost:8080/"
        },
        "id": "aH_3BmI4caUT",
        "outputId": "addd1e27-90a7-43e0-eb37-235d0e54fc1a"
      },
      "source": [
        "from sklearn.metrics import classification_report\r\n",
        "print(classification_report(y_test, p_test))"
      ],
      "execution_count": 153,
      "outputs": [
        {
          "output_type": "stream",
          "text": [
            "              precision    recall  f1-score   support\n",
            "\n",
            "           0       0.82      0.83      0.83      1000\n",
            "           1       0.88      0.90      0.89      1000\n",
            "           2       0.77      0.67      0.71      1000\n",
            "           3       0.69      0.55      0.61      1000\n",
            "           4       0.75      0.74      0.74      1000\n",
            "           5       0.78      0.64      0.70      1000\n",
            "           6       0.64      0.94      0.76      1000\n",
            "           7       0.84      0.84      0.84      1000\n",
            "           8       0.91      0.86      0.88      1000\n",
            "           9       0.83      0.90      0.87      1000\n",
            "\n",
            "    accuracy                           0.79     10000\n",
            "   macro avg       0.79      0.79      0.78     10000\n",
            "weighted avg       0.79      0.79      0.78     10000\n",
            "\n"
          ],
          "name": "stdout"
        }
      ]
    },
    {
      "cell_type": "code",
      "metadata": {
        "colab": {
          "base_uri": "https://localhost:8080/"
        },
        "id": "QtiT-OB0i0B6",
        "outputId": "a35362de-4405-40fd-b42c-2d4b91a0e46f"
      },
      "source": [
        "loss, val_acc = model.evaluate(x_test, y_test, verbose=1)\r\n",
        "\r\n",
        "print(\"Loss: \", loss)\r\n",
        "print(\"Validation Accuracy: \", val_acc)"
      ],
      "execution_count": 154,
      "outputs": [
        {
          "output_type": "stream",
          "text": [
            "313/313 [==============================] - 1s 3ms/step - loss: 0.6404 - accuracy: 0.7868\n",
            "Loss:  0.6404256820678711\n",
            "Validation Accuracy:  0.7868000268936157\n"
          ],
          "name": "stdout"
        }
      ]
    },
    {
      "cell_type": "markdown",
      "metadata": {
        "id": "gh5AYb5suxCg"
      },
      "source": [
        "### Verificar erros do modelo"
      ]
    },
    {
      "cell_type": "code",
      "metadata": {
        "id": "i5_CRikMu8_X"
      },
      "source": [
        "labels = '''avião\r\n",
        "automóvel\r\n",
        "pássaro\r\n",
        "gato\r\n",
        "veado\r\n",
        "cachorro\r\n",
        "sapo\r\n",
        "cavalo\r\n",
        "barco\r\n",
        "caminhão'''.split()"
      ],
      "execution_count": 66,
      "outputs": []
    },
    {
      "cell_type": "code",
      "metadata": {
        "colab": {
          "base_uri": "https://localhost:8080/",
          "height": 281
        },
        "id": "etpWiYrluzau",
        "outputId": "cb12d6b9-47e6-4f23-d810-f24396fbe30c"
      },
      "source": [
        "misclassified_idx = np.where(p_test != y_test)[0]\r\n",
        "i = np.random.choice(misclassified_idx)\r\n",
        "plt.imshow(x_test[i], cmap='gray')\r\n",
        "plt.title(\"Real: %s Predição: %s\" % (labels[y_test[i]], labels[p_test[i]]));"
      ],
      "execution_count": 90,
      "outputs": [
        {
          "output_type": "display_data",
          "data": {
            "image/png": "[encoded data removed]",
            "text/plain": [
              "<Figure size 432x288 with 1 Axes>"
            ]
          },
          "metadata": {
            "tags": [],
            "needs_background": "light"
          }
        }
      ]
    }
  ]
}