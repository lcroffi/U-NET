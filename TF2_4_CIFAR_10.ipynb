{
  "nbformat": 4,
  "nbformat_minor": 0,
  "metadata": {
    "colab": {
      "name": "TF2.4 CIFAR-10.ipynb",
      "provenance": [],
      "collapsed_sections": [],
      "authorship_tag": "ABX9TyMQERnjcZawD4AD4zhHb1yc"
    },
    "kernelspec": {
      "name": "python3",
      "display_name": "Python 3"
    },
    "accelerator": "GPU"
  },
  "cells": [
    {
      "cell_type": "code",
      "metadata": {
        "id": "A_L-VJ3tS2-W"
      },
      "source": [
        "import numpy as np\r\n",
        "import tensorflow as tf\r\n",
        "import matplotlib.pyplot as plt\r\n",
        "from sklearn.metrics import confusion_matrix\r\n",
        "from tensorflow.keras.layers import Input, Conv2D, Conv2DTranspose, Dense, Flatten, concatenate, Dropout, MaxPooling2D, BatchNormalization\r\n",
        "from tensorflow.keras.callbacks import EarlyStopping, ModelCheckpoint, ReduceLROnPlateau\r\n",
        "from tensorflow.keras.models import Model\r\n",
        "import itertools"
      ],
      "execution_count": 1,
      "outputs": []
    },
    {
      "cell_type": "code",
      "metadata": {
        "colab": {
          "base_uri": "https://localhost:8080/",
          "height": 35
        },
        "id": "tELnxdwm1JwJ",
        "outputId": "bd7f4cbe-bbe0-40e5-b264-6ca9990b6c9d"
      },
      "source": [
        "tf.__version__"
      ],
      "execution_count": 80,
      "outputs": [
        {
          "output_type": "execute_result",
          "data": {
            "application/vnd.google.colaboratory.intrinsic+json": {
              "type": "string"
            },
            "text/plain": [
              "'2.4.1'"
            ]
          },
          "metadata": {
            "tags": []
          },
          "execution_count": 80
        }
      ]
    },
    {
      "cell_type": "markdown",
      "metadata": {
        "id": "b1sgBh4ZWS3o"
      },
      "source": [
        "### Carregando o dataset CIFAR de 10 classes do Tensorflow"
      ]
    },
    {
      "cell_type": "code",
      "metadata": {
        "colab": {
          "base_uri": "https://localhost:8080/"
        },
        "id": "KCXnzvhiWODq",
        "outputId": "d4581915-10b0-4e91-fc98-027517ca3caa"
      },
      "source": [
        "cifar10 = tf.keras.datasets.cifar10\r\n",
        "\r\n",
        "(x_train, y_train), (x_test, y_test) = cifar10.load_data()\r\n",
        "x_train, x_test = x_train / 255.0, x_test / 255.0\r\n",
        "y_train, y_test = y_train.flatten(), y_test.flatten()\r\n",
        "print(\"x_train.shape:\", x_train.shape)\r\n",
        "print(\"y_train.shape\", y_train.shape)"
      ],
      "execution_count": 2,
      "outputs": [
        {
          "output_type": "stream",
          "text": [
            "Downloading data from https://www.cs.toronto.edu/~kriz/cifar-10-python.tar.gz\n",
            "170500096/170498071 [==============================] - 2s 0us/step\n",
            "x_train.shape: (50000, 32, 32, 3)\n",
            "y_train.shape (50000,)\n"
          ],
          "name": "stdout"
        }
      ]
    },
    {
      "cell_type": "code",
      "metadata": {
        "colab": {
          "base_uri": "https://localhost:8080/"
        },
        "id": "xJU6j_moWdTn",
        "outputId": "78792a63-81ae-4a5e-c9b7-274aff8b2431"
      },
      "source": [
        "K = len(set(y_train))\r\n",
        "print(\"número de classes:\", K)"
      ],
      "execution_count": 3,
      "outputs": [
        {
          "output_type": "stream",
          "text": [
            "número de classes: 10\n"
          ],
          "name": "stdout"
        }
      ]
    },
    {
      "cell_type": "code",
      "metadata": {
        "id": "415eBdyvWpow"
      },
      "source": [
        "def conv(layer, filter, kernel):\r\n",
        "  x = Conv2D(filter, kernel, activation='relu', padding='same')(layer)\r\n",
        "  x = BatchNormalization()(x)\r\n",
        "  x = Conv2D(filter, kernel, activation='relu', padding='same')(x)\r\n",
        "  x = BatchNormalization()(x)\r\n",
        "  x = MaxPooling2D((2, 2))(x)\r\n",
        "  \r\n",
        "  return x"
      ],
      "execution_count": 4,
      "outputs": []
    },
    {
      "cell_type": "code",
      "metadata": {
        "id": "J6DAVUDFbPLq"
      },
      "source": [
        "def deconv(layer, conv_layer, filter, kernel):\r\n",
        "  x = Conv2DTranspose(filter, kernel, strides = (2, 2), padding = 'same')(layer)\r\n",
        "  x = concatenate([x, conv_layer])\r\n",
        "  x = Dropout(0.1)(x)\r\n",
        "  x = Conv2D(filter, kernel, activation='relu', padding='same')(x)\r\n",
        "  x = BatchNormalization()(x)\r\n",
        "\r\n",
        "  return x"
      ],
      "execution_count": 5,
      "outputs": []
    },
    {
      "cell_type": "code",
      "metadata": {
        "id": "0mcqFeKGYuuo"
      },
      "source": [
        "def unet(x_train):\r\n",
        "  i = Input(shape=x_train[0].shape)\r\n",
        "\r\n",
        "  c1 = conv(i, 32, (3,3))\r\n",
        "  c2 = conv(c1, 64, (3,3))\r\n",
        "  c3 = conv(c2, 128, (3, 3))\r\n",
        "\r\n",
        "  u1 = deconv(c3, c2, 64, (3, 3))\r\n",
        "  u2 = deconv(u1, c1, 32, (3, 3))\r\n",
        "\r\n",
        "  x = Flatten()(u2)\r\n",
        "  x = Dense(4096, activation='relu')(x)\r\n",
        "  x = Dropout(0.8)(x)\r\n",
        "  x = Dense(2048, activation='relu')(x)\r\n",
        "  x = Dropout(0.4)(x)\r\n",
        "  x = Dense(1024, activation='relu')(x)\r\n",
        "  x = Dropout(0.2)(x)\r\n",
        "  x = Dense(K, activation='softmax')(x)\r\n",
        "\r\n",
        "  return Model(i, x)"
      ],
      "execution_count": 53,
      "outputs": []
    },
    {
      "cell_type": "code",
      "metadata": {
        "id": "EHv0gYu339u5"
      },
      "source": [
        "adam = tf.keras.optimizers.Adam(\r\n",
        "    learning_rate=0.00001, beta_1=0.8, beta_2=0.9, epsilon=1e-07, amsgrad=False,\r\n",
        "    name='Adam'\r\n",
        ")"
      ],
      "execution_count": 69,
      "outputs": []
    },
    {
      "cell_type": "markdown",
      "metadata": {
        "id": "tH41q6bbhC_o"
      },
      "source": [
        "### Configuração do modelo"
      ]
    },
    {
      "cell_type": "code",
      "metadata": {
        "id": "TF1WzSVUfUMi"
      },
      "source": [
        "model = unet(x_train)\r\n",
        "\r\n",
        "model.compile(optimizer=adam,\r\n",
        "              loss='sparse_categorical_crossentropy',\r\n",
        "              metrics=['accuracy'])\r\n",
        "\r\n",
        "callbacks = [\r\n",
        "    EarlyStopping(patience=10, verbose=1),\r\n",
        "    ReduceLROnPlateau(factor=0.1, patience=5, min_lr=0.0000001, verbose=1),\r\n",
        "    ModelCheckpoint('unet_classifier.h5', verbose=1, save_best_only=True, save_weights_only=True)\r\n",
        "]"
      ],
      "execution_count": 70,
      "outputs": []
    },
    {
      "cell_type": "code",
      "metadata": {
        "colab": {
          "base_uri": "https://localhost:8080/"
        },
        "id": "qh422KE8hh0o",
        "outputId": "f8ea4b60-e202-4dc0-98b6-a022e337c45a"
      },
      "source": [
        "model.summary()"
      ],
      "execution_count": 71,
      "outputs": [
        {
          "output_type": "stream",
          "text": [
            "Model: \"model_7\"\n",
            "__________________________________________________________________________________________________\n",
            "Layer (type)                    Output Shape         Param #     Connected to                     \n",
            "==================================================================================================\n",
            "input_8 (InputLayer)            [(None, 32, 32, 3)]  0                                            \n",
            "__________________________________________________________________________________________________\n",
            "conv2d_56 (Conv2D)              (None, 32, 32, 32)   896         input_8[0][0]                    \n",
            "__________________________________________________________________________________________________\n",
            "batch_normalization_56 (BatchNo (None, 32, 32, 32)   128         conv2d_56[0][0]                  \n",
            "__________________________________________________________________________________________________\n",
            "conv2d_57 (Conv2D)              (None, 32, 32, 32)   9248        batch_normalization_56[0][0]     \n",
            "__________________________________________________________________________________________________\n",
            "batch_normalization_57 (BatchNo (None, 32, 32, 32)   128         conv2d_57[0][0]                  \n",
            "__________________________________________________________________________________________________\n",
            "max_pooling2d_21 (MaxPooling2D) (None, 16, 16, 32)   0           batch_normalization_57[0][0]     \n",
            "__________________________________________________________________________________________________\n",
            "conv2d_58 (Conv2D)              (None, 16, 16, 64)   18496       max_pooling2d_21[0][0]           \n",
            "__________________________________________________________________________________________________\n",
            "batch_normalization_58 (BatchNo (None, 16, 16, 64)   256         conv2d_58[0][0]                  \n",
            "__________________________________________________________________________________________________\n",
            "conv2d_59 (Conv2D)              (None, 16, 16, 64)   36928       batch_normalization_58[0][0]     \n",
            "__________________________________________________________________________________________________\n",
            "batch_normalization_59 (BatchNo (None, 16, 16, 64)   256         conv2d_59[0][0]                  \n",
            "__________________________________________________________________________________________________\n",
            "max_pooling2d_22 (MaxPooling2D) (None, 8, 8, 64)     0           batch_normalization_59[0][0]     \n",
            "__________________________________________________________________________________________________\n",
            "conv2d_60 (Conv2D)              (None, 8, 8, 128)    73856       max_pooling2d_22[0][0]           \n",
            "__________________________________________________________________________________________________\n",
            "batch_normalization_60 (BatchNo (None, 8, 8, 128)    512         conv2d_60[0][0]                  \n",
            "__________________________________________________________________________________________________\n",
            "conv2d_61 (Conv2D)              (None, 8, 8, 128)    147584      batch_normalization_60[0][0]     \n",
            "__________________________________________________________________________________________________\n",
            "batch_normalization_61 (BatchNo (None, 8, 8, 128)    512         conv2d_61[0][0]                  \n",
            "__________________________________________________________________________________________________\n",
            "max_pooling2d_23 (MaxPooling2D) (None, 4, 4, 128)    0           batch_normalization_61[0][0]     \n",
            "__________________________________________________________________________________________________\n",
            "conv2d_transpose_14 (Conv2DTran (None, 8, 8, 64)     73792       max_pooling2d_23[0][0]           \n",
            "__________________________________________________________________________________________________\n",
            "concatenate_14 (Concatenate)    (None, 8, 8, 128)    0           conv2d_transpose_14[0][0]        \n",
            "                                                                 max_pooling2d_22[0][0]           \n",
            "__________________________________________________________________________________________________\n",
            "dropout_35 (Dropout)            (None, 8, 8, 128)    0           concatenate_14[0][0]             \n",
            "__________________________________________________________________________________________________\n",
            "conv2d_62 (Conv2D)              (None, 8, 8, 64)     73792       dropout_35[0][0]                 \n",
            "__________________________________________________________________________________________________\n",
            "batch_normalization_62 (BatchNo (None, 8, 8, 64)     256         conv2d_62[0][0]                  \n",
            "__________________________________________________________________________________________________\n",
            "conv2d_transpose_15 (Conv2DTran (None, 16, 16, 32)   18464       batch_normalization_62[0][0]     \n",
            "__________________________________________________________________________________________________\n",
            "concatenate_15 (Concatenate)    (None, 16, 16, 64)   0           conv2d_transpose_15[0][0]        \n",
            "                                                                 max_pooling2d_21[0][0]           \n",
            "__________________________________________________________________________________________________\n",
            "dropout_36 (Dropout)            (None, 16, 16, 64)   0           concatenate_15[0][0]             \n",
            "__________________________________________________________________________________________________\n",
            "conv2d_63 (Conv2D)              (None, 16, 16, 32)   18464       dropout_36[0][0]                 \n",
            "__________________________________________________________________________________________________\n",
            "batch_normalization_63 (BatchNo (None, 16, 16, 32)   128         conv2d_63[0][0]                  \n",
            "__________________________________________________________________________________________________\n",
            "flatten_7 (Flatten)             (None, 8192)         0           batch_normalization_63[0][0]     \n",
            "__________________________________________________________________________________________________\n",
            "dense_28 (Dense)                (None, 4096)         33558528    flatten_7[0][0]                  \n",
            "__________________________________________________________________________________________________\n",
            "dropout_37 (Dropout)            (None, 4096)         0           dense_28[0][0]                   \n",
            "__________________________________________________________________________________________________\n",
            "dense_29 (Dense)                (None, 2048)         8390656     dropout_37[0][0]                 \n",
            "__________________________________________________________________________________________________\n",
            "dropout_38 (Dropout)            (None, 2048)         0           dense_29[0][0]                   \n",
            "__________________________________________________________________________________________________\n",
            "dense_30 (Dense)                (None, 1024)         2098176     dropout_38[0][0]                 \n",
            "__________________________________________________________________________________________________\n",
            "dropout_39 (Dropout)            (None, 1024)         0           dense_30[0][0]                   \n",
            "__________________________________________________________________________________________________\n",
            "dense_31 (Dense)                (None, 10)           10250       dropout_39[0][0]                 \n",
            "==================================================================================================\n",
            "Total params: 44,531,306\n",
            "Trainable params: 44,530,218\n",
            "Non-trainable params: 1,088\n",
            "__________________________________________________________________________________________________\n"
          ],
          "name": "stdout"
        }
      ]
    },
    {
      "cell_type": "markdown",
      "metadata": {
        "id": "7qfxznzxhHOw"
      },
      "source": [
        "### Data Augmentation"
      ]
    },
    {
      "cell_type": "code",
      "metadata": {
        "id": "UGwPPiaxghgq"
      },
      "source": [
        "batch_size = 32\r\n",
        "data_generator = tf.keras.preprocessing.image.ImageDataGenerator(width_shift_range=0.1, height_shift_range=0.1, horizontal_flip=True, zoom_range = 0.2)\r\n",
        "train_generator = data_generator.flow(x_train, y_train, batch_size)\r\n",
        "steps_per_epoch = x_train.shape[0] // batch_size"
      ],
      "execution_count": 72,
      "outputs": []
    },
    {
      "cell_type": "code",
      "metadata": {
        "colab": {
          "base_uri": "https://localhost:8080/"
        },
        "id": "oCdWUvEBgRwN",
        "outputId": "f22a0873-e774-46c0-de40-9c2ee767fc1d"
      },
      "source": [
        "history = model.fit(train_generator, validation_data=(x_test, y_test), steps_per_epoch=steps_per_epoch, epochs=100, callbacks=callbacks)"
      ],
      "execution_count": 73,
      "outputs": [
        {
          "output_type": "stream",
          "text": [
            "Epoch 1/100\n",
            "1562/1562 [==============================] - 34s 21ms/step - loss: 2.8799 - accuracy: 0.1691 - val_loss: 1.7745 - val_accuracy: 0.3988\n",
            "\n",
            "Epoch 00001: val_loss improved from inf to 1.77448, saving model to unet_classifier.h5\n",
            "Epoch 2/100\n",
            "1562/1562 [==============================] - 33s 21ms/step - loss: 2.0443 - accuracy: 0.2798 - val_loss: 1.6637 - val_accuracy: 0.4355\n",
            "\n",
            "Epoch 00002: val_loss improved from 1.77448 to 1.66366, saving model to unet_classifier.h5\n",
            "Epoch 3/100\n",
            "1562/1562 [==============================] - 33s 21ms/step - loss: 1.8743 - accuracy: 0.3272 - val_loss: 1.5728 - val_accuracy: 0.4571\n",
            "\n",
            "Epoch 00003: val_loss improved from 1.66366 to 1.57283, saving model to unet_classifier.h5\n",
            "Epoch 4/100\n",
            "1562/1562 [==============================] - 33s 21ms/step - loss: 1.7450 - accuracy: 0.3723 - val_loss: 1.4890 - val_accuracy: 0.4747\n",
            "\n",
            "Epoch 00004: val_loss improved from 1.57283 to 1.48902, saving model to unet_classifier.h5\n",
            "Epoch 5/100\n",
            "1562/1562 [==============================] - 34s 22ms/step - loss: 1.6799 - accuracy: 0.3918 - val_loss: 1.4348 - val_accuracy: 0.4899\n",
            "\n",
            "Epoch 00005: val_loss improved from 1.48902 to 1.43480, saving model to unet_classifier.h5\n",
            "Epoch 6/100\n",
            "1562/1562 [==============================] - 33s 21ms/step - loss: 1.6071 - accuracy: 0.4157 - val_loss: 1.3936 - val_accuracy: 0.4964\n",
            "\n",
            "Epoch 00006: val_loss improved from 1.43480 to 1.39361, saving model to unet_classifier.h5\n",
            "Epoch 7/100\n",
            "1562/1562 [==============================] - 33s 21ms/step - loss: 1.5552 - accuracy: 0.4367 - val_loss: 1.3630 - val_accuracy: 0.5037\n",
            "\n",
            "Epoch 00007: val_loss improved from 1.39361 to 1.36295, saving model to unet_classifier.h5\n",
            "Epoch 8/100\n",
            "1562/1562 [==============================] - 34s 21ms/step - loss: 1.5217 - accuracy: 0.4456 - val_loss: 1.3505 - val_accuracy: 0.5134\n",
            "\n",
            "Epoch 00008: val_loss improved from 1.36295 to 1.35051, saving model to unet_classifier.h5\n",
            "Epoch 9/100\n",
            "1562/1562 [==============================] - 33s 21ms/step - loss: 1.4901 - accuracy: 0.4606 - val_loss: 1.3103 - val_accuracy: 0.5240\n",
            "\n",
            "Epoch 00009: val_loss improved from 1.35051 to 1.31035, saving model to unet_classifier.h5\n",
            "Epoch 10/100\n",
            "1562/1562 [==============================] - 33s 21ms/step - loss: 1.4547 - accuracy: 0.4740 - val_loss: 1.3072 - val_accuracy: 0.5325\n",
            "\n",
            "Epoch 00010: val_loss improved from 1.31035 to 1.30716, saving model to unet_classifier.h5\n",
            "Epoch 11/100\n",
            "1562/1562 [==============================] - 33s 21ms/step - loss: 1.4234 - accuracy: 0.4870 - val_loss: 1.2722 - val_accuracy: 0.5443\n",
            "\n",
            "Epoch 00011: val_loss improved from 1.30716 to 1.27218, saving model to unet_classifier.h5\n",
            "Epoch 12/100\n",
            "1562/1562 [==============================] - 34s 21ms/step - loss: 1.3998 - accuracy: 0.4931 - val_loss: 1.2457 - val_accuracy: 0.5565\n",
            "\n",
            "Epoch 00012: val_loss improved from 1.27218 to 1.24570, saving model to unet_classifier.h5\n",
            "Epoch 13/100\n",
            "1562/1562 [==============================] - 34s 21ms/step - loss: 1.3692 - accuracy: 0.5028 - val_loss: 1.2289 - val_accuracy: 0.5639\n",
            "\n",
            "Epoch 00013: val_loss improved from 1.24570 to 1.22894, saving model to unet_classifier.h5\n",
            "Epoch 14/100\n",
            "1562/1562 [==============================] - 34s 22ms/step - loss: 1.3470 - accuracy: 0.5142 - val_loss: 1.2293 - val_accuracy: 0.5621\n",
            "\n",
            "Epoch 00014: val_loss did not improve from 1.22894\n",
            "Epoch 15/100\n",
            "1562/1562 [==============================] - 33s 21ms/step - loss: 1.3314 - accuracy: 0.5223 - val_loss: 1.1833 - val_accuracy: 0.5804\n",
            "\n",
            "Epoch 00015: val_loss improved from 1.22894 to 1.18329, saving model to unet_classifier.h5\n",
            "Epoch 16/100\n",
            "1562/1562 [==============================] - 34s 21ms/step - loss: 1.2961 - accuracy: 0.5386 - val_loss: 1.1761 - val_accuracy: 0.5858\n",
            "\n",
            "Epoch 00016: val_loss improved from 1.18329 to 1.17606, saving model to unet_classifier.h5\n",
            "Epoch 17/100\n",
            "1562/1562 [==============================] - 34s 22ms/step - loss: 1.2757 - accuracy: 0.5409 - val_loss: 1.1490 - val_accuracy: 0.5962\n",
            "\n",
            "Epoch 00017: val_loss improved from 1.17606 to 1.14896, saving model to unet_classifier.h5\n",
            "Epoch 18/100\n",
            "1562/1562 [==============================] - 34s 21ms/step - loss: 1.2643 - accuracy: 0.5470 - val_loss: 1.1217 - val_accuracy: 0.6055\n",
            "\n",
            "Epoch 00018: val_loss improved from 1.14896 to 1.12175, saving model to unet_classifier.h5\n",
            "Epoch 19/100\n",
            "1562/1562 [==============================] - 34s 22ms/step - loss: 1.2422 - accuracy: 0.5554 - val_loss: 1.1292 - val_accuracy: 0.6060\n",
            "\n",
            "Epoch 00019: val_loss did not improve from 1.12175\n",
            "Epoch 20/100\n",
            "1562/1562 [==============================] - 33s 21ms/step - loss: 1.2198 - accuracy: 0.5684 - val_loss: 1.1148 - val_accuracy: 0.6121\n",
            "\n",
            "Epoch 00020: val_loss improved from 1.12175 to 1.11484, saving model to unet_classifier.h5\n",
            "Epoch 21/100\n",
            "1562/1562 [==============================] - 34s 22ms/step - loss: 1.2028 - accuracy: 0.5708 - val_loss: 1.1027 - val_accuracy: 0.6160\n",
            "\n",
            "Epoch 00021: val_loss improved from 1.11484 to 1.10273, saving model to unet_classifier.h5\n",
            "Epoch 22/100\n",
            "1562/1562 [==============================] - 34s 22ms/step - loss: 1.1927 - accuracy: 0.5726 - val_loss: 1.0848 - val_accuracy: 0.6216\n",
            "\n",
            "Epoch 00022: val_loss improved from 1.10273 to 1.08484, saving model to unet_classifier.h5\n",
            "Epoch 23/100\n",
            "1562/1562 [==============================] - 34s 22ms/step - loss: 1.1713 - accuracy: 0.5810 - val_loss: 1.0699 - val_accuracy: 0.6267\n",
            "\n",
            "Epoch 00023: val_loss improved from 1.08484 to 1.06990, saving model to unet_classifier.h5\n",
            "Epoch 24/100\n",
            "1562/1562 [==============================] - 33s 21ms/step - loss: 1.1565 - accuracy: 0.5885 - val_loss: 1.0663 - val_accuracy: 0.6337\n",
            "\n",
            "Epoch 00024: val_loss improved from 1.06990 to 1.06635, saving model to unet_classifier.h5\n",
            "Epoch 25/100\n",
            "1562/1562 [==============================] - 34s 21ms/step - loss: 1.1467 - accuracy: 0.5963 - val_loss: 1.0447 - val_accuracy: 0.6353\n",
            "\n",
            "Epoch 00025: val_loss improved from 1.06635 to 1.04469, saving model to unet_classifier.h5\n",
            "Epoch 26/100\n",
            "1562/1562 [==============================] - 34s 22ms/step - loss: 1.1323 - accuracy: 0.5974 - val_loss: 1.0312 - val_accuracy: 0.6426\n",
            "\n",
            "Epoch 00026: val_loss improved from 1.04469 to 1.03125, saving model to unet_classifier.h5\n",
            "Epoch 27/100\n",
            "1562/1562 [==============================] - 34s 22ms/step - loss: 1.1170 - accuracy: 0.6025 - val_loss: 1.0161 - val_accuracy: 0.6474\n",
            "\n",
            "Epoch 00027: val_loss improved from 1.03125 to 1.01614, saving model to unet_classifier.h5\n",
            "Epoch 28/100\n",
            "1562/1562 [==============================] - 34s 22ms/step - loss: 1.1036 - accuracy: 0.6084 - val_loss: 0.9929 - val_accuracy: 0.6566\n",
            "\n",
            "Epoch 00028: val_loss improved from 1.01614 to 0.99287, saving model to unet_classifier.h5\n",
            "Epoch 29/100\n",
            "1562/1562 [==============================] - 34s 22ms/step - loss: 1.0974 - accuracy: 0.6144 - val_loss: 1.0123 - val_accuracy: 0.6491\n",
            "\n",
            "Epoch 00029: val_loss did not improve from 0.99287\n",
            "Epoch 30/100\n",
            "1562/1562 [==============================] - 34s 22ms/step - loss: 1.0821 - accuracy: 0.6173 - val_loss: 0.9808 - val_accuracy: 0.6590\n",
            "\n",
            "Epoch 00030: val_loss improved from 0.99287 to 0.98081, saving model to unet_classifier.h5\n",
            "Epoch 31/100\n",
            "1562/1562 [==============================] - 34s 22ms/step - loss: 1.0769 - accuracy: 0.6173 - val_loss: 0.9825 - val_accuracy: 0.6577\n",
            "\n",
            "Epoch 00031: val_loss did not improve from 0.98081\n",
            "Epoch 32/100\n",
            "1562/1562 [==============================] - 34s 22ms/step - loss: 1.0771 - accuracy: 0.6183 - val_loss: 0.9736 - val_accuracy: 0.6625\n",
            "\n",
            "Epoch 00032: val_loss improved from 0.98081 to 0.97365, saving model to unet_classifier.h5\n",
            "Epoch 33/100\n",
            "1562/1562 [==============================] - 34s 22ms/step - loss: 1.0598 - accuracy: 0.6256 - val_loss: 0.9600 - val_accuracy: 0.6673\n",
            "\n",
            "Epoch 00033: val_loss improved from 0.97365 to 0.95998, saving model to unet_classifier.h5\n",
            "Epoch 34/100\n",
            "1562/1562 [==============================] - 34s 22ms/step - loss: 1.0395 - accuracy: 0.6352 - val_loss: 0.9381 - val_accuracy: 0.6808\n",
            "\n",
            "Epoch 00034: val_loss improved from 0.95998 to 0.93806, saving model to unet_classifier.h5\n",
            "Epoch 35/100\n",
            "1562/1562 [==============================] - 34s 22ms/step - loss: 1.0470 - accuracy: 0.6364 - val_loss: 0.9414 - val_accuracy: 0.6784\n",
            "\n",
            "Epoch 00035: val_loss did not improve from 0.93806\n",
            "Epoch 36/100\n",
            "1562/1562 [==============================] - 34s 22ms/step - loss: 1.0266 - accuracy: 0.6414 - val_loss: 0.9257 - val_accuracy: 0.6838\n",
            "\n",
            "Epoch 00036: val_loss improved from 0.93806 to 0.92567, saving model to unet_classifier.h5\n",
            "Epoch 37/100\n",
            "1562/1562 [==============================] - 34s 22ms/step - loss: 1.0154 - accuracy: 0.6460 - val_loss: 0.9068 - val_accuracy: 0.6874\n",
            "\n",
            "Epoch 00037: val_loss improved from 0.92567 to 0.90685, saving model to unet_classifier.h5\n",
            "Epoch 38/100\n",
            "1562/1562 [==============================] - 34s 22ms/step - loss: 1.0033 - accuracy: 0.6487 - val_loss: 0.9283 - val_accuracy: 0.6828\n",
            "\n",
            "Epoch 00038: val_loss did not improve from 0.90685\n",
            "Epoch 39/100\n",
            "1562/1562 [==============================] - 34s 22ms/step - loss: 1.0128 - accuracy: 0.6434 - val_loss: 0.9294 - val_accuracy: 0.6805\n",
            "\n",
            "Epoch 00039: val_loss did not improve from 0.90685\n",
            "Epoch 40/100\n",
            "1562/1562 [==============================] - 34s 22ms/step - loss: 1.0012 - accuracy: 0.6523 - val_loss: 0.9118 - val_accuracy: 0.6846\n",
            "\n",
            "Epoch 00040: val_loss did not improve from 0.90685\n",
            "Epoch 41/100\n",
            "1562/1562 [==============================] - 34s 22ms/step - loss: 1.0025 - accuracy: 0.6558 - val_loss: 0.9263 - val_accuracy: 0.6845\n",
            "\n",
            "Epoch 00041: val_loss did not improve from 0.90685\n",
            "Epoch 42/100\n",
            "1562/1562 [==============================] - 34s 22ms/step - loss: 0.9805 - accuracy: 0.6576 - val_loss: 0.8952 - val_accuracy: 0.6981\n",
            "\n",
            "Epoch 00042: val_loss improved from 0.90685 to 0.89523, saving model to unet_classifier.h5\n",
            "Epoch 43/100\n",
            "1562/1562 [==============================] - 34s 22ms/step - loss: 0.9915 - accuracy: 0.6537 - val_loss: 0.9025 - val_accuracy: 0.6858\n",
            "\n",
            "Epoch 00043: val_loss did not improve from 0.89523\n",
            "Epoch 44/100\n",
            "1562/1562 [==============================] - 34s 22ms/step - loss: 0.9763 - accuracy: 0.6595 - val_loss: 0.8782 - val_accuracy: 0.6981\n",
            "\n",
            "Epoch 00044: val_loss improved from 0.89523 to 0.87825, saving model to unet_classifier.h5\n",
            "Epoch 45/100\n",
            "1562/1562 [==============================] - 34s 22ms/step - loss: 0.9738 - accuracy: 0.6622 - val_loss: 0.8757 - val_accuracy: 0.7026\n",
            "\n",
            "Epoch 00045: val_loss improved from 0.87825 to 0.87567, saving model to unet_classifier.h5\n",
            "Epoch 46/100\n",
            "1562/1562 [==============================] - 34s 22ms/step - loss: 0.9558 - accuracy: 0.6669 - val_loss: 0.9057 - val_accuracy: 0.6911\n",
            "\n",
            "Epoch 00046: val_loss did not improve from 0.87567\n",
            "Epoch 47/100\n",
            "1562/1562 [==============================] - 34s 22ms/step - loss: 0.9621 - accuracy: 0.6688 - val_loss: 0.8743 - val_accuracy: 0.6989\n",
            "\n",
            "Epoch 00047: val_loss improved from 0.87567 to 0.87430, saving model to unet_classifier.h5\n",
            "Epoch 48/100\n",
            "1562/1562 [==============================] - 34s 22ms/step - loss: 0.9506 - accuracy: 0.6686 - val_loss: 0.8791 - val_accuracy: 0.6991\n",
            "\n",
            "Epoch 00048: val_loss did not improve from 0.87430\n",
            "Epoch 49/100\n",
            "1562/1562 [==============================] - 34s 22ms/step - loss: 0.9483 - accuracy: 0.6676 - val_loss: 0.8539 - val_accuracy: 0.7173\n",
            "\n",
            "Epoch 00049: val_loss improved from 0.87430 to 0.85394, saving model to unet_classifier.h5\n",
            "Epoch 50/100\n",
            "1562/1562 [==============================] - 34s 22ms/step - loss: 0.9321 - accuracy: 0.6766 - val_loss: 0.8379 - val_accuracy: 0.7154\n",
            "\n",
            "Epoch 00050: val_loss improved from 0.85394 to 0.83785, saving model to unet_classifier.h5\n",
            "Epoch 51/100\n",
            "1562/1562 [==============================] - 34s 22ms/step - loss: 0.9297 - accuracy: 0.6808 - val_loss: 0.8680 - val_accuracy: 0.7039\n",
            "\n",
            "Epoch 00051: val_loss did not improve from 0.83785\n",
            "Epoch 52/100\n",
            "1562/1562 [==============================] - 35s 22ms/step - loss: 0.9249 - accuracy: 0.6796 - val_loss: 0.8520 - val_accuracy: 0.7100\n",
            "\n",
            "Epoch 00052: val_loss did not improve from 0.83785\n",
            "Epoch 53/100\n",
            "1562/1562 [==============================] - 34s 21ms/step - loss: 0.9236 - accuracy: 0.6767 - val_loss: 0.8513 - val_accuracy: 0.7116\n",
            "\n",
            "Epoch 00053: val_loss did not improve from 0.83785\n",
            "Epoch 54/100\n",
            "1562/1562 [==============================] - 33s 21ms/step - loss: 0.9263 - accuracy: 0.6780 - val_loss: 0.8238 - val_accuracy: 0.7219\n",
            "\n",
            "Epoch 00054: val_loss improved from 0.83785 to 0.82377, saving model to unet_classifier.h5\n",
            "Epoch 55/100\n",
            "1562/1562 [==============================] - 33s 21ms/step - loss: 0.9205 - accuracy: 0.6812 - val_loss: 0.8626 - val_accuracy: 0.7087\n",
            "\n",
            "Epoch 00055: val_loss did not improve from 0.82377\n",
            "Epoch 56/100\n",
            "1562/1562 [==============================] - 33s 21ms/step - loss: 0.9044 - accuracy: 0.6899 - val_loss: 0.8218 - val_accuracy: 0.7165\n",
            "\n",
            "Epoch 00056: val_loss improved from 0.82377 to 0.82185, saving model to unet_classifier.h5\n",
            "Epoch 57/100\n",
            "1562/1562 [==============================] - 34s 22ms/step - loss: 0.9113 - accuracy: 0.6892 - val_loss: 0.8289 - val_accuracy: 0.7160\n",
            "\n",
            "Epoch 00057: val_loss did not improve from 0.82185\n",
            "Epoch 58/100\n",
            "1562/1562 [==============================] - 33s 21ms/step - loss: 0.8886 - accuracy: 0.6959 - val_loss: 0.8188 - val_accuracy: 0.7241\n",
            "\n",
            "Epoch 00058: val_loss improved from 0.82185 to 0.81881, saving model to unet_classifier.h5\n",
            "Epoch 59/100\n",
            "1562/1562 [==============================] - 34s 22ms/step - loss: 0.8885 - accuracy: 0.6926 - val_loss: 0.8139 - val_accuracy: 0.7213\n",
            "\n",
            "Epoch 00059: val_loss improved from 0.81881 to 0.81389, saving model to unet_classifier.h5\n",
            "Epoch 60/100\n",
            "1562/1562 [==============================] - 34s 22ms/step - loss: 0.9006 - accuracy: 0.6912 - val_loss: 0.8307 - val_accuracy: 0.7200\n",
            "\n",
            "Epoch 00060: val_loss did not improve from 0.81389\n",
            "Epoch 61/100\n",
            "1562/1562 [==============================] - 34s 22ms/step - loss: 0.8883 - accuracy: 0.6925 - val_loss: 0.8007 - val_accuracy: 0.7265\n",
            "\n",
            "Epoch 00061: val_loss improved from 0.81389 to 0.80066, saving model to unet_classifier.h5\n",
            "Epoch 62/100\n",
            "1562/1562 [==============================] - 34s 22ms/step - loss: 0.8811 - accuracy: 0.6958 - val_loss: 0.8079 - val_accuracy: 0.7280\n",
            "\n",
            "Epoch 00062: val_loss did not improve from 0.80066\n",
            "Epoch 63/100\n",
            "1562/1562 [==============================] - 34s 22ms/step - loss: 0.8733 - accuracy: 0.6956 - val_loss: 0.8091 - val_accuracy: 0.7263\n",
            "\n",
            "Epoch 00063: val_loss did not improve from 0.80066\n",
            "Epoch 64/100\n",
            "1562/1562 [==============================] - 34s 22ms/step - loss: 0.8670 - accuracy: 0.6989 - val_loss: 0.7732 - val_accuracy: 0.7375\n",
            "\n",
            "Epoch 00064: val_loss improved from 0.80066 to 0.77318, saving model to unet_classifier.h5\n",
            "Epoch 65/100\n",
            "1562/1562 [==============================] - 34s 22ms/step - loss: 0.8688 - accuracy: 0.6968 - val_loss: 0.7954 - val_accuracy: 0.7331\n",
            "\n",
            "Epoch 00065: val_loss did not improve from 0.77318\n",
            "Epoch 66/100\n",
            "1562/1562 [==============================] - 34s 22ms/step - loss: 0.8675 - accuracy: 0.7004 - val_loss: 0.8154 - val_accuracy: 0.7184\n",
            "\n",
            "Epoch 00066: val_loss did not improve from 0.77318\n",
            "Epoch 67/100\n",
            "1562/1562 [==============================] - 34s 22ms/step - loss: 0.8666 - accuracy: 0.7047 - val_loss: 0.7641 - val_accuracy: 0.7377\n",
            "\n",
            "Epoch 00067: val_loss improved from 0.77318 to 0.76415, saving model to unet_classifier.h5\n",
            "Epoch 68/100\n",
            "1562/1562 [==============================] - 34s 22ms/step - loss: 0.8573 - accuracy: 0.7044 - val_loss: 0.7669 - val_accuracy: 0.7421\n",
            "\n",
            "Epoch 00068: val_loss did not improve from 0.76415\n",
            "Epoch 69/100\n",
            "1562/1562 [==============================] - 34s 22ms/step - loss: 0.8616 - accuracy: 0.7026 - val_loss: 0.7700 - val_accuracy: 0.7381\n",
            "\n",
            "Epoch 00069: val_loss did not improve from 0.76415\n",
            "Epoch 70/100\n",
            "1562/1562 [==============================] - 34s 21ms/step - loss: 0.8450 - accuracy: 0.7093 - val_loss: 0.7513 - val_accuracy: 0.7474\n",
            "\n",
            "Epoch 00070: val_loss improved from 0.76415 to 0.75128, saving model to unet_classifier.h5\n",
            "Epoch 71/100\n",
            "1562/1562 [==============================] - 34s 22ms/step - loss: 0.8478 - accuracy: 0.7051 - val_loss: 0.7785 - val_accuracy: 0.7363\n",
            "\n",
            "Epoch 00071: val_loss did not improve from 0.75128\n",
            "Epoch 72/100\n",
            "1562/1562 [==============================] - 34s 22ms/step - loss: 0.8398 - accuracy: 0.7124 - val_loss: 0.7853 - val_accuracy: 0.7375\n",
            "\n",
            "Epoch 00072: val_loss did not improve from 0.75128\n",
            "Epoch 73/100\n",
            "1562/1562 [==============================] - 34s 22ms/step - loss: 0.8430 - accuracy: 0.7080 - val_loss: 0.7656 - val_accuracy: 0.7412\n",
            "\n",
            "Epoch 00073: val_loss did not improve from 0.75128\n",
            "Epoch 74/100\n",
            "1562/1562 [==============================] - 34s 22ms/step - loss: 0.8451 - accuracy: 0.7108 - val_loss: 0.7596 - val_accuracy: 0.7436\n",
            "\n",
            "Epoch 00074: val_loss did not improve from 0.75128\n",
            "Epoch 75/100\n",
            "1562/1562 [==============================] - 34s 22ms/step - loss: 0.8246 - accuracy: 0.7174 - val_loss: 0.7723 - val_accuracy: 0.7424\n",
            "\n",
            "Epoch 00075: ReduceLROnPlateau reducing learning rate to 9.999999747378752e-07.\n",
            "\n",
            "Epoch 00075: val_loss did not improve from 0.75128\n",
            "Epoch 76/100\n",
            "1562/1562 [==============================] - 34s 22ms/step - loss: 0.8117 - accuracy: 0.7206 - val_loss: 0.7494 - val_accuracy: 0.7477\n",
            "\n",
            "Epoch 00076: val_loss improved from 0.75128 to 0.74940, saving model to unet_classifier.h5\n",
            "Epoch 77/100\n",
            "1562/1562 [==============================] - 34s 22ms/step - loss: 0.7916 - accuracy: 0.7273 - val_loss: 0.7466 - val_accuracy: 0.7498\n",
            "\n",
            "Epoch 00077: val_loss improved from 0.74940 to 0.74663, saving model to unet_classifier.h5\n",
            "Epoch 78/100\n",
            "1562/1562 [==============================] - 34s 22ms/step - loss: 0.7891 - accuracy: 0.7309 - val_loss: 0.7457 - val_accuracy: 0.7527\n",
            "\n",
            "Epoch 00078: val_loss improved from 0.74663 to 0.74570, saving model to unet_classifier.h5\n",
            "Epoch 79/100\n",
            "1562/1562 [==============================] - 34s 22ms/step - loss: 0.7872 - accuracy: 0.7305 - val_loss: 0.7456 - val_accuracy: 0.7517\n",
            "\n",
            "Epoch 00079: val_loss improved from 0.74570 to 0.74562, saving model to unet_classifier.h5\n",
            "Epoch 80/100\n",
            "1562/1562 [==============================] - 34s 22ms/step - loss: 0.7922 - accuracy: 0.7276 - val_loss: 0.7437 - val_accuracy: 0.7519\n",
            "\n",
            "Epoch 00080: val_loss improved from 0.74562 to 0.74370, saving model to unet_classifier.h5\n",
            "Epoch 81/100\n",
            "1562/1562 [==============================] - 34s 22ms/step - loss: 0.7797 - accuracy: 0.7321 - val_loss: 0.7472 - val_accuracy: 0.7516\n",
            "\n",
            "Epoch 00081: val_loss did not improve from 0.74370\n",
            "Epoch 82/100\n",
            "1562/1562 [==============================] - 34s 22ms/step - loss: 0.7852 - accuracy: 0.7307 - val_loss: 0.7428 - val_accuracy: 0.7530\n",
            "\n",
            "Epoch 00082: val_loss improved from 0.74370 to 0.74277, saving model to unet_classifier.h5\n",
            "Epoch 83/100\n",
            "1562/1562 [==============================] - 34s 22ms/step - loss: 0.7803 - accuracy: 0.7323 - val_loss: 0.7485 - val_accuracy: 0.7529\n",
            "\n",
            "Epoch 00083: val_loss did not improve from 0.74277\n",
            "Epoch 84/100\n",
            "1562/1562 [==============================] - 34s 22ms/step - loss: 0.7853 - accuracy: 0.7327 - val_loss: 0.7461 - val_accuracy: 0.7507\n",
            "\n",
            "Epoch 00084: val_loss did not improve from 0.74277\n",
            "Epoch 85/100\n",
            "1562/1562 [==============================] - 34s 22ms/step - loss: 0.7766 - accuracy: 0.7333 - val_loss: 0.7443 - val_accuracy: 0.7549\n",
            "\n",
            "Epoch 00085: val_loss did not improve from 0.74277\n",
            "Epoch 86/100\n",
            "1562/1562 [==============================] - 34s 22ms/step - loss: 0.7870 - accuracy: 0.7312 - val_loss: 0.7431 - val_accuracy: 0.7527\n",
            "\n",
            "Epoch 00086: val_loss did not improve from 0.74277\n",
            "Epoch 87/100\n",
            "1562/1562 [==============================] - 34s 22ms/step - loss: 0.7748 - accuracy: 0.7378 - val_loss: 0.7476 - val_accuracy: 0.7507\n",
            "\n",
            "Epoch 00087: ReduceLROnPlateau reducing learning rate to 1e-07.\n",
            "\n",
            "Epoch 00087: val_loss did not improve from 0.74277\n",
            "Epoch 88/100\n",
            "1562/1562 [==============================] - 34s 22ms/step - loss: 0.7809 - accuracy: 0.7362 - val_loss: 0.7456 - val_accuracy: 0.7523\n",
            "\n",
            "Epoch 00088: val_loss did not improve from 0.74277\n",
            "Epoch 89/100\n",
            "1562/1562 [==============================] - 34s 22ms/step - loss: 0.7827 - accuracy: 0.7336 - val_loss: 0.7441 - val_accuracy: 0.7529\n",
            "\n",
            "Epoch 00089: val_loss did not improve from 0.74277\n",
            "Epoch 90/100\n",
            "1562/1562 [==============================] - 34s 22ms/step - loss: 0.7809 - accuracy: 0.7343 - val_loss: 0.7447 - val_accuracy: 0.7526\n",
            "\n",
            "Epoch 00090: val_loss did not improve from 0.74277\n",
            "Epoch 91/100\n",
            "1562/1562 [==============================] - 35s 22ms/step - loss: 0.7653 - accuracy: 0.7385 - val_loss: 0.7474 - val_accuracy: 0.7518\n",
            "\n",
            "Epoch 00091: val_loss did not improve from 0.74277\n",
            "Epoch 92/100\n",
            "1562/1562 [==============================] - 34s 22ms/step - loss: 0.7748 - accuracy: 0.7344 - val_loss: 0.7453 - val_accuracy: 0.7536\n",
            "\n",
            "Epoch 00092: ReduceLROnPlateau reducing learning rate to 1e-07.\n",
            "\n",
            "Epoch 00092: val_loss did not improve from 0.74277\n",
            "Epoch 00092: early stopping\n"
          ],
          "name": "stdout"
        }
      ]
    },
    {
      "cell_type": "markdown",
      "metadata": {
        "id": "ZBUk4LZiuIOf"
      },
      "source": [
        "### Loss"
      ]
    },
    {
      "cell_type": "code",
      "metadata": {
        "colab": {
          "base_uri": "https://localhost:8080/",
          "height": 282
        },
        "id": "HQWHW66etttH",
        "outputId": "ca580a7d-539e-42c7-bd5c-796d46ec8214"
      },
      "source": [
        "plt.plot(history.history['loss'], label='loss')\r\n",
        "plt.plot(history.history['val_loss'], label='val_loss')\r\n",
        "plt.legend()"
      ],
      "execution_count": 74,
      "outputs": [
        {
          "output_type": "execute_result",
          "data": {
            "text/plain": [
              "<matplotlib.legend.Legend at 0x7f7ee04f2910>"
            ]
          },
          "metadata": {
            "tags": []
          },
          "execution_count": 74
        },
        {
          "output_type": "display_data",
          "data": {
            "image/png": "[encoded data removed]",
            "text/plain": [
              "<Figure size 432x288 with 1 Axes>"
            ]
          },
          "metadata": {
            "tags": [],
            "needs_background": "light"
          }
        }
      ]
    },
    {
      "cell_type": "code",
      "metadata": {
        "colab": {
          "base_uri": "https://localhost:8080/",
          "height": 513
        },
        "id": "hc63D_ROwZEA",
        "outputId": "ccf890f8-5621-4eca-b2f3-ce815115aee0"
      },
      "source": [
        "plt.figure(figsize=(8, 8))\r\n",
        "plt.title(\"Learning curve\")\r\n",
        "plt.plot(history.history[\"loss\"], label=\"loss\")\r\n",
        "plt.plot(history.history[\"val_loss\"], label=\"val_loss\")\r\n",
        "plt.plot( np.argmin(history.history[\"val_loss\"]), np.min(history.history[\"val_loss\"]), marker=\"x\", color=\"r\", label=\"best model\")\r\n",
        "plt.xlabel(\"Epochs\")\r\n",
        "plt.ylabel(\"log_loss\")\r\n",
        "plt.legend();"
      ],
      "execution_count": 75,
      "outputs": [
        {
          "output_type": "display_data",
          "data": {
            "image/png": "[encoded data removed]",
            "text/plain": [
              "<Figure size 576x576 with 1 Axes>"
            ]
          },
          "metadata": {
            "tags": [],
            "needs_background": "light"
          }
        }
      ]
    },
    {
      "cell_type": "markdown",
      "metadata": {
        "id": "kU_chmEauQZH"
      },
      "source": [
        "### Accuracy"
      ]
    },
    {
      "cell_type": "code",
      "metadata": {
        "colab": {
          "base_uri": "https://localhost:8080/",
          "height": 282
        },
        "id": "rIzeGtETuSzZ",
        "outputId": "ffeae1dc-0b1d-4b9c-a1e5-637335d1a9ca"
      },
      "source": [
        "plt.plot(history.history['accuracy'], label='acc')\r\n",
        "plt.plot(history.history['val_accuracy'], label='val_acc')\r\n",
        "plt.legend()"
      ],
      "execution_count": 76,
      "outputs": [
        {
          "output_type": "execute_result",
          "data": {
            "text/plain": [
              "<matplotlib.legend.Legend at 0x7f7ddb31aa10>"
            ]
          },
          "metadata": {
            "tags": []
          },
          "execution_count": 76
        },
        {
          "output_type": "display_data",
          "data": {
            "image/png": "[encoded data removed]",
            "text/plain": [
              "<Figure size 432x288 with 1 Axes>"
            ]
          },
          "metadata": {
            "tags": [],
            "needs_background": "light"
          }
        }
      ]
    },
    {
      "cell_type": "markdown",
      "metadata": {
        "id": "PoDp7Zfkufko"
      },
      "source": [
        "### Confusion Matrix"
      ]
    },
    {
      "cell_type": "code",
      "metadata": {
        "colab": {
          "base_uri": "https://localhost:8080/",
          "height": 496
        },
        "id": "ntzFmxIHuivo",
        "outputId": "7e4dfa4e-048b-4f39-f33a-1150183c755c"
      },
      "source": [
        "def plot_confusion_matrix(cm, classes,\r\n",
        "                          normalize=False,\r\n",
        "                          title='Confusion matrix',\r\n",
        "                          cmap=plt.cm.Blues):\r\n",
        "  \"\"\"\r\n",
        "  This function prints and plots the confusion matrix.\r\n",
        "  Normalization can be applied by setting `normalize=True`.\r\n",
        "  \"\"\"\r\n",
        "  if normalize:\r\n",
        "      cm = cm.astype('float') / cm.sum(axis=1)[:, np.newaxis]\r\n",
        "      print(\"Normalized confusion matrix\")\r\n",
        "  else:\r\n",
        "      print('Confusion matrix, without normalization')\r\n",
        "\r\n",
        "  print(cm)\r\n",
        "\r\n",
        "  plt.imshow(cm, interpolation='nearest', cmap=cmap)\r\n",
        "  plt.title(title)\r\n",
        "  plt.colorbar()\r\n",
        "  tick_marks = np.arange(len(classes))\r\n",
        "  plt.xticks(tick_marks, classes, rotation=45)\r\n",
        "  plt.yticks(tick_marks, classes)\r\n",
        "\r\n",
        "  fmt = '.2f' if normalize else 'd'\r\n",
        "  thresh = cm.max() / 2.\r\n",
        "  for i, j in itertools.product(range(cm.shape[0]), range(cm.shape[1])):\r\n",
        "      plt.text(j, i, format(cm[i, j], fmt),\r\n",
        "               horizontalalignment=\"center\",\r\n",
        "               color=\"white\" if cm[i, j] > thresh else \"black\")\r\n",
        "\r\n",
        "  plt.tight_layout()\r\n",
        "  plt.ylabel('True label')\r\n",
        "  plt.xlabel('Predicted label')\r\n",
        "  plt.show()\r\n",
        "\r\n",
        "\r\n",
        "p_test = model.predict(x_test).argmax(axis=1)\r\n",
        "cm = confusion_matrix(y_test, p_test)\r\n",
        "plot_confusion_matrix(cm, list(range(10)))"
      ],
      "execution_count": 77,
      "outputs": [
        {
          "output_type": "stream",
          "text": [
            "Confusion matrix, without normalization\n",
            "[[745  28  42   6  21   1  17  14  78  48]\n",
            " [  5 865   0   2   0   1   6   3  12 106]\n",
            " [ 60   6 598  29  72  44 135  30  13  13]\n",
            " [ 19  10  42 505  55 147 139  33  24  26]\n",
            " [ 12   3  39  34 684  13 150  52  11   2]\n",
            " [ 14   7  19 143  49 619  75  53   9  12]\n",
            " [  2   4  22  21  11   7 931   0   2   0]\n",
            " [ 12   2  23  21  53  34  27 808   4  16]\n",
            " [ 37  39   2   6   5   0   6   0 866  39]\n",
            " [ 17  34   1   3   1   0  10   5  14 915]]\n"
          ],
          "name": "stdout"
        },
        {
          "output_type": "display_data",
          "data": {
            "image/png": "[encoded data removed]",
            "text/plain": [
              "<Figure size 432x288 with 2 Axes>"
            ]
          },
          "metadata": {
            "tags": [],
            "needs_background": "light"
          }
        }
      ]
    },
    {
      "cell_type": "code",
      "metadata": {
        "colab": {
          "base_uri": "https://localhost:8080/"
        },
        "id": "aH_3BmI4caUT",
        "outputId": "4f6c3bd6-1bf0-4a8d-d274-a024be2e13e0"
      },
      "source": [
        "from sklearn.metrics import classification_report\r\n",
        "print(classification_report(y_test, p_test))"
      ],
      "execution_count": 78,
      "outputs": [
        {
          "output_type": "stream",
          "text": [
            "              precision    recall  f1-score   support\n",
            "\n",
            "           0       0.81      0.74      0.77      1000\n",
            "           1       0.87      0.86      0.87      1000\n",
            "           2       0.76      0.60      0.67      1000\n",
            "           3       0.66      0.51      0.57      1000\n",
            "           4       0.72      0.68      0.70      1000\n",
            "           5       0.71      0.62      0.66      1000\n",
            "           6       0.62      0.93      0.75      1000\n",
            "           7       0.81      0.81      0.81      1000\n",
            "           8       0.84      0.87      0.85      1000\n",
            "           9       0.78      0.92      0.84      1000\n",
            "\n",
            "    accuracy                           0.75     10000\n",
            "   macro avg       0.76      0.75      0.75     10000\n",
            "weighted avg       0.76      0.75      0.75     10000\n",
            "\n"
          ],
          "name": "stdout"
        }
      ]
    },
    {
      "cell_type": "code",
      "metadata": {
        "colab": {
          "base_uri": "https://localhost:8080/"
        },
        "id": "QtiT-OB0i0B6",
        "outputId": "524dd3f9-a489-42d9-a666-0bdc0025c645"
      },
      "source": [
        "loss, val_acc = model.evaluate(x_test, y_test, verbose=1)\r\n",
        "\r\n",
        "print(\"Loss: \", loss)\r\n",
        "print(\"Validation Accuracy: \", val_acc)"
      ],
      "execution_count": 79,
      "outputs": [
        {
          "output_type": "stream",
          "text": [
            "313/313 [==============================] - 1s 4ms/step - loss: 0.7453 - accuracy: 0.7536\n",
            "Loss:  0.7452664971351624\n",
            "Validation Accuracy:  0.753600001335144\n"
          ],
          "name": "stdout"
        }
      ]
    },
    {
      "cell_type": "markdown",
      "metadata": {
        "id": "gh5AYb5suxCg"
      },
      "source": [
        "### Verificar erros do modelo"
      ]
    },
    {
      "cell_type": "code",
      "metadata": {
        "id": "i5_CRikMu8_X"
      },
      "source": [
        "labels = '''avião\r\n",
        "automóvel\r\n",
        "pássaro\r\n",
        "gato\r\n",
        "veado\r\n",
        "cachorro\r\n",
        "sapo\r\n",
        "cavalo\r\n",
        "barco\r\n",
        "caminhão'''.split()"
      ],
      "execution_count": 66,
      "outputs": []
    },
    {
      "cell_type": "code",
      "metadata": {
        "colab": {
          "base_uri": "https://localhost:8080/",
          "height": 281
        },
        "id": "etpWiYrluzau",
        "outputId": "cb12d6b9-47e6-4f23-d810-f24396fbe30c"
      },
      "source": [
        "misclassified_idx = np.where(p_test != y_test)[0]\r\n",
        "i = np.random.choice(misclassified_idx)\r\n",
        "plt.imshow(x_test[i], cmap='gray')\r\n",
        "plt.title(\"Real: %s Predição: %s\" % (labels[y_test[i]], labels[p_test[i]]));"
      ],
      "execution_count": 90,
      "outputs": [
        {
          "output_type": "display_data",
          "data": {
            "image/png": "[encoded data removed]",
            "text/plain": [
              "<Figure size 432x288 with 1 Axes>"
            ]
          },
          "metadata": {
            "tags": [],
            "needs_background": "light"
          }
        }
      ]
    }
  ]
}