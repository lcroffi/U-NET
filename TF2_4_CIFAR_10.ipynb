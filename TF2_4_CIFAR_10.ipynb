{
  "nbformat": 4,
  "nbformat_minor": 0,
  "metadata": {
    "colab": {
      "name": "TF2.4 CIFAR-10.ipynb",
      "provenance": [],
      "collapsed_sections": [],
      "mount_file_id": "1qL8hGaFgq9bMA1hE5FzSt73YfeW2k6Fm",
      "authorship_tag": "ABX9TyMekZKpc/QnwPjCkjOnJr6N"
    },
    "kernelspec": {
      "name": "python3",
      "display_name": "Python 3"
    },
    "accelerator": "GPU"
  },
  "cells": [
    {
      "cell_type": "code",
      "metadata": {
        "id": "A_L-VJ3tS2-W"
      },
      "source": [
        "import numpy as np\r\n",
        "import tensorflow as tf\r\n",
        "import matplotlib.pyplot as plt\r\n",
        "from sklearn.metrics import confusion_matrix\r\n",
        "from tensorflow.keras.layers import Input, Conv2D, Conv2DTranspose, Dense, Flatten, concatenate, Dropout, MaxPooling2D, BatchNormalization\r\n",
        "from tensorflow.keras.callbacks import EarlyStopping, ModelCheckpoint, ReduceLROnPlateau\r\n",
        "from tensorflow.keras.models import Model, load_model\r\n",
        "import itertools"
      ],
      "execution_count": 1,
      "outputs": []
    },
    {
      "cell_type": "code",
      "metadata": {
        "colab": {
          "base_uri": "https://localhost:8080/",
          "height": 35
        },
        "id": "tELnxdwm1JwJ",
        "outputId": "f7d5a94a-6eba-438d-b27f-c7104800bbeb"
      },
      "source": [
        "tf.__version__"
      ],
      "execution_count": 2,
      "outputs": [
        {
          "output_type": "execute_result",
          "data": {
            "application/vnd.google.colaboratory.intrinsic+json": {
              "type": "string"
            },
            "text/plain": [
              "'2.4.1'"
            ]
          },
          "metadata": {
            "tags": []
          },
          "execution_count": 2
        }
      ]
    },
    {
      "cell_type": "markdown",
      "metadata": {
        "id": "b1sgBh4ZWS3o"
      },
      "source": [
        "### Carregando o dataset CIFAR de 10 classes do Tensorflow"
      ]
    },
    {
      "cell_type": "code",
      "metadata": {
        "colab": {
          "base_uri": "https://localhost:8080/"
        },
        "id": "KCXnzvhiWODq",
        "outputId": "c8af6678-58a4-430e-c6ba-9d353bee02a9"
      },
      "source": [
        "cifar10 = tf.keras.datasets.cifar10\r\n",
        "\r\n",
        "(x_train, y_train), (x_test, y_test) = cifar10.load_data()\r\n",
        "x_train, x_test = x_train / 255.0, x_test / 255.0\r\n",
        "y_train, y_test = y_train.flatten(), y_test.flatten()\r\n",
        "print(\"x_train.shape:\", x_train.shape)\r\n",
        "print(\"y_train.shape\", y_train.shape)"
      ],
      "execution_count": 3,
      "outputs": [
        {
          "output_type": "stream",
          "text": [
            "Downloading data from https://www.cs.toronto.edu/~kriz/cifar-10-python.tar.gz\n",
            "170500096/170498071 [==============================] - 2s 0us/step\n",
            "x_train.shape: (50000, 32, 32, 3)\n",
            "y_train.shape (50000,)\n"
          ],
          "name": "stdout"
        }
      ]
    },
    {
      "cell_type": "code",
      "metadata": {
        "colab": {
          "base_uri": "https://localhost:8080/"
        },
        "id": "xJU6j_moWdTn",
        "outputId": "36de9b00-7317-4979-864d-8ab1655b9a9b"
      },
      "source": [
        "K = len(set(y_train))\r\n",
        "print(\"número de classes:\", K)"
      ],
      "execution_count": 4,
      "outputs": [
        {
          "output_type": "stream",
          "text": [
            "número de classes: 10\n"
          ],
          "name": "stdout"
        }
      ]
    },
    {
      "cell_type": "code",
      "metadata": {
        "id": "415eBdyvWpow"
      },
      "source": [
        "def conv(layer, filter, kernel):\r\n",
        "  x = Conv2D(filter, kernel, activation='relu', padding='same')(layer)\r\n",
        "  x = BatchNormalization()(x)\r\n",
        "  x = Conv2D(filter, kernel, activation='relu', padding='same')(x)\r\n",
        "  x = BatchNormalization()(x)\r\n",
        "  x = MaxPooling2D((2, 2))(x)\r\n",
        "  \r\n",
        "  return x"
      ],
      "execution_count": 5,
      "outputs": []
    },
    {
      "cell_type": "code",
      "metadata": {
        "id": "J6DAVUDFbPLq"
      },
      "source": [
        "def deconv(layer, conv_layer, filter, kernel):\r\n",
        "  x = Conv2DTranspose(filter, kernel, strides = (2, 2), padding = 'same')(layer)\r\n",
        "  x = concatenate([x, conv_layer])\r\n",
        "  x = Dropout(0.1)(x)\r\n",
        "  x = Conv2D(filter, kernel, activation='relu', padding='same')(x)\r\n",
        "  x = BatchNormalization()(x)\r\n",
        "\r\n",
        "  return x"
      ],
      "execution_count": 6,
      "outputs": []
    },
    {
      "cell_type": "code",
      "metadata": {
        "id": "0mcqFeKGYuuo"
      },
      "source": [
        "def unet(x_train):\r\n",
        "  i = Input(shape=x_train[0].shape)\r\n",
        "\r\n",
        "  c1 = conv(i, 32, (3,3))\r\n",
        "  c2 = conv(c1, 64, (3,3))\r\n",
        "  c3 = conv(c2, 128, (3, 3))\r\n",
        "\r\n",
        "  u1 = deconv(c3, c2, 64, (3, 3))\r\n",
        "  u2 = deconv(u1, c1, 32, (3, 3))\r\n",
        "\r\n",
        "  x = Flatten()(u2)\r\n",
        "  x = Dense(1024, activation='relu')(x)\r\n",
        "  x = Dropout(0.2)(x)\r\n",
        "  x = Dense(K, activation='softmax')(x)\r\n",
        "\r\n",
        "  return Model(i, x)"
      ],
      "execution_count": 7,
      "outputs": []
    },
    {
      "cell_type": "code",
      "metadata": {
        "id": "EHv0gYu339u5"
      },
      "source": [
        "adam = tf.keras.optimizers.Adam(\r\n",
        "    learning_rate=0.00001, beta_1=0.8, beta_2=0.9, epsilon=1e-07, amsgrad=False,\r\n",
        "    name='Adam'\r\n",
        ")"
      ],
      "execution_count": 8,
      "outputs": []
    },
    {
      "cell_type": "markdown",
      "metadata": {
        "id": "tH41q6bbhC_o"
      },
      "source": [
        "### Configuração do modelo"
      ]
    },
    {
      "cell_type": "code",
      "metadata": {
        "id": "TF1WzSVUfUMi"
      },
      "source": [
        "model = unet(x_train)\r\n",
        "model_path = '/content/drive/MyDrive/Colab Notebooks/Models/unet_classifier.h5'\r\n",
        "\r\n",
        "model.compile(optimizer=adam,\r\n",
        "              loss='sparse_categorical_crossentropy',\r\n",
        "              metrics=['accuracy'])\r\n",
        "\r\n",
        "callbacks = [\r\n",
        "    EarlyStopping(patience=10, verbose=1),\r\n",
        "    ReduceLROnPlateau(factor=0.1, patience=5, min_lr=0.0000001, verbose=1),\r\n",
        "    ModelCheckpoint(model_path, verbose=1, save_best_only=True, save_weights_only=True)\r\n",
        "]"
      ],
      "execution_count": 9,
      "outputs": []
    },
    {
      "cell_type": "code",
      "metadata": {
        "colab": {
          "base_uri": "https://localhost:8080/"
        },
        "id": "qh422KE8hh0o",
        "outputId": "9e9355d6-2f9e-4056-9f28-2327867a743d"
      },
      "source": [
        "model.summary()"
      ],
      "execution_count": 10,
      "outputs": [
        {
          "output_type": "stream",
          "text": [
            "Model: \"model\"\n",
            "__________________________________________________________________________________________________\n",
            "Layer (type)                    Output Shape         Param #     Connected to                     \n",
            "==================================================================================================\n",
            "input_1 (InputLayer)            [(None, 32, 32, 3)]  0                                            \n",
            "__________________________________________________________________________________________________\n",
            "conv2d (Conv2D)                 (None, 32, 32, 32)   896         input_1[0][0]                    \n",
            "__________________________________________________________________________________________________\n",
            "batch_normalization (BatchNorma (None, 32, 32, 32)   128         conv2d[0][0]                     \n",
            "__________________________________________________________________________________________________\n",
            "conv2d_1 (Conv2D)               (None, 32, 32, 32)   9248        batch_normalization[0][0]        \n",
            "__________________________________________________________________________________________________\n",
            "batch_normalization_1 (BatchNor (None, 32, 32, 32)   128         conv2d_1[0][0]                   \n",
            "__________________________________________________________________________________________________\n",
            "max_pooling2d (MaxPooling2D)    (None, 16, 16, 32)   0           batch_normalization_1[0][0]      \n",
            "__________________________________________________________________________________________________\n",
            "conv2d_2 (Conv2D)               (None, 16, 16, 64)   18496       max_pooling2d[0][0]              \n",
            "__________________________________________________________________________________________________\n",
            "batch_normalization_2 (BatchNor (None, 16, 16, 64)   256         conv2d_2[0][0]                   \n",
            "__________________________________________________________________________________________________\n",
            "conv2d_3 (Conv2D)               (None, 16, 16, 64)   36928       batch_normalization_2[0][0]      \n",
            "__________________________________________________________________________________________________\n",
            "batch_normalization_3 (BatchNor (None, 16, 16, 64)   256         conv2d_3[0][0]                   \n",
            "__________________________________________________________________________________________________\n",
            "max_pooling2d_1 (MaxPooling2D)  (None, 8, 8, 64)     0           batch_normalization_3[0][0]      \n",
            "__________________________________________________________________________________________________\n",
            "conv2d_4 (Conv2D)               (None, 8, 8, 128)    73856       max_pooling2d_1[0][0]            \n",
            "__________________________________________________________________________________________________\n",
            "batch_normalization_4 (BatchNor (None, 8, 8, 128)    512         conv2d_4[0][0]                   \n",
            "__________________________________________________________________________________________________\n",
            "conv2d_5 (Conv2D)               (None, 8, 8, 128)    147584      batch_normalization_4[0][0]      \n",
            "__________________________________________________________________________________________________\n",
            "batch_normalization_5 (BatchNor (None, 8, 8, 128)    512         conv2d_5[0][0]                   \n",
            "__________________________________________________________________________________________________\n",
            "max_pooling2d_2 (MaxPooling2D)  (None, 4, 4, 128)    0           batch_normalization_5[0][0]      \n",
            "__________________________________________________________________________________________________\n",
            "conv2d_transpose (Conv2DTranspo (None, 8, 8, 64)     73792       max_pooling2d_2[0][0]            \n",
            "__________________________________________________________________________________________________\n",
            "concatenate (Concatenate)       (None, 8, 8, 128)    0           conv2d_transpose[0][0]           \n",
            "                                                                 max_pooling2d_1[0][0]            \n",
            "__________________________________________________________________________________________________\n",
            "dropout (Dropout)               (None, 8, 8, 128)    0           concatenate[0][0]                \n",
            "__________________________________________________________________________________________________\n",
            "conv2d_6 (Conv2D)               (None, 8, 8, 64)     73792       dropout[0][0]                    \n",
            "__________________________________________________________________________________________________\n",
            "batch_normalization_6 (BatchNor (None, 8, 8, 64)     256         conv2d_6[0][0]                   \n",
            "__________________________________________________________________________________________________\n",
            "conv2d_transpose_1 (Conv2DTrans (None, 16, 16, 32)   18464       batch_normalization_6[0][0]      \n",
            "__________________________________________________________________________________________________\n",
            "concatenate_1 (Concatenate)     (None, 16, 16, 64)   0           conv2d_transpose_1[0][0]         \n",
            "                                                                 max_pooling2d[0][0]              \n",
            "__________________________________________________________________________________________________\n",
            "dropout_1 (Dropout)             (None, 16, 16, 64)   0           concatenate_1[0][0]              \n",
            "__________________________________________________________________________________________________\n",
            "conv2d_7 (Conv2D)               (None, 16, 16, 32)   18464       dropout_1[0][0]                  \n",
            "__________________________________________________________________________________________________\n",
            "batch_normalization_7 (BatchNor (None, 16, 16, 32)   128         conv2d_7[0][0]                   \n",
            "__________________________________________________________________________________________________\n",
            "flatten (Flatten)               (None, 8192)         0           batch_normalization_7[0][0]      \n",
            "__________________________________________________________________________________________________\n",
            "dense (Dense)                   (None, 1024)         8389632     flatten[0][0]                    \n",
            "__________________________________________________________________________________________________\n",
            "dropout_2 (Dropout)             (None, 1024)         0           dense[0][0]                      \n",
            "__________________________________________________________________________________________________\n",
            "dense_1 (Dense)                 (None, 10)           10250       dropout_2[0][0]                  \n",
            "==================================================================================================\n",
            "Total params: 8,873,578\n",
            "Trainable params: 8,872,490\n",
            "Non-trainable params: 1,088\n",
            "__________________________________________________________________________________________________\n"
          ],
          "name": "stdout"
        }
      ]
    },
    {
      "cell_type": "markdown",
      "metadata": {
        "id": "7qfxznzxhHOw"
      },
      "source": [
        "### Data Augmentation"
      ]
    },
    {
      "cell_type": "code",
      "metadata": {
        "id": "UGwPPiaxghgq"
      },
      "source": [
        "batch_size = 32\r\n",
        "data_generator = tf.keras.preprocessing.image.ImageDataGenerator(width_shift_range=0.1, height_shift_range=0.1, horizontal_flip=True, zoom_range = 0.2)\r\n",
        "train_generator = data_generator.flow(x_train, y_train, batch_size)\r\n",
        "steps_per_epoch = x_train.shape[0] // batch_size"
      ],
      "execution_count": 11,
      "outputs": []
    },
    {
      "cell_type": "code",
      "metadata": {
        "colab": {
          "base_uri": "https://localhost:8080/"
        },
        "id": "oCdWUvEBgRwN",
        "outputId": "b36b4f13-24a3-4c8f-fc72-5d65e19a0620"
      },
      "source": [
        "history = model.fit(train_generator, validation_data=(x_test, y_test), steps_per_epoch=steps_per_epoch, epochs=100, callbacks=callbacks)\r\n",
        "\r\n",
        "# Epoch 77/100\r\n",
        "# 1562/1562 [==============================] - 31s 20ms/step - loss: 0.5843 - accuracy: 0.7963 - val_loss: 0.6355 - val_accuracy: 0.7871"
      ],
      "execution_count": 12,
      "outputs": [
        {
          "output_type": "stream",
          "text": [
            "Epoch 1/100\n",
            "1562/1562 [==============================] - 63s 19ms/step - loss: 2.0587 - accuracy: 0.3040 - val_loss: 1.4510 - val_accuracy: 0.4968\n",
            "\n",
            "Epoch 00001: val_loss improved from inf to 1.45101, saving model to /content/drive/MyDrive/Colab Notebooks/Models/unet_classifier.h5\n",
            "Epoch 2/100\n",
            "1562/1562 [==============================] - 30s 19ms/step - loss: 1.5353 - accuracy: 0.4610 - val_loss: 1.2876 - val_accuracy: 0.5471\n",
            "\n",
            "Epoch 00002: val_loss improved from 1.45101 to 1.28755, saving model to /content/drive/MyDrive/Colab Notebooks/Models/unet_classifier.h5\n",
            "Epoch 3/100\n",
            "1562/1562 [==============================] - 30s 19ms/step - loss: 1.3943 - accuracy: 0.5023 - val_loss: 1.2068 - val_accuracy: 0.5762\n",
            "\n",
            "Epoch 00003: val_loss improved from 1.28755 to 1.20684, saving model to /content/drive/MyDrive/Colab Notebooks/Models/unet_classifier.h5\n",
            "Epoch 4/100\n",
            "1562/1562 [==============================] - 30s 19ms/step - loss: 1.3123 - accuracy: 0.5365 - val_loss: 1.1605 - val_accuracy: 0.5874\n",
            "\n",
            "Epoch 00004: val_loss improved from 1.20684 to 1.16052, saving model to /content/drive/MyDrive/Colab Notebooks/Models/unet_classifier.h5\n",
            "Epoch 5/100\n",
            "1562/1562 [==============================] - 31s 20ms/step - loss: 1.2455 - accuracy: 0.5577 - val_loss: 1.1443 - val_accuracy: 0.5967\n",
            "\n",
            "Epoch 00005: val_loss improved from 1.16052 to 1.14428, saving model to /content/drive/MyDrive/Colab Notebooks/Models/unet_classifier.h5\n",
            "Epoch 6/100\n",
            "1562/1562 [==============================] - 30s 19ms/step - loss: 1.1989 - accuracy: 0.5775 - val_loss: 1.0743 - val_accuracy: 0.6227\n",
            "\n",
            "Epoch 00006: val_loss improved from 1.14428 to 1.07428, saving model to /content/drive/MyDrive/Colab Notebooks/Models/unet_classifier.h5\n",
            "Epoch 7/100\n",
            "1562/1562 [==============================] - 31s 20ms/step - loss: 1.1556 - accuracy: 0.5935 - val_loss: 1.0872 - val_accuracy: 0.6199\n",
            "\n",
            "Epoch 00007: val_loss did not improve from 1.07428\n",
            "Epoch 8/100\n",
            "1562/1562 [==============================] - 30s 19ms/step - loss: 1.1245 - accuracy: 0.6024 - val_loss: 1.0739 - val_accuracy: 0.6302\n",
            "\n",
            "Epoch 00008: val_loss improved from 1.07428 to 1.07386, saving model to /content/drive/MyDrive/Colab Notebooks/Models/unet_classifier.h5\n",
            "Epoch 9/100\n",
            "1562/1562 [==============================] - 30s 19ms/step - loss: 1.0732 - accuracy: 0.6197 - val_loss: 1.0378 - val_accuracy: 0.6393\n",
            "\n",
            "Epoch 00009: val_loss improved from 1.07386 to 1.03780, saving model to /content/drive/MyDrive/Colab Notebooks/Models/unet_classifier.h5\n",
            "Epoch 10/100\n",
            "1562/1562 [==============================] - 30s 19ms/step - loss: 1.0583 - accuracy: 0.6287 - val_loss: 1.0204 - val_accuracy: 0.6440\n",
            "\n",
            "Epoch 00010: val_loss improved from 1.03780 to 1.02042, saving model to /content/drive/MyDrive/Colab Notebooks/Models/unet_classifier.h5\n",
            "Epoch 11/100\n",
            "1562/1562 [==============================] - 31s 20ms/step - loss: 1.0215 - accuracy: 0.6398 - val_loss: 0.9818 - val_accuracy: 0.6551\n",
            "\n",
            "Epoch 00011: val_loss improved from 1.02042 to 0.98181, saving model to /content/drive/MyDrive/Colab Notebooks/Models/unet_classifier.h5\n",
            "Epoch 12/100\n",
            "1562/1562 [==============================] - 30s 19ms/step - loss: 0.9953 - accuracy: 0.6546 - val_loss: 0.9882 - val_accuracy: 0.6577\n",
            "\n",
            "Epoch 00012: val_loss did not improve from 0.98181\n",
            "Epoch 13/100\n",
            "1562/1562 [==============================] - 30s 19ms/step - loss: 0.9712 - accuracy: 0.6568 - val_loss: 0.9563 - val_accuracy: 0.6681\n",
            "\n",
            "Epoch 00013: val_loss improved from 0.98181 to 0.95633, saving model to /content/drive/MyDrive/Colab Notebooks/Models/unet_classifier.h5\n",
            "Epoch 14/100\n",
            "1562/1562 [==============================] - 30s 19ms/step - loss: 0.9550 - accuracy: 0.6658 - val_loss: 0.9322 - val_accuracy: 0.6736\n",
            "\n",
            "Epoch 00014: val_loss improved from 0.95633 to 0.93216, saving model to /content/drive/MyDrive/Colab Notebooks/Models/unet_classifier.h5\n",
            "Epoch 15/100\n",
            "1562/1562 [==============================] - 30s 19ms/step - loss: 0.9338 - accuracy: 0.6740 - val_loss: 0.9170 - val_accuracy: 0.6809\n",
            "\n",
            "Epoch 00015: val_loss improved from 0.93216 to 0.91703, saving model to /content/drive/MyDrive/Colab Notebooks/Models/unet_classifier.h5\n",
            "Epoch 16/100\n",
            "1562/1562 [==============================] - 30s 19ms/step - loss: 0.9079 - accuracy: 0.6832 - val_loss: 0.9086 - val_accuracy: 0.6850\n",
            "\n",
            "Epoch 00016: val_loss improved from 0.91703 to 0.90861, saving model to /content/drive/MyDrive/Colab Notebooks/Models/unet_classifier.h5\n",
            "Epoch 17/100\n",
            "1562/1562 [==============================] - 31s 20ms/step - loss: 0.8928 - accuracy: 0.6912 - val_loss: 0.9037 - val_accuracy: 0.6873\n",
            "\n",
            "Epoch 00017: val_loss improved from 0.90861 to 0.90365, saving model to /content/drive/MyDrive/Colab Notebooks/Models/unet_classifier.h5\n",
            "Epoch 18/100\n",
            "1562/1562 [==============================] - 30s 19ms/step - loss: 0.8739 - accuracy: 0.6909 - val_loss: 0.8968 - val_accuracy: 0.6919\n",
            "\n",
            "Epoch 00018: val_loss improved from 0.90365 to 0.89677, saving model to /content/drive/MyDrive/Colab Notebooks/Models/unet_classifier.h5\n",
            "Epoch 19/100\n",
            "1562/1562 [==============================] - 30s 19ms/step - loss: 0.8719 - accuracy: 0.6926 - val_loss: 0.8560 - val_accuracy: 0.7025\n",
            "\n",
            "Epoch 00019: val_loss improved from 0.89677 to 0.85603, saving model to /content/drive/MyDrive/Colab Notebooks/Models/unet_classifier.h5\n",
            "Epoch 20/100\n",
            "1562/1562 [==============================] - 30s 19ms/step - loss: 0.8442 - accuracy: 0.7075 - val_loss: 0.8796 - val_accuracy: 0.6978\n",
            "\n",
            "Epoch 00020: val_loss did not improve from 0.85603\n",
            "Epoch 21/100\n",
            "1562/1562 [==============================] - 30s 19ms/step - loss: 0.8319 - accuracy: 0.7068 - val_loss: 0.8598 - val_accuracy: 0.7044\n",
            "\n",
            "Epoch 00021: val_loss did not improve from 0.85603\n",
            "Epoch 22/100\n",
            "1562/1562 [==============================] - 30s 19ms/step - loss: 0.8191 - accuracy: 0.7106 - val_loss: 0.8465 - val_accuracy: 0.7072\n",
            "\n",
            "Epoch 00022: val_loss improved from 0.85603 to 0.84654, saving model to /content/drive/MyDrive/Colab Notebooks/Models/unet_classifier.h5\n",
            "Epoch 23/100\n",
            "1562/1562 [==============================] - 30s 19ms/step - loss: 0.8079 - accuracy: 0.7173 - val_loss: 0.8286 - val_accuracy: 0.7101\n",
            "\n",
            "Epoch 00023: val_loss improved from 0.84654 to 0.82860, saving model to /content/drive/MyDrive/Colab Notebooks/Models/unet_classifier.h5\n",
            "Epoch 24/100\n",
            "1562/1562 [==============================] - 30s 19ms/step - loss: 0.7946 - accuracy: 0.7200 - val_loss: 0.7924 - val_accuracy: 0.7225\n",
            "\n",
            "Epoch 00024: val_loss improved from 0.82860 to 0.79237, saving model to /content/drive/MyDrive/Colab Notebooks/Models/unet_classifier.h5\n",
            "Epoch 25/100\n",
            "1562/1562 [==============================] - 30s 19ms/step - loss: 0.7778 - accuracy: 0.7283 - val_loss: 0.8358 - val_accuracy: 0.7120\n",
            "\n",
            "Epoch 00025: val_loss did not improve from 0.79237\n",
            "Epoch 26/100\n",
            "1562/1562 [==============================] - 30s 19ms/step - loss: 0.7786 - accuracy: 0.7301 - val_loss: 0.8137 - val_accuracy: 0.7151\n",
            "\n",
            "Epoch 00026: val_loss did not improve from 0.79237\n",
            "Epoch 27/100\n",
            "1562/1562 [==============================] - 30s 19ms/step - loss: 0.7673 - accuracy: 0.7308 - val_loss: 0.7624 - val_accuracy: 0.7355\n",
            "\n",
            "Epoch 00027: val_loss improved from 0.79237 to 0.76235, saving model to /content/drive/MyDrive/Colab Notebooks/Models/unet_classifier.h5\n",
            "Epoch 28/100\n",
            "1562/1562 [==============================] - 31s 20ms/step - loss: 0.7479 - accuracy: 0.7367 - val_loss: 0.7654 - val_accuracy: 0.7360\n",
            "\n",
            "Epoch 00028: val_loss did not improve from 0.76235\n",
            "Epoch 29/100\n",
            "1562/1562 [==============================] - 30s 19ms/step - loss: 0.7312 - accuracy: 0.7446 - val_loss: 0.7697 - val_accuracy: 0.7326\n",
            "\n",
            "Epoch 00029: val_loss did not improve from 0.76235\n",
            "Epoch 30/100\n",
            "1562/1562 [==============================] - 30s 19ms/step - loss: 0.7210 - accuracy: 0.7458 - val_loss: 0.7526 - val_accuracy: 0.7389\n",
            "\n",
            "Epoch 00030: val_loss improved from 0.76235 to 0.75264, saving model to /content/drive/MyDrive/Colab Notebooks/Models/unet_classifier.h5\n",
            "Epoch 31/100\n",
            "1562/1562 [==============================] - 30s 19ms/step - loss: 0.7255 - accuracy: 0.7476 - val_loss: 0.7677 - val_accuracy: 0.7356\n",
            "\n",
            "Epoch 00031: val_loss did not improve from 0.75264\n",
            "Epoch 32/100\n",
            "1562/1562 [==============================] - 30s 19ms/step - loss: 0.7073 - accuracy: 0.7513 - val_loss: 0.7398 - val_accuracy: 0.7510\n",
            "\n",
            "Epoch 00032: val_loss improved from 0.75264 to 0.73976, saving model to /content/drive/MyDrive/Colab Notebooks/Models/unet_classifier.h5\n",
            "Epoch 33/100\n",
            "1562/1562 [==============================] - 30s 19ms/step - loss: 0.6930 - accuracy: 0.7587 - val_loss: 0.7573 - val_accuracy: 0.7403\n",
            "\n",
            "Epoch 00033: val_loss did not improve from 0.73976\n",
            "Epoch 34/100\n",
            "1562/1562 [==============================] - 30s 19ms/step - loss: 0.6953 - accuracy: 0.7571 - val_loss: 0.7381 - val_accuracy: 0.7468\n",
            "\n",
            "Epoch 00034: val_loss improved from 0.73976 to 0.73810, saving model to /content/drive/MyDrive/Colab Notebooks/Models/unet_classifier.h5\n",
            "Epoch 35/100\n",
            "1562/1562 [==============================] - 30s 19ms/step - loss: 0.6808 - accuracy: 0.7627 - val_loss: 0.7376 - val_accuracy: 0.7434\n",
            "\n",
            "Epoch 00035: val_loss improved from 0.73810 to 0.73757, saving model to /content/drive/MyDrive/Colab Notebooks/Models/unet_classifier.h5\n",
            "Epoch 36/100\n",
            "1562/1562 [==============================] - 31s 20ms/step - loss: 0.6634 - accuracy: 0.7695 - val_loss: 0.7244 - val_accuracy: 0.7482\n",
            "\n",
            "Epoch 00036: val_loss improved from 0.73757 to 0.72439, saving model to /content/drive/MyDrive/Colab Notebooks/Models/unet_classifier.h5\n",
            "Epoch 37/100\n",
            "1562/1562 [==============================] - 31s 20ms/step - loss: 0.6693 - accuracy: 0.7685 - val_loss: 0.7282 - val_accuracy: 0.7524\n",
            "\n",
            "Epoch 00037: val_loss did not improve from 0.72439\n",
            "Epoch 38/100\n",
            "1562/1562 [==============================] - 30s 19ms/step - loss: 0.6591 - accuracy: 0.7715 - val_loss: 0.7059 - val_accuracy: 0.7582\n",
            "\n",
            "Epoch 00038: val_loss improved from 0.72439 to 0.70592, saving model to /content/drive/MyDrive/Colab Notebooks/Models/unet_classifier.h5\n",
            "Epoch 39/100\n",
            "1562/1562 [==============================] - 31s 20ms/step - loss: 0.6388 - accuracy: 0.7781 - val_loss: 0.7292 - val_accuracy: 0.7514\n",
            "\n",
            "Epoch 00039: val_loss did not improve from 0.70592\n",
            "Epoch 40/100\n",
            "1562/1562 [==============================] - 30s 19ms/step - loss: 0.6393 - accuracy: 0.7759 - val_loss: 0.7187 - val_accuracy: 0.7526\n",
            "\n",
            "Epoch 00040: val_loss did not improve from 0.70592\n",
            "Epoch 41/100\n",
            "1562/1562 [==============================] - 30s 19ms/step - loss: 0.6438 - accuracy: 0.7768 - val_loss: 0.7040 - val_accuracy: 0.7593\n",
            "\n",
            "Epoch 00041: val_loss improved from 0.70592 to 0.70397, saving model to /content/drive/MyDrive/Colab Notebooks/Models/unet_classifier.h5\n",
            "Epoch 42/100\n",
            "1562/1562 [==============================] - 31s 20ms/step - loss: 0.6285 - accuracy: 0.7822 - val_loss: 0.6925 - val_accuracy: 0.7638\n",
            "\n",
            "Epoch 00042: val_loss improved from 0.70397 to 0.69252, saving model to /content/drive/MyDrive/Colab Notebooks/Models/unet_classifier.h5\n",
            "Epoch 43/100\n",
            "1562/1562 [==============================] - 31s 20ms/step - loss: 0.6187 - accuracy: 0.7819 - val_loss: 0.7263 - val_accuracy: 0.7546\n",
            "\n",
            "Epoch 00043: val_loss did not improve from 0.69252\n",
            "Epoch 44/100\n",
            "1562/1562 [==============================] - 31s 20ms/step - loss: 0.6243 - accuracy: 0.7816 - val_loss: 0.7090 - val_accuracy: 0.7628\n",
            "\n",
            "Epoch 00044: val_loss did not improve from 0.69252\n",
            "Epoch 45/100\n",
            "1562/1562 [==============================] - 30s 19ms/step - loss: 0.6159 - accuracy: 0.7856 - val_loss: 0.6919 - val_accuracy: 0.7655\n",
            "\n",
            "Epoch 00045: val_loss improved from 0.69252 to 0.69190, saving model to /content/drive/MyDrive/Colab Notebooks/Models/unet_classifier.h5\n",
            "Epoch 46/100\n",
            "1562/1562 [==============================] - 31s 20ms/step - loss: 0.5935 - accuracy: 0.7935 - val_loss: 0.7001 - val_accuracy: 0.7619\n",
            "\n",
            "Epoch 00046: val_loss did not improve from 0.69190\n",
            "Epoch 47/100\n",
            "1562/1562 [==============================] - 31s 20ms/step - loss: 0.6039 - accuracy: 0.7906 - val_loss: 0.6719 - val_accuracy: 0.7691\n",
            "\n",
            "Epoch 00047: val_loss improved from 0.69190 to 0.67190, saving model to /content/drive/MyDrive/Colab Notebooks/Models/unet_classifier.h5\n",
            "Epoch 48/100\n",
            "1562/1562 [==============================] - 31s 20ms/step - loss: 0.5856 - accuracy: 0.7938 - val_loss: 0.6657 - val_accuracy: 0.7709\n",
            "\n",
            "Epoch 00048: val_loss improved from 0.67190 to 0.66565, saving model to /content/drive/MyDrive/Colab Notebooks/Models/unet_classifier.h5\n",
            "Epoch 49/100\n",
            "1562/1562 [==============================] - 31s 20ms/step - loss: 0.5788 - accuracy: 0.7982 - val_loss: 0.6973 - val_accuracy: 0.7629\n",
            "\n",
            "Epoch 00049: val_loss did not improve from 0.66565\n",
            "Epoch 50/100\n",
            "1562/1562 [==============================] - 30s 19ms/step - loss: 0.5695 - accuracy: 0.8032 - val_loss: 0.6584 - val_accuracy: 0.7741\n",
            "\n",
            "Epoch 00050: val_loss improved from 0.66565 to 0.65841, saving model to /content/drive/MyDrive/Colab Notebooks/Models/unet_classifier.h5\n",
            "Epoch 51/100\n",
            "1562/1562 [==============================] - 31s 20ms/step - loss: 0.5757 - accuracy: 0.8011 - val_loss: 0.6737 - val_accuracy: 0.7688\n",
            "\n",
            "Epoch 00051: val_loss did not improve from 0.65841\n",
            "Epoch 52/100\n",
            "1562/1562 [==============================] - 31s 20ms/step - loss: 0.5717 - accuracy: 0.8032 - val_loss: 0.6640 - val_accuracy: 0.7745\n",
            "\n",
            "Epoch 00052: val_loss did not improve from 0.65841\n",
            "Epoch 53/100\n",
            "1562/1562 [==============================] - 31s 20ms/step - loss: 0.5575 - accuracy: 0.8075 - val_loss: 0.6694 - val_accuracy: 0.7726\n",
            "\n",
            "Epoch 00053: val_loss did not improve from 0.65841\n",
            "Epoch 54/100\n",
            "1562/1562 [==============================] - 31s 20ms/step - loss: 0.5585 - accuracy: 0.8032 - val_loss: 0.6664 - val_accuracy: 0.7731\n",
            "\n",
            "Epoch 00054: val_loss did not improve from 0.65841\n",
            "Epoch 55/100\n",
            "1562/1562 [==============================] - 30s 19ms/step - loss: 0.5542 - accuracy: 0.8079 - val_loss: 0.6619 - val_accuracy: 0.7763\n",
            "\n",
            "Epoch 00055: ReduceLROnPlateau reducing learning rate to 9.999999747378752e-07.\n",
            "\n",
            "Epoch 00055: val_loss did not improve from 0.65841\n",
            "Epoch 56/100\n",
            "1562/1562 [==============================] - 31s 20ms/step - loss: 0.5461 - accuracy: 0.8101 - val_loss: 0.6517 - val_accuracy: 0.7790\n",
            "\n",
            "Epoch 00056: val_loss improved from 0.65841 to 0.65170, saving model to /content/drive/MyDrive/Colab Notebooks/Models/unet_classifier.h5\n",
            "Epoch 57/100\n",
            "1562/1562 [==============================] - 31s 20ms/step - loss: 0.5300 - accuracy: 0.8169 - val_loss: 0.6551 - val_accuracy: 0.7805\n",
            "\n",
            "Epoch 00057: val_loss did not improve from 0.65170\n",
            "Epoch 58/100\n",
            "1562/1562 [==============================] - 31s 20ms/step - loss: 0.5207 - accuracy: 0.8199 - val_loss: 0.6484 - val_accuracy: 0.7821\n",
            "\n",
            "Epoch 00058: val_loss improved from 0.65170 to 0.64844, saving model to /content/drive/MyDrive/Colab Notebooks/Models/unet_classifier.h5\n",
            "Epoch 59/100\n",
            "1562/1562 [==============================] - 31s 20ms/step - loss: 0.5244 - accuracy: 0.8182 - val_loss: 0.6506 - val_accuracy: 0.7819\n",
            "\n",
            "Epoch 00059: val_loss did not improve from 0.64844\n",
            "Epoch 60/100\n",
            "1562/1562 [==============================] - 31s 20ms/step - loss: 0.5251 - accuracy: 0.8196 - val_loss: 0.6510 - val_accuracy: 0.7811\n",
            "\n",
            "Epoch 00060: val_loss did not improve from 0.64844\n",
            "Epoch 61/100\n",
            "1562/1562 [==============================] - 31s 20ms/step - loss: 0.5218 - accuracy: 0.8186 - val_loss: 0.6516 - val_accuracy: 0.7816\n",
            "\n",
            "Epoch 00061: val_loss did not improve from 0.64844\n",
            "Epoch 62/100\n",
            "1562/1562 [==============================] - 31s 20ms/step - loss: 0.5322 - accuracy: 0.8152 - val_loss: 0.6475 - val_accuracy: 0.7834\n",
            "\n",
            "Epoch 00062: val_loss improved from 0.64844 to 0.64754, saving model to /content/drive/MyDrive/Colab Notebooks/Models/unet_classifier.h5\n",
            "Epoch 63/100\n",
            "1562/1562 [==============================] - 30s 19ms/step - loss: 0.5318 - accuracy: 0.8139 - val_loss: 0.6509 - val_accuracy: 0.7807\n",
            "\n",
            "Epoch 00063: val_loss did not improve from 0.64754\n",
            "Epoch 64/100\n",
            "1562/1562 [==============================] - 30s 20ms/step - loss: 0.5206 - accuracy: 0.8182 - val_loss: 0.6473 - val_accuracy: 0.7824\n",
            "\n",
            "Epoch 00064: val_loss improved from 0.64754 to 0.64730, saving model to /content/drive/MyDrive/Colab Notebooks/Models/unet_classifier.h5\n",
            "Epoch 65/100\n",
            "1562/1562 [==============================] - 30s 20ms/step - loss: 0.5248 - accuracy: 0.8156 - val_loss: 0.6501 - val_accuracy: 0.7816\n",
            "\n",
            "Epoch 00065: val_loss did not improve from 0.64730\n",
            "Epoch 66/100\n",
            "1562/1562 [==============================] - 31s 20ms/step - loss: 0.5225 - accuracy: 0.8165 - val_loss: 0.6486 - val_accuracy: 0.7813\n",
            "\n",
            "Epoch 00066: val_loss did not improve from 0.64730\n",
            "Epoch 67/100\n",
            "1562/1562 [==============================] - 31s 20ms/step - loss: 0.5122 - accuracy: 0.8219 - val_loss: 0.6444 - val_accuracy: 0.7836\n",
            "\n",
            "Epoch 00067: val_loss improved from 0.64730 to 0.64442, saving model to /content/drive/MyDrive/Colab Notebooks/Models/unet_classifier.h5\n",
            "Epoch 68/100\n",
            "1562/1562 [==============================] - 31s 20ms/step - loss: 0.5196 - accuracy: 0.8207 - val_loss: 0.6457 - val_accuracy: 0.7831\n",
            "\n",
            "Epoch 00068: val_loss did not improve from 0.64442\n",
            "Epoch 69/100\n",
            "1562/1562 [==============================] - 30s 19ms/step - loss: 0.5241 - accuracy: 0.8185 - val_loss: 0.6459 - val_accuracy: 0.7835\n",
            "\n",
            "Epoch 00069: val_loss did not improve from 0.64442\n",
            "Epoch 70/100\n",
            "1562/1562 [==============================] - 30s 19ms/step - loss: 0.5231 - accuracy: 0.8205 - val_loss: 0.6464 - val_accuracy: 0.7832\n",
            "\n",
            "Epoch 00070: val_loss did not improve from 0.64442\n",
            "Epoch 71/100\n",
            "1562/1562 [==============================] - 30s 19ms/step - loss: 0.5169 - accuracy: 0.8199 - val_loss: 0.6422 - val_accuracy: 0.7839\n",
            "\n",
            "Epoch 00071: val_loss improved from 0.64442 to 0.64220, saving model to /content/drive/MyDrive/Colab Notebooks/Models/unet_classifier.h5\n",
            "Epoch 72/100\n",
            "1562/1562 [==============================] - 31s 20ms/step - loss: 0.5151 - accuracy: 0.8217 - val_loss: 0.6473 - val_accuracy: 0.7835\n",
            "\n",
            "Epoch 00072: val_loss did not improve from 0.64220\n",
            "Epoch 73/100\n",
            "1562/1562 [==============================] - 30s 19ms/step - loss: 0.5070 - accuracy: 0.8236 - val_loss: 0.6460 - val_accuracy: 0.7829\n",
            "\n",
            "Epoch 00073: val_loss did not improve from 0.64220\n",
            "Epoch 74/100\n",
            "1562/1562 [==============================] - 31s 20ms/step - loss: 0.5195 - accuracy: 0.8221 - val_loss: 0.6455 - val_accuracy: 0.7822\n",
            "\n",
            "Epoch 00074: val_loss did not improve from 0.64220\n",
            "Epoch 75/100\n",
            "1562/1562 [==============================] - 30s 20ms/step - loss: 0.5237 - accuracy: 0.8152 - val_loss: 0.6393 - val_accuracy: 0.7846\n",
            "\n",
            "Epoch 00075: val_loss improved from 0.64220 to 0.63932, saving model to /content/drive/MyDrive/Colab Notebooks/Models/unet_classifier.h5\n",
            "Epoch 76/100\n",
            "1562/1562 [==============================] - 31s 20ms/step - loss: 0.5200 - accuracy: 0.8183 - val_loss: 0.6461 - val_accuracy: 0.7832\n",
            "\n",
            "Epoch 00076: val_loss did not improve from 0.63932\n",
            "Epoch 77/100\n",
            "1562/1562 [==============================] - 30s 19ms/step - loss: 0.5092 - accuracy: 0.8242 - val_loss: 0.6403 - val_accuracy: 0.7841\n",
            "\n",
            "Epoch 00077: val_loss did not improve from 0.63932\n",
            "Epoch 78/100\n",
            "1562/1562 [==============================] - 30s 19ms/step - loss: 0.5122 - accuracy: 0.8218 - val_loss: 0.6455 - val_accuracy: 0.7839\n",
            "\n",
            "Epoch 00078: val_loss did not improve from 0.63932\n",
            "Epoch 79/100\n",
            "1562/1562 [==============================] - 30s 19ms/step - loss: 0.5205 - accuracy: 0.8165 - val_loss: 0.6411 - val_accuracy: 0.7849\n",
            "\n",
            "Epoch 00079: val_loss did not improve from 0.63932\n",
            "Epoch 80/100\n",
            "1562/1562 [==============================] - 31s 20ms/step - loss: 0.5089 - accuracy: 0.8226 - val_loss: 0.6403 - val_accuracy: 0.7849\n",
            "\n",
            "Epoch 00080: ReduceLROnPlateau reducing learning rate to 1e-07.\n",
            "\n",
            "Epoch 00080: val_loss did not improve from 0.63932\n",
            "Epoch 81/100\n",
            "1562/1562 [==============================] - 31s 20ms/step - loss: 0.5102 - accuracy: 0.8229 - val_loss: 0.6399 - val_accuracy: 0.7847\n",
            "\n",
            "Epoch 00081: val_loss did not improve from 0.63932\n",
            "Epoch 82/100\n",
            "1562/1562 [==============================] - 30s 19ms/step - loss: 0.5120 - accuracy: 0.8202 - val_loss: 0.6388 - val_accuracy: 0.7857\n",
            "\n",
            "Epoch 00082: val_loss improved from 0.63932 to 0.63883, saving model to /content/drive/MyDrive/Colab Notebooks/Models/unet_classifier.h5\n",
            "Epoch 83/100\n",
            "1562/1562 [==============================] - 31s 20ms/step - loss: 0.5169 - accuracy: 0.8205 - val_loss: 0.6419 - val_accuracy: 0.7852\n",
            "\n",
            "Epoch 00083: val_loss did not improve from 0.63883\n",
            "Epoch 84/100\n",
            "1562/1562 [==============================] - 31s 20ms/step - loss: 0.5157 - accuracy: 0.8182 - val_loss: 0.6425 - val_accuracy: 0.7853\n",
            "\n",
            "Epoch 00084: val_loss did not improve from 0.63883\n",
            "Epoch 85/100\n",
            "1562/1562 [==============================] - 31s 20ms/step - loss: 0.5165 - accuracy: 0.8214 - val_loss: 0.6392 - val_accuracy: 0.7858\n",
            "\n",
            "Epoch 00085: val_loss did not improve from 0.63883\n",
            "Epoch 86/100\n",
            "1562/1562 [==============================] - 31s 20ms/step - loss: 0.5121 - accuracy: 0.8237 - val_loss: 0.6426 - val_accuracy: 0.7858\n",
            "\n",
            "Epoch 00086: val_loss did not improve from 0.63883\n",
            "Epoch 87/100\n",
            "1562/1562 [==============================] - 31s 20ms/step - loss: 0.5080 - accuracy: 0.8230 - val_loss: 0.6401 - val_accuracy: 0.7859\n",
            "\n",
            "Epoch 00087: ReduceLROnPlateau reducing learning rate to 1e-07.\n",
            "\n",
            "Epoch 00087: val_loss did not improve from 0.63883\n",
            "Epoch 88/100\n",
            "1562/1562 [==============================] - 31s 20ms/step - loss: 0.5064 - accuracy: 0.8241 - val_loss: 0.6415 - val_accuracy: 0.7853\n",
            "\n",
            "Epoch 00088: val_loss did not improve from 0.63883\n",
            "Epoch 89/100\n",
            "1562/1562 [==============================] - 31s 20ms/step - loss: 0.5158 - accuracy: 0.8185 - val_loss: 0.6430 - val_accuracy: 0.7858\n",
            "\n",
            "Epoch 00089: val_loss did not improve from 0.63883\n",
            "Epoch 90/100\n",
            "1562/1562 [==============================] - 31s 20ms/step - loss: 0.5112 - accuracy: 0.8217 - val_loss: 0.6438 - val_accuracy: 0.7859\n",
            "\n",
            "Epoch 00090: val_loss did not improve from 0.63883\n",
            "Epoch 91/100\n",
            "1562/1562 [==============================] - 31s 20ms/step - loss: 0.5112 - accuracy: 0.8227 - val_loss: 0.6411 - val_accuracy: 0.7856\n",
            "\n",
            "Epoch 00091: val_loss did not improve from 0.63883\n",
            "Epoch 92/100\n",
            "1562/1562 [==============================] - 31s 20ms/step - loss: 0.5128 - accuracy: 0.8247 - val_loss: 0.6377 - val_accuracy: 0.7869\n",
            "\n",
            "Epoch 00092: val_loss improved from 0.63883 to 0.63768, saving model to /content/drive/MyDrive/Colab Notebooks/Models/unet_classifier.h5\n",
            "Epoch 93/100\n",
            "1562/1562 [==============================] - 31s 20ms/step - loss: 0.5183 - accuracy: 0.8195 - val_loss: 0.6397 - val_accuracy: 0.7859\n",
            "\n",
            "Epoch 00093: val_loss did not improve from 0.63768\n",
            "Epoch 94/100\n",
            "1562/1562 [==============================] - 31s 20ms/step - loss: 0.5153 - accuracy: 0.8202 - val_loss: 0.6422 - val_accuracy: 0.7846\n",
            "\n",
            "Epoch 00094: val_loss did not improve from 0.63768\n",
            "Epoch 95/100\n",
            "1562/1562 [==============================] - 31s 20ms/step - loss: 0.4968 - accuracy: 0.8270 - val_loss: 0.6442 - val_accuracy: 0.7853\n",
            "\n",
            "Epoch 00095: val_loss did not improve from 0.63768\n",
            "Epoch 96/100\n",
            "1562/1562 [==============================] - 31s 20ms/step - loss: 0.5105 - accuracy: 0.8228 - val_loss: 0.6423 - val_accuracy: 0.7846\n",
            "\n",
            "Epoch 00096: val_loss did not improve from 0.63768\n",
            "Epoch 97/100\n",
            "1562/1562 [==============================] - 31s 20ms/step - loss: 0.5139 - accuracy: 0.8201 - val_loss: 0.6442 - val_accuracy: 0.7853\n",
            "\n",
            "Epoch 00097: ReduceLROnPlateau reducing learning rate to 1e-07.\n",
            "\n",
            "Epoch 00097: val_loss did not improve from 0.63768\n",
            "Epoch 98/100\n",
            "1562/1562 [==============================] - 31s 20ms/step - loss: 0.5066 - accuracy: 0.8242 - val_loss: 0.6451 - val_accuracy: 0.7848\n",
            "\n",
            "Epoch 00098: val_loss did not improve from 0.63768\n",
            "Epoch 99/100\n",
            "1562/1562 [==============================] - 31s 20ms/step - loss: 0.5111 - accuracy: 0.8242 - val_loss: 0.6412 - val_accuracy: 0.7856\n",
            "\n",
            "Epoch 00099: val_loss did not improve from 0.63768\n",
            "Epoch 100/100\n",
            "1562/1562 [==============================] - 31s 20ms/step - loss: 0.5151 - accuracy: 0.8226 - val_loss: 0.6413 - val_accuracy: 0.7860\n",
            "\n",
            "Epoch 00100: val_loss did not improve from 0.63768\n"
          ],
          "name": "stdout"
        }
      ]
    },
    {
      "cell_type": "markdown",
      "metadata": {
        "id": "ZBUk4LZiuIOf"
      },
      "source": [
        "### Loss"
      ]
    },
    {
      "cell_type": "code",
      "metadata": {
        "colab": {
          "base_uri": "https://localhost:8080/",
          "height": 282
        },
        "id": "HQWHW66etttH",
        "outputId": "67dda89f-694a-4e70-f747-558f48cf69fc"
      },
      "source": [
        "plt.plot(history.history['loss'], label='loss')\r\n",
        "plt.plot(history.history['val_loss'], label='val_loss')\r\n",
        "plt.legend()"
      ],
      "execution_count": 13,
      "outputs": [
        {
          "output_type": "execute_result",
          "data": {
            "text/plain": [
              "<matplotlib.legend.Legend at 0x7fdd6034c290>"
            ]
          },
          "metadata": {
            "tags": []
          },
          "execution_count": 13
        },
        {
          "output_type": "display_data",
          "data": {
            "image/png": "[encoded data removed]",
            "text/plain": [
              "<Figure size 432x288 with 1 Axes>"
            ]
          },
          "metadata": {
            "tags": [],
            "needs_background": "light"
          }
        }
      ]
    },
    {
      "cell_type": "code",
      "metadata": {
        "colab": {
          "base_uri": "https://localhost:8080/",
          "height": 513
        },
        "id": "hc63D_ROwZEA",
        "outputId": "19a75933-3b39-4079-8cc7-ab7f945fc218"
      },
      "source": [
        "plt.figure(figsize=(8, 8))\r\n",
        "plt.title(\"Learning curve\")\r\n",
        "plt.plot(history.history[\"loss\"], label=\"loss\")\r\n",
        "plt.plot(history.history[\"val_loss\"], label=\"val_loss\")\r\n",
        "plt.plot( np.argmin(history.history[\"val_loss\"]), np.min(history.history[\"val_loss\"]), marker=\"x\", color=\"r\", label=\"best model\")\r\n",
        "plt.xlabel(\"Epochs\")\r\n",
        "plt.ylabel(\"log_loss\")\r\n",
        "plt.legend();"
      ],
      "execution_count": 14,
      "outputs": [
        {
          "output_type": "display_data",
          "data": {
            "image/png": "[encoded data removed]",
            "text/plain": [
              "<Figure size 576x576 with 1 Axes>"
            ]
          },
          "metadata": {
            "tags": [],
            "needs_background": "light"
          }
        }
      ]
    },
    {
      "cell_type": "markdown",
      "metadata": {
        "id": "kU_chmEauQZH"
      },
      "source": [
        "### Accuracy"
      ]
    },
    {
      "cell_type": "code",
      "metadata": {
        "colab": {
          "base_uri": "https://localhost:8080/",
          "height": 282
        },
        "id": "rIzeGtETuSzZ",
        "outputId": "f152bcf7-5d2f-4af9-a372-15b3879485d0"
      },
      "source": [
        "plt.plot(history.history['accuracy'], label='acc')\r\n",
        "plt.plot(history.history['val_accuracy'], label='val_acc')\r\n",
        "plt.legend()"
      ],
      "execution_count": 15,
      "outputs": [
        {
          "output_type": "execute_result",
          "data": {
            "text/plain": [
              "<matplotlib.legend.Legend at 0x7fdd1aa78c10>"
            ]
          },
          "metadata": {
            "tags": []
          },
          "execution_count": 15
        },
        {
          "output_type": "display_data",
          "data": {
            "image/png": "[encoded data removed]",
            "text/plain": [
              "<Figure size 432x288 with 1 Axes>"
            ]
          },
          "metadata": {
            "tags": [],
            "needs_background": "light"
          }
        }
      ]
    },
    {
      "cell_type": "markdown",
      "metadata": {
        "id": "PoDp7Zfkufko"
      },
      "source": [
        "### Confusion Matrix"
      ]
    },
    {
      "cell_type": "code",
      "metadata": {
        "id": "5iSj7qTdBe8E"
      },
      "source": [
        "model.load_weights(model_path)"
      ],
      "execution_count": 16,
      "outputs": []
    },
    {
      "cell_type": "code",
      "metadata": {
        "colab": {
          "base_uri": "https://localhost:8080/",
          "height": 496
        },
        "id": "ntzFmxIHuivo",
        "outputId": "a9aba17b-df40-4716-adc8-2a7916fc1086"
      },
      "source": [
        "def plot_confusion_matrix(cm, classes,\r\n",
        "                          normalize=False,\r\n",
        "                          title='Confusion matrix',\r\n",
        "                          cmap=plt.cm.Blues):\r\n",
        "  \"\"\"\r\n",
        "  This function prints and plots the confusion matrix.\r\n",
        "  Normalization can be applied by setting `normalize=True`.\r\n",
        "  \"\"\"\r\n",
        "  if normalize:\r\n",
        "      cm = cm.astype('float') / cm.sum(axis=1)[:, np.newaxis]\r\n",
        "      print(\"Normalized confusion matrix\")\r\n",
        "  else:\r\n",
        "      print('Confusion matrix, without normalization')\r\n",
        "\r\n",
        "  print(cm)\r\n",
        "\r\n",
        "  plt.imshow(cm, interpolation='nearest', cmap=cmap)\r\n",
        "  plt.title(title)\r\n",
        "  plt.colorbar()\r\n",
        "  tick_marks = np.arange(len(classes))\r\n",
        "  plt.xticks(tick_marks, classes, rotation=45)\r\n",
        "  plt.yticks(tick_marks, classes)\r\n",
        "\r\n",
        "  fmt = '.2f' if normalize else 'd'\r\n",
        "  thresh = cm.max() / 2.\r\n",
        "  for i, j in itertools.product(range(cm.shape[0]), range(cm.shape[1])):\r\n",
        "      plt.text(j, i, format(cm[i, j], fmt),\r\n",
        "               horizontalalignment=\"center\",\r\n",
        "               color=\"white\" if cm[i, j] > thresh else \"black\")\r\n",
        "\r\n",
        "  plt.tight_layout()\r\n",
        "  plt.ylabel('True label')\r\n",
        "  plt.xlabel('Predicted label')\r\n",
        "  plt.show()\r\n",
        "\r\n",
        "\r\n",
        "p_test = model.predict(x_test).argmax(axis=1)\r\n",
        "cm = confusion_matrix(y_test, p_test)\r\n",
        "plot_confusion_matrix(cm, list(range(10)))"
      ],
      "execution_count": 17,
      "outputs": [
        {
          "output_type": "stream",
          "text": [
            "Confusion matrix, without normalization\n",
            "[[840  19  18   5  14   3  16  11  36  38]\n",
            " [  6 915   4   4   0   1  10   3  10  47]\n",
            " [ 55   7 656  25  63  22 124  29  11   8]\n",
            " [ 20  10  56 517  60 112 162  33  15  15]\n",
            " [ 13   2  45  23 739  11 124  32   9   2]\n",
            " [ 14   3  29 136  48 637  81  38   4  10]\n",
            " [  2   5  10  11   8   4 957   1   1   1]\n",
            " [ 13   0  24  15  41  18  28 847   2  12]\n",
            " [ 51  22   6   4   6   1  13   2 873  22]\n",
            " [ 20  58   2   3   2   0   8   5  14 888]]\n"
          ],
          "name": "stdout"
        },
        {
          "output_type": "display_data",
          "data": {
            "image/png": "[encoded data removed]",
            "text/plain": [
              "<Figure size 432x288 with 2 Axes>"
            ]
          },
          "metadata": {
            "tags": [],
            "needs_background": "light"
          }
        }
      ]
    },
    {
      "cell_type": "code",
      "metadata": {
        "colab": {
          "base_uri": "https://localhost:8080/"
        },
        "id": "aH_3BmI4caUT",
        "outputId": "34abdb2f-0f6e-4e42-8edf-ef6f046dc74c"
      },
      "source": [
        "from sklearn.metrics import classification_report\r\n",
        "print(classification_report(y_test, p_test))"
      ],
      "execution_count": 18,
      "outputs": [
        {
          "output_type": "stream",
          "text": [
            "              precision    recall  f1-score   support\n",
            "\n",
            "           0       0.81      0.84      0.83      1000\n",
            "           1       0.88      0.92      0.90      1000\n",
            "           2       0.77      0.66      0.71      1000\n",
            "           3       0.70      0.52      0.59      1000\n",
            "           4       0.75      0.74      0.75      1000\n",
            "           5       0.79      0.64      0.70      1000\n",
            "           6       0.63      0.96      0.76      1000\n",
            "           7       0.85      0.85      0.85      1000\n",
            "           8       0.90      0.87      0.88      1000\n",
            "           9       0.85      0.89      0.87      1000\n",
            "\n",
            "    accuracy                           0.79     10000\n",
            "   macro avg       0.79      0.79      0.78     10000\n",
            "weighted avg       0.79      0.79      0.78     10000\n",
            "\n"
          ],
          "name": "stdout"
        }
      ]
    },
    {
      "cell_type": "code",
      "metadata": {
        "colab": {
          "base_uri": "https://localhost:8080/"
        },
        "id": "QtiT-OB0i0B6",
        "outputId": "84ef1d44-d8a3-4720-8f4c-dadfd67d5d57"
      },
      "source": [
        "loss, val_acc = model.evaluate(x_test, y_test, verbose=1)\r\n",
        "\r\n",
        "print(\"Loss: \", loss)\r\n",
        "print(\"Validation Accuracy: \", val_acc)"
      ],
      "execution_count": 19,
      "outputs": [
        {
          "output_type": "stream",
          "text": [
            "313/313 [==============================] - 1s 3ms/step - loss: 0.6377 - accuracy: 0.7869\n",
            "Loss:  0.6376766562461853\n",
            "Validation Accuracy:  0.786899983882904\n"
          ],
          "name": "stdout"
        }
      ]
    },
    {
      "cell_type": "markdown",
      "metadata": {
        "id": "gh5AYb5suxCg"
      },
      "source": [
        "### Verificar erros do modelo"
      ]
    },
    {
      "cell_type": "code",
      "metadata": {
        "id": "i5_CRikMu8_X"
      },
      "source": [
        "labels = '''avião\r\n",
        "automóvel\r\n",
        "pássaro\r\n",
        "gato\r\n",
        "veado\r\n",
        "cachorro\r\n",
        "sapo\r\n",
        "cavalo\r\n",
        "barco\r\n",
        "caminhão'''.split()"
      ],
      "execution_count": 20,
      "outputs": []
    },
    {
      "cell_type": "code",
      "metadata": {
        "colab": {
          "base_uri": "https://localhost:8080/",
          "height": 281
        },
        "id": "etpWiYrluzau",
        "outputId": "57c4e3cb-45a5-4085-d27b-f6318f037237"
      },
      "source": [
        "misclassified_idx = np.where(p_test != y_test)[0]\r\n",
        "i = np.random.choice(misclassified_idx)\r\n",
        "plt.imshow(x_test[i], cmap='gray')\r\n",
        "plt.title(\"Real: %s Predição: %s\" % (labels[y_test[i]], labels[p_test[i]]));"
      ],
      "execution_count": 21,
      "outputs": [
        {
          "output_type": "display_data",
          "data": {
            "image/png": "[encoded data removed]",
            "text/plain": [
              "<Figure size 432x288 with 1 Axes>"
            ]
          },
          "metadata": {
            "tags": [],
            "needs_background": "light"
          }
        }
      ]
    }
  ]
}