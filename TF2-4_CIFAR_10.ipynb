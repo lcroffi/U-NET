{
  "nbformat": 4,
  "nbformat_minor": 0,
  "metadata": {
    "colab": {
      "name": "TF2.4 CIFAR-10.ipynb",
      "provenance": [],
      "collapsed_sections": [],
      "authorship_tag": "ABX9TyNutk+dzaMywIKHS0P14tbW",
      "include_colab_link": true
    },
    "kernelspec": {
      "name": "python3",
      "display_name": "Python 3"
    },
    "accelerator": "GPU"
  },
  "cells": [
    {
      "cell_type": "markdown",
      "metadata": {
        "id": "view-in-github",
        "colab_type": "text"
      },
      "source": [
        "<a href=\"https://colab.research.google.com/github/lcroffi/U-NET/blob/main/TF2-4_CIFAR_10.ipynb\" target=\"_parent\"><img src=\"https://colab.research.google.com/assets/colab-badge.svg\" alt=\"Open In Colab\"/></a>"
      ]
    },
    {
      "cell_type": "code",
      "metadata": {
        "id": "A_L-VJ3tS2-W"
      },
      "source": [
        "import numpy as np\r\n",
        "import tensorflow as tf\r\n",
        "import matplotlib.pyplot as plt\r\n",
        "from sklearn.metrics import confusion_matrix\r\n",
        "from tensorflow.keras.layers import Input, Conv2D, Conv2DTranspose, Dense, Flatten, concatenate, Dropout, MaxPooling2D, BatchNormalization\r\n",
        "from tensorflow.keras.callbacks import EarlyStopping, ModelCheckpoint, ReduceLROnPlateau\r\n",
        "from tensorflow.keras.models import Model\r\n",
        "import itertools"
      ],
      "execution_count": 1,
      "outputs": []
    },
    {
      "cell_type": "markdown",
      "metadata": {
        "id": "b1sgBh4ZWS3o"
      },
      "source": [
        "### Carregando o dataset CIFAR de 10 classes do Tensorflow"
      ]
    },
    {
      "cell_type": "code",
      "metadata": {
        "colab": {
          "base_uri": "https://localhost:8080/"
        },
        "id": "KCXnzvhiWODq",
        "outputId": "d4581915-10b0-4e91-fc98-027517ca3caa"
      },
      "source": [
        "cifar10 = tf.keras.datasets.cifar10\r\n",
        "\r\n",
        "(x_train, y_train), (x_test, y_test) = cifar10.load_data()\r\n",
        "x_train, x_test = x_train / 255.0, x_test / 255.0\r\n",
        "y_train, y_test = y_train.flatten(), y_test.flatten()\r\n",
        "print(\"x_train.shape:\", x_train.shape)\r\n",
        "print(\"y_train.shape\", y_train.shape)"
      ],
      "execution_count": 2,
      "outputs": [
        {
          "output_type": "stream",
          "text": [
            "Downloading data from https://www.cs.toronto.edu/~kriz/cifar-10-python.tar.gz\n",
            "170500096/170498071 [==============================] - 2s 0us/step\n",
            "x_train.shape: (50000, 32, 32, 3)\n",
            "y_train.shape (50000,)\n"
          ],
          "name": "stdout"
        }
      ]
    },
    {
      "cell_type": "code",
      "metadata": {
        "colab": {
          "base_uri": "https://localhost:8080/"
        },
        "id": "xJU6j_moWdTn",
        "outputId": "78792a63-81ae-4a5e-c9b7-274aff8b2431"
      },
      "source": [
        "K = len(set(y_train))\r\n",
        "print(\"número de classes:\", K)"
      ],
      "execution_count": 3,
      "outputs": [
        {
          "output_type": "stream",
          "text": [
            "número de classes: 10\n"
          ],
          "name": "stdout"
        }
      ]
    },
    {
      "cell_type": "code",
      "metadata": {
        "id": "415eBdyvWpow"
      },
      "source": [
        "def conv(layer, filter, kernel):\r\n",
        "  x = Conv2D(filter, kernel, activation='relu', padding='same')(layer)\r\n",
        "  x = BatchNormalization()(x)\r\n",
        "  x = Conv2D(filter, kernel, activation='relu', padding='same')(x)\r\n",
        "  x = BatchNormalization()(x)\r\n",
        "  x = MaxPooling2D((2, 2))(x)\r\n",
        "  \r\n",
        "  return x"
      ],
      "execution_count": 4,
      "outputs": []
    },
    {
      "cell_type": "code",
      "metadata": {
        "id": "J6DAVUDFbPLq"
      },
      "source": [
        "def deconv(layer, conv_layer, filter, kernel):\r\n",
        "  x = Conv2DTranspose(filter, kernel, strides = (2, 2), padding = 'same')(layer)\r\n",
        "  x = concatenate([x, conv_layer])\r\n",
        "  x = Dropout(0.1)(x)\r\n",
        "  x = Conv2D(filter, kernel, activation='relu', padding='same')(x)\r\n",
        "  x = BatchNormalization()(x)\r\n",
        "\r\n",
        "  return x"
      ],
      "execution_count": 5,
      "outputs": []
    },
    {
      "cell_type": "code",
      "metadata": {
        "id": "0mcqFeKGYuuo"
      },
      "source": [
        "def unet(x_train):\r\n",
        "  i = Input(shape=x_train[0].shape)\r\n",
        "\r\n",
        "  c1 = conv(i, 32, (3,3))\r\n",
        "  c2 = conv(c1, 64, (3,3))\r\n",
        "  c3 = conv(c2, 128, (3, 3))\r\n",
        "\r\n",
        "  u1 = deconv(c3, c2, 64, (3, 3))\r\n",
        "  u2 = deconv(u1, c1, 32, (3, 3))\r\n",
        "\r\n",
        "  x = Flatten()(u2)\r\n",
        "  x = Dense(4096, activation='relu')(x)\r\n",
        "  x = Dropout(0.8)(x)\r\n",
        "  x = Dense(2048, activation='relu')(x)\r\n",
        "  x = Dropout(0.4)(x)\r\n",
        "  x = Dense(1024, activation='relu')(x)\r\n",
        "  x = Dropout(0.2)(x)\r\n",
        "  x = Dense(K, activation='softmax')(x)\r\n",
        "\r\n",
        "  return Model(i, x)"
      ],
      "execution_count": 53,
      "outputs": []
    },
    {
      "cell_type": "code",
      "metadata": {
        "id": "EHv0gYu339u5"
      },
      "source": [
        "adam = tf.keras.optimizers.Adam(\r\n",
        "    learning_rate=0.00001, beta_1=0.8, beta_2=0.9, epsilon=1e-07, amsgrad=False,\r\n",
        "    name='Adam'\r\n",
        ")"
      ],
      "execution_count": 54,
      "outputs": []
    },
    {
      "cell_type": "markdown",
      "metadata": {
        "id": "tH41q6bbhC_o"
      },
      "source": [
        "### Configuração do modelo"
      ]
    },
    {
      "cell_type": "code",
      "metadata": {
        "id": "TF1WzSVUfUMi"
      },
      "source": [
        "model = unet(x_train)\r\n",
        "\r\n",
        "model.compile(optimizer=adam,\r\n",
        "              loss='sparse_categorical_crossentropy',\r\n",
        "              metrics=['accuracy'])\r\n",
        "\r\n",
        "callbacks = [\r\n",
        "    EarlyStopping(patience=10, verbose=1),\r\n",
        "    ReduceLROnPlateau(factor=0.1, patience=5, min_lr=0.0000001, verbose=1),\r\n",
        "    ModelCheckpoint('unet_classifier.h5', verbose=1, save_best_only=True, save_weights_only=True)\r\n",
        "]"
      ],
      "execution_count": 55,
      "outputs": []
    },
    {
      "cell_type": "code",
      "metadata": {
        "colab": {
          "base_uri": "https://localhost:8080/"
        },
        "id": "qh422KE8hh0o",
        "outputId": "cfac2767-cc44-4ede-b129-208ea3e01ee0"
      },
      "source": [
        "model.summary()"
      ],
      "execution_count": 56,
      "outputs": [
        {
          "output_type": "stream",
          "text": [
            "Model: \"model_6\"\n",
            "__________________________________________________________________________________________________\n",
            "Layer (type)                    Output Shape         Param #     Connected to                     \n",
            "==================================================================================================\n",
            "input_7 (InputLayer)            [(None, 32, 32, 3)]  0                                            \n",
            "__________________________________________________________________________________________________\n",
            "conv2d_48 (Conv2D)              (None, 32, 32, 32)   896         input_7[0][0]                    \n",
            "__________________________________________________________________________________________________\n",
            "batch_normalization_48 (BatchNo (None, 32, 32, 32)   128         conv2d_48[0][0]                  \n",
            "__________________________________________________________________________________________________\n",
            "conv2d_49 (Conv2D)              (None, 32, 32, 32)   9248        batch_normalization_48[0][0]     \n",
            "__________________________________________________________________________________________________\n",
            "batch_normalization_49 (BatchNo (None, 32, 32, 32)   128         conv2d_49[0][0]                  \n",
            "__________________________________________________________________________________________________\n",
            "max_pooling2d_18 (MaxPooling2D) (None, 16, 16, 32)   0           batch_normalization_49[0][0]     \n",
            "__________________________________________________________________________________________________\n",
            "conv2d_50 (Conv2D)              (None, 16, 16, 64)   18496       max_pooling2d_18[0][0]           \n",
            "__________________________________________________________________________________________________\n",
            "batch_normalization_50 (BatchNo (None, 16, 16, 64)   256         conv2d_50[0][0]                  \n",
            "__________________________________________________________________________________________________\n",
            "conv2d_51 (Conv2D)              (None, 16, 16, 64)   36928       batch_normalization_50[0][0]     \n",
            "__________________________________________________________________________________________________\n",
            "batch_normalization_51 (BatchNo (None, 16, 16, 64)   256         conv2d_51[0][0]                  \n",
            "__________________________________________________________________________________________________\n",
            "max_pooling2d_19 (MaxPooling2D) (None, 8, 8, 64)     0           batch_normalization_51[0][0]     \n",
            "__________________________________________________________________________________________________\n",
            "conv2d_52 (Conv2D)              (None, 8, 8, 128)    73856       max_pooling2d_19[0][0]           \n",
            "__________________________________________________________________________________________________\n",
            "batch_normalization_52 (BatchNo (None, 8, 8, 128)    512         conv2d_52[0][0]                  \n",
            "__________________________________________________________________________________________________\n",
            "conv2d_53 (Conv2D)              (None, 8, 8, 128)    147584      batch_normalization_52[0][0]     \n",
            "__________________________________________________________________________________________________\n",
            "batch_normalization_53 (BatchNo (None, 8, 8, 128)    512         conv2d_53[0][0]                  \n",
            "__________________________________________________________________________________________________\n",
            "max_pooling2d_20 (MaxPooling2D) (None, 4, 4, 128)    0           batch_normalization_53[0][0]     \n",
            "__________________________________________________________________________________________________\n",
            "conv2d_transpose_12 (Conv2DTran (None, 8, 8, 64)     73792       max_pooling2d_20[0][0]           \n",
            "__________________________________________________________________________________________________\n",
            "concatenate_12 (Concatenate)    (None, 8, 8, 128)    0           conv2d_transpose_12[0][0]        \n",
            "                                                                 max_pooling2d_19[0][0]           \n",
            "__________________________________________________________________________________________________\n",
            "dropout_30 (Dropout)            (None, 8, 8, 128)    0           concatenate_12[0][0]             \n",
            "__________________________________________________________________________________________________\n",
            "conv2d_54 (Conv2D)              (None, 8, 8, 64)     73792       dropout_30[0][0]                 \n",
            "__________________________________________________________________________________________________\n",
            "batch_normalization_54 (BatchNo (None, 8, 8, 64)     256         conv2d_54[0][0]                  \n",
            "__________________________________________________________________________________________________\n",
            "conv2d_transpose_13 (Conv2DTran (None, 16, 16, 32)   18464       batch_normalization_54[0][0]     \n",
            "__________________________________________________________________________________________________\n",
            "concatenate_13 (Concatenate)    (None, 16, 16, 64)   0           conv2d_transpose_13[0][0]        \n",
            "                                                                 max_pooling2d_18[0][0]           \n",
            "__________________________________________________________________________________________________\n",
            "dropout_31 (Dropout)            (None, 16, 16, 64)   0           concatenate_13[0][0]             \n",
            "__________________________________________________________________________________________________\n",
            "conv2d_55 (Conv2D)              (None, 16, 16, 32)   18464       dropout_31[0][0]                 \n",
            "__________________________________________________________________________________________________\n",
            "batch_normalization_55 (BatchNo (None, 16, 16, 32)   128         conv2d_55[0][0]                  \n",
            "__________________________________________________________________________________________________\n",
            "flatten_6 (Flatten)             (None, 8192)         0           batch_normalization_55[0][0]     \n",
            "__________________________________________________________________________________________________\n",
            "dense_24 (Dense)                (None, 4096)         33558528    flatten_6[0][0]                  \n",
            "__________________________________________________________________________________________________\n",
            "dropout_32 (Dropout)            (None, 4096)         0           dense_24[0][0]                   \n",
            "__________________________________________________________________________________________________\n",
            "dense_25 (Dense)                (None, 2048)         8390656     dropout_32[0][0]                 \n",
            "__________________________________________________________________________________________________\n",
            "dropout_33 (Dropout)            (None, 2048)         0           dense_25[0][0]                   \n",
            "__________________________________________________________________________________________________\n",
            "dense_26 (Dense)                (None, 1024)         2098176     dropout_33[0][0]                 \n",
            "__________________________________________________________________________________________________\n",
            "dropout_34 (Dropout)            (None, 1024)         0           dense_26[0][0]                   \n",
            "__________________________________________________________________________________________________\n",
            "dense_27 (Dense)                (None, 10)           10250       dropout_34[0][0]                 \n",
            "==================================================================================================\n",
            "Total params: 44,531,306\n",
            "Trainable params: 44,530,218\n",
            "Non-trainable params: 1,088\n",
            "__________________________________________________________________________________________________\n"
          ],
          "name": "stdout"
        }
      ]
    },
    {
      "cell_type": "markdown",
      "metadata": {
        "id": "7qfxznzxhHOw"
      },
      "source": [
        "### Data Augmentation"
      ]
    },
    {
      "cell_type": "code",
      "metadata": {
        "id": "UGwPPiaxghgq"
      },
      "source": [
        "batch_size = 32\r\n",
        "data_generator = tf.keras.preprocessing.image.ImageDataGenerator(width_shift_range=0.1, height_shift_range=0.1, vertical_flip=True, horizontal_flip=True, zoom_range = 0.2)\r\n",
        "train_generator = data_generator.flow(x_train, y_train, batch_size)\r\n",
        "steps_per_epoch = x_train.shape[0] // batch_size"
      ],
      "execution_count": 58,
      "outputs": []
    },
    {
      "cell_type": "code",
      "metadata": {
        "colab": {
          "base_uri": "https://localhost:8080/"
        },
        "id": "oCdWUvEBgRwN",
        "outputId": "1c12a2ef-13a1-47c9-d548-e003ffa4c1cc"
      },
      "source": [
        "history = model.fit(train_generator, validation_data=(x_test, y_test), steps_per_epoch=steps_per_epoch, epochs=100, callbacks=callbacks)"
      ],
      "execution_count": 59,
      "outputs": [
        {
          "output_type": "stream",
          "text": [
            "Epoch 1/100\n",
            "1562/1562 [==============================] - 35s 22ms/step - loss: 3.0170 - accuracy: 0.1462 - val_loss: 1.9100 - val_accuracy: 0.3298\n",
            "\n",
            "Epoch 00001: val_loss improved from inf to 1.91005, saving model to unet_classifier.h5\n",
            "Epoch 2/100\n",
            "1562/1562 [==============================] - 33s 21ms/step - loss: 2.1240 - accuracy: 0.2366 - val_loss: 1.8069 - val_accuracy: 0.3432\n",
            "\n",
            "Epoch 00002: val_loss improved from 1.91005 to 1.80689, saving model to unet_classifier.h5\n",
            "Epoch 3/100\n",
            "1562/1562 [==============================] - 33s 21ms/step - loss: 1.9589 - accuracy: 0.2785 - val_loss: 1.7229 - val_accuracy: 0.3700\n",
            "\n",
            "Epoch 00003: val_loss improved from 1.80689 to 1.72289, saving model to unet_classifier.h5\n",
            "Epoch 4/100\n",
            "1562/1562 [==============================] - 34s 22ms/step - loss: 1.8587 - accuracy: 0.3110 - val_loss: 1.6773 - val_accuracy: 0.3836\n",
            "\n",
            "Epoch 00004: val_loss improved from 1.72289 to 1.67729, saving model to unet_classifier.h5\n",
            "Epoch 5/100\n",
            "1562/1562 [==============================] - 34s 22ms/step - loss: 1.7890 - accuracy: 0.3363 - val_loss: 1.6281 - val_accuracy: 0.3988\n",
            "\n",
            "Epoch 00005: val_loss improved from 1.67729 to 1.62815, saving model to unet_classifier.h5\n",
            "Epoch 6/100\n",
            "1562/1562 [==============================] - 34s 21ms/step - loss: 1.7427 - accuracy: 0.3566 - val_loss: 1.5976 - val_accuracy: 0.4119\n",
            "\n",
            "Epoch 00006: val_loss improved from 1.62815 to 1.59762, saving model to unet_classifier.h5\n",
            "Epoch 7/100\n",
            "1562/1562 [==============================] - 34s 22ms/step - loss: 1.7054 - accuracy: 0.3717 - val_loss: 1.5715 - val_accuracy: 0.4194\n",
            "\n",
            "Epoch 00007: val_loss improved from 1.59762 to 1.57145, saving model to unet_classifier.h5\n",
            "Epoch 8/100\n",
            "1562/1562 [==============================] - 34s 22ms/step - loss: 1.6626 - accuracy: 0.3912 - val_loss: 1.5487 - val_accuracy: 0.4342\n",
            "\n",
            "Epoch 00008: val_loss improved from 1.57145 to 1.54871, saving model to unet_classifier.h5\n",
            "Epoch 9/100\n",
            "1562/1562 [==============================] - 33s 21ms/step - loss: 1.6248 - accuracy: 0.4055 - val_loss: 1.4982 - val_accuracy: 0.4588\n",
            "\n",
            "Epoch 00009: val_loss improved from 1.54871 to 1.49819, saving model to unet_classifier.h5\n",
            "Epoch 10/100\n",
            "1562/1562 [==============================] - 34s 22ms/step - loss: 1.5909 - accuracy: 0.4175 - val_loss: 1.5107 - val_accuracy: 0.4520\n",
            "\n",
            "Epoch 00010: val_loss did not improve from 1.49819\n",
            "Epoch 11/100\n",
            "1562/1562 [==============================] - 34s 22ms/step - loss: 1.5836 - accuracy: 0.4249 - val_loss: 1.4954 - val_accuracy: 0.4615\n",
            "\n",
            "Epoch 00011: val_loss improved from 1.49819 to 1.49536, saving model to unet_classifier.h5\n",
            "Epoch 12/100\n",
            "1562/1562 [==============================] - 34s 22ms/step - loss: 1.5555 - accuracy: 0.4325 - val_loss: 1.4601 - val_accuracy: 0.4672\n",
            "\n",
            "Epoch 00012: val_loss improved from 1.49536 to 1.46006, saving model to unet_classifier.h5\n",
            "Epoch 13/100\n",
            "1562/1562 [==============================] - 34s 22ms/step - loss: 1.5215 - accuracy: 0.4487 - val_loss: 1.4269 - val_accuracy: 0.4927\n",
            "\n",
            "Epoch 00013: val_loss improved from 1.46006 to 1.42690, saving model to unet_classifier.h5\n",
            "Epoch 14/100\n",
            "1562/1562 [==============================] - 34s 22ms/step - loss: 1.4934 - accuracy: 0.4609 - val_loss: 1.4436 - val_accuracy: 0.4777\n",
            "\n",
            "Epoch 00014: val_loss did not improve from 1.42690\n",
            "Epoch 15/100\n",
            "1562/1562 [==============================] - 34s 22ms/step - loss: 1.4867 - accuracy: 0.4613 - val_loss: 1.4182 - val_accuracy: 0.4924\n",
            "\n",
            "Epoch 00015: val_loss improved from 1.42690 to 1.41822, saving model to unet_classifier.h5\n",
            "Epoch 16/100\n",
            "1562/1562 [==============================] - 34s 22ms/step - loss: 1.4638 - accuracy: 0.4704 - val_loss: 1.4133 - val_accuracy: 0.5085\n",
            "\n",
            "Epoch 00016: val_loss improved from 1.41822 to 1.41333, saving model to unet_classifier.h5\n",
            "Epoch 17/100\n",
            "1562/1562 [==============================] - 34s 22ms/step - loss: 1.4344 - accuracy: 0.4843 - val_loss: 1.3910 - val_accuracy: 0.5078\n",
            "\n",
            "Epoch 00017: val_loss improved from 1.41333 to 1.39099, saving model to unet_classifier.h5\n",
            "Epoch 18/100\n",
            "1562/1562 [==============================] - 34s 22ms/step - loss: 1.4340 - accuracy: 0.4826 - val_loss: 1.3454 - val_accuracy: 0.5201\n",
            "\n",
            "Epoch 00018: val_loss improved from 1.39099 to 1.34542, saving model to unet_classifier.h5\n",
            "Epoch 19/100\n",
            "1562/1562 [==============================] - 34s 22ms/step - loss: 1.4100 - accuracy: 0.4908 - val_loss: 1.3178 - val_accuracy: 0.5341\n",
            "\n",
            "Epoch 00019: val_loss improved from 1.34542 to 1.31776, saving model to unet_classifier.h5\n",
            "Epoch 20/100\n",
            "1562/1562 [==============================] - 34s 22ms/step - loss: 1.3960 - accuracy: 0.4991 - val_loss: 1.3224 - val_accuracy: 0.5329\n",
            "\n",
            "Epoch 00020: val_loss did not improve from 1.31776\n",
            "Epoch 21/100\n",
            "1562/1562 [==============================] - 34s 22ms/step - loss: 1.3785 - accuracy: 0.5046 - val_loss: 1.2980 - val_accuracy: 0.5432\n",
            "\n",
            "Epoch 00021: val_loss improved from 1.31776 to 1.29799, saving model to unet_classifier.h5\n",
            "Epoch 22/100\n",
            "1562/1562 [==============================] - 34s 22ms/step - loss: 1.3689 - accuracy: 0.5066 - val_loss: 1.3395 - val_accuracy: 0.5298\n",
            "\n",
            "Epoch 00022: val_loss did not improve from 1.29799\n",
            "Epoch 23/100\n",
            "1562/1562 [==============================] - 34s 22ms/step - loss: 1.3593 - accuracy: 0.5136 - val_loss: 1.3073 - val_accuracy: 0.5432\n",
            "\n",
            "Epoch 00023: val_loss did not improve from 1.29799\n",
            "Epoch 24/100\n",
            "1562/1562 [==============================] - 34s 22ms/step - loss: 1.3490 - accuracy: 0.5173 - val_loss: 1.2906 - val_accuracy: 0.5434\n",
            "\n",
            "Epoch 00024: val_loss improved from 1.29799 to 1.29058, saving model to unet_classifier.h5\n",
            "Epoch 25/100\n",
            "1562/1562 [==============================] - 34s 22ms/step - loss: 1.3359 - accuracy: 0.5198 - val_loss: 1.3028 - val_accuracy: 0.5444\n",
            "\n",
            "Epoch 00025: val_loss did not improve from 1.29058\n",
            "Epoch 26/100\n",
            "1562/1562 [==============================] - 34s 22ms/step - loss: 1.3233 - accuracy: 0.5237 - val_loss: 1.2625 - val_accuracy: 0.5585\n",
            "\n",
            "Epoch 00026: val_loss improved from 1.29058 to 1.26247, saving model to unet_classifier.h5\n",
            "Epoch 27/100\n",
            "1562/1562 [==============================] - 35s 22ms/step - loss: 1.3022 - accuracy: 0.5316 - val_loss: 1.2443 - val_accuracy: 0.5653\n",
            "\n",
            "Epoch 00027: val_loss improved from 1.26247 to 1.24432, saving model to unet_classifier.h5\n",
            "Epoch 28/100\n",
            "1562/1562 [==============================] - 34s 22ms/step - loss: 1.2924 - accuracy: 0.5378 - val_loss: 1.2338 - val_accuracy: 0.5685\n",
            "\n",
            "Epoch 00028: val_loss improved from 1.24432 to 1.23375, saving model to unet_classifier.h5\n",
            "Epoch 29/100\n",
            "1562/1562 [==============================] - 35s 22ms/step - loss: 1.2931 - accuracy: 0.5348 - val_loss: 1.2452 - val_accuracy: 0.5652\n",
            "\n",
            "Epoch 00029: val_loss did not improve from 1.23375\n",
            "Epoch 30/100\n",
            "1562/1562 [==============================] - 34s 22ms/step - loss: 1.2741 - accuracy: 0.5478 - val_loss: 1.2310 - val_accuracy: 0.5746\n",
            "\n",
            "Epoch 00030: val_loss improved from 1.23375 to 1.23098, saving model to unet_classifier.h5\n",
            "Epoch 31/100\n",
            "1562/1562 [==============================] - 34s 22ms/step - loss: 1.2723 - accuracy: 0.5478 - val_loss: 1.2261 - val_accuracy: 0.5730\n",
            "\n",
            "Epoch 00031: val_loss improved from 1.23098 to 1.22611, saving model to unet_classifier.h5\n",
            "Epoch 32/100\n",
            "1562/1562 [==============================] - 34s 22ms/step - loss: 1.2580 - accuracy: 0.5522 - val_loss: 1.2176 - val_accuracy: 0.5736\n",
            "\n",
            "Epoch 00032: val_loss improved from 1.22611 to 1.21758, saving model to unet_classifier.h5\n",
            "Epoch 33/100\n",
            "1562/1562 [==============================] - 34s 22ms/step - loss: 1.2572 - accuracy: 0.5527 - val_loss: 1.1900 - val_accuracy: 0.5854\n",
            "\n",
            "Epoch 00033: val_loss improved from 1.21758 to 1.19002, saving model to unet_classifier.h5\n",
            "Epoch 34/100\n",
            "1562/1562 [==============================] - 34s 22ms/step - loss: 1.2495 - accuracy: 0.5518 - val_loss: 1.1709 - val_accuracy: 0.5915\n",
            "\n",
            "Epoch 00034: val_loss improved from 1.19002 to 1.17094, saving model to unet_classifier.h5\n",
            "Epoch 35/100\n",
            "1562/1562 [==============================] - 34s 22ms/step - loss: 1.2306 - accuracy: 0.5578 - val_loss: 1.2347 - val_accuracy: 0.5644\n",
            "\n",
            "Epoch 00035: val_loss did not improve from 1.17094\n",
            "Epoch 36/100\n",
            "1562/1562 [==============================] - 34s 22ms/step - loss: 1.2284 - accuracy: 0.5620 - val_loss: 1.1795 - val_accuracy: 0.5924\n",
            "\n",
            "Epoch 00036: val_loss did not improve from 1.17094\n",
            "Epoch 37/100\n",
            "1562/1562 [==============================] - 34s 22ms/step - loss: 1.2230 - accuracy: 0.5643 - val_loss: 1.1398 - val_accuracy: 0.6078\n",
            "\n",
            "Epoch 00037: val_loss improved from 1.17094 to 1.13982, saving model to unet_classifier.h5\n",
            "Epoch 38/100\n",
            "1562/1562 [==============================] - 34s 22ms/step - loss: 1.2096 - accuracy: 0.5686 - val_loss: 1.1652 - val_accuracy: 0.5965\n",
            "\n",
            "Epoch 00038: val_loss did not improve from 1.13982\n",
            "Epoch 39/100\n",
            "1562/1562 [==============================] - 34s 22ms/step - loss: 1.2014 - accuracy: 0.5715 - val_loss: 1.1160 - val_accuracy: 0.6056\n",
            "\n",
            "Epoch 00039: val_loss improved from 1.13982 to 1.11599, saving model to unet_classifier.h5\n",
            "Epoch 40/100\n",
            "1562/1562 [==============================] - 34s 22ms/step - loss: 1.2018 - accuracy: 0.5755 - val_loss: 1.1499 - val_accuracy: 0.6037\n",
            "\n",
            "Epoch 00040: val_loss did not improve from 1.11599\n",
            "Epoch 41/100\n",
            "1562/1562 [==============================] - 34s 22ms/step - loss: 1.1918 - accuracy: 0.5824 - val_loss: 1.1502 - val_accuracy: 0.5981\n",
            "\n",
            "Epoch 00041: val_loss did not improve from 1.11599\n",
            "Epoch 42/100\n",
            "1562/1562 [==============================] - 34s 22ms/step - loss: 1.1837 - accuracy: 0.5764 - val_loss: 1.1279 - val_accuracy: 0.6082\n",
            "\n",
            "Epoch 00042: val_loss did not improve from 1.11599\n",
            "Epoch 43/100\n",
            "1562/1562 [==============================] - 34s 22ms/step - loss: 1.1911 - accuracy: 0.5805 - val_loss: 1.1010 - val_accuracy: 0.6186\n",
            "\n",
            "Epoch 00043: val_loss improved from 1.11599 to 1.10104, saving model to unet_classifier.h5\n",
            "Epoch 44/100\n",
            "1562/1562 [==============================] - 34s 22ms/step - loss: 1.1976 - accuracy: 0.5741 - val_loss: 1.1700 - val_accuracy: 0.5960\n",
            "\n",
            "Epoch 00044: val_loss did not improve from 1.10104\n",
            "Epoch 45/100\n",
            "1562/1562 [==============================] - 34s 22ms/step - loss: 1.1695 - accuracy: 0.5861 - val_loss: 1.1221 - val_accuracy: 0.6084\n",
            "\n",
            "Epoch 00045: val_loss did not improve from 1.10104\n",
            "Epoch 46/100\n",
            "1562/1562 [==============================] - 34s 22ms/step - loss: 1.1683 - accuracy: 0.5864 - val_loss: 1.1185 - val_accuracy: 0.6069\n",
            "\n",
            "Epoch 00046: val_loss did not improve from 1.10104\n",
            "Epoch 47/100\n",
            "1562/1562 [==============================] - 34s 22ms/step - loss: 1.1684 - accuracy: 0.5860 - val_loss: 1.0912 - val_accuracy: 0.6277\n",
            "\n",
            "Epoch 00047: val_loss improved from 1.10104 to 1.09124, saving model to unet_classifier.h5\n",
            "Epoch 48/100\n",
            "1562/1562 [==============================] - 34s 22ms/step - loss: 1.1514 - accuracy: 0.5903 - val_loss: 1.0850 - val_accuracy: 0.6235\n",
            "\n",
            "Epoch 00048: val_loss improved from 1.09124 to 1.08502, saving model to unet_classifier.h5\n",
            "Epoch 49/100\n",
            "1562/1562 [==============================] - 34s 22ms/step - loss: 1.1413 - accuracy: 0.5968 - val_loss: 1.0846 - val_accuracy: 0.6264\n",
            "\n",
            "Epoch 00049: val_loss improved from 1.08502 to 1.08457, saving model to unet_classifier.h5\n",
            "Epoch 50/100\n",
            "1562/1562 [==============================] - 34s 22ms/step - loss: 1.1429 - accuracy: 0.5928 - val_loss: 1.0832 - val_accuracy: 0.6172\n",
            "\n",
            "Epoch 00050: val_loss improved from 1.08457 to 1.08318, saving model to unet_classifier.h5\n",
            "Epoch 51/100\n",
            "1562/1562 [==============================] - 34s 22ms/step - loss: 1.1423 - accuracy: 0.6016 - val_loss: 1.0857 - val_accuracy: 0.6207\n",
            "\n",
            "Epoch 00051: val_loss did not improve from 1.08318\n",
            "Epoch 52/100\n",
            "1562/1562 [==============================] - 34s 22ms/step - loss: 1.1334 - accuracy: 0.5975 - val_loss: 1.0750 - val_accuracy: 0.6274\n",
            "\n",
            "Epoch 00052: val_loss improved from 1.08318 to 1.07502, saving model to unet_classifier.h5\n",
            "Epoch 53/100\n",
            "1562/1562 [==============================] - 34s 22ms/step - loss: 1.1258 - accuracy: 0.6018 - val_loss: 1.1151 - val_accuracy: 0.6086\n",
            "\n",
            "Epoch 00053: val_loss did not improve from 1.07502\n",
            "Epoch 54/100\n",
            "1562/1562 [==============================] - 34s 22ms/step - loss: 1.1203 - accuracy: 0.6041 - val_loss: 1.0842 - val_accuracy: 0.6233\n",
            "\n",
            "Epoch 00054: val_loss did not improve from 1.07502\n",
            "Epoch 55/100\n",
            "1562/1562 [==============================] - 34s 22ms/step - loss: 1.1262 - accuracy: 0.6046 - val_loss: 1.0857 - val_accuracy: 0.6262\n",
            "\n",
            "Epoch 00055: val_loss did not improve from 1.07502\n",
            "Epoch 56/100\n",
            "1562/1562 [==============================] - 34s 22ms/step - loss: 1.1182 - accuracy: 0.6083 - val_loss: 1.0511 - val_accuracy: 0.6361\n",
            "\n",
            "Epoch 00056: val_loss improved from 1.07502 to 1.05112, saving model to unet_classifier.h5\n",
            "Epoch 57/100\n",
            "1562/1562 [==============================] - 34s 22ms/step - loss: 1.1153 - accuracy: 0.6060 - val_loss: 1.1017 - val_accuracy: 0.6186\n",
            "\n",
            "Epoch 00057: val_loss did not improve from 1.05112\n",
            "Epoch 58/100\n",
            "1562/1562 [==============================] - 34s 22ms/step - loss: 1.1080 - accuracy: 0.6078 - val_loss: 1.0837 - val_accuracy: 0.6277\n",
            "\n",
            "Epoch 00058: val_loss did not improve from 1.05112\n",
            "Epoch 59/100\n",
            "1562/1562 [==============================] - 34s 22ms/step - loss: 1.0972 - accuracy: 0.6133 - val_loss: 1.0527 - val_accuracy: 0.6326\n",
            "\n",
            "Epoch 00059: val_loss did not improve from 1.05112\n",
            "Epoch 60/100\n",
            "1562/1562 [==============================] - 34s 22ms/step - loss: 1.0978 - accuracy: 0.6156 - val_loss: 1.0536 - val_accuracy: 0.6355\n",
            "\n",
            "Epoch 00060: val_loss did not improve from 1.05112\n",
            "Epoch 61/100\n",
            "1562/1562 [==============================] - 34s 22ms/step - loss: 1.0929 - accuracy: 0.6141 - val_loss: 1.0413 - val_accuracy: 0.6448\n",
            "\n",
            "Epoch 00061: val_loss improved from 1.05112 to 1.04131, saving model to unet_classifier.h5\n",
            "Epoch 62/100\n",
            "1562/1562 [==============================] - 35s 22ms/step - loss: 1.0836 - accuracy: 0.6193 - val_loss: 1.0192 - val_accuracy: 0.6443\n",
            "\n",
            "Epoch 00062: val_loss improved from 1.04131 to 1.01922, saving model to unet_classifier.h5\n",
            "Epoch 63/100\n",
            "1562/1562 [==============================] - 34s 22ms/step - loss: 1.0783 - accuracy: 0.6232 - val_loss: 1.0370 - val_accuracy: 0.6357\n",
            "\n",
            "Epoch 00063: val_loss did not improve from 1.01922\n",
            "Epoch 64/100\n",
            "1562/1562 [==============================] - 34s 22ms/step - loss: 1.0815 - accuracy: 0.6193 - val_loss: 1.0454 - val_accuracy: 0.6418\n",
            "\n",
            "Epoch 00064: val_loss did not improve from 1.01922\n",
            "Epoch 65/100\n",
            "1562/1562 [==============================] - 34s 22ms/step - loss: 1.0786 - accuracy: 0.6239 - val_loss: 1.0050 - val_accuracy: 0.6502\n",
            "\n",
            "Epoch 00065: val_loss improved from 1.01922 to 1.00500, saving model to unet_classifier.h5\n",
            "Epoch 66/100\n",
            "1562/1562 [==============================] - 34s 22ms/step - loss: 1.0807 - accuracy: 0.6241 - val_loss: 1.0076 - val_accuracy: 0.6507\n",
            "\n",
            "Epoch 00066: val_loss did not improve from 1.00500\n",
            "Epoch 67/100\n",
            "1562/1562 [==============================] - 34s 22ms/step - loss: 1.0723 - accuracy: 0.6236 - val_loss: 1.0227 - val_accuracy: 0.6425\n",
            "\n",
            "Epoch 00067: val_loss did not improve from 1.00500\n",
            "Epoch 68/100\n",
            "1562/1562 [==============================] - 34s 22ms/step - loss: 1.0698 - accuracy: 0.6258 - val_loss: 1.0141 - val_accuracy: 0.6468\n",
            "\n",
            "Epoch 00068: val_loss did not improve from 1.00500\n",
            "Epoch 69/100\n",
            "1562/1562 [==============================] - 34s 22ms/step - loss: 1.0594 - accuracy: 0.6301 - val_loss: 1.0258 - val_accuracy: 0.6376\n",
            "\n",
            "Epoch 00069: val_loss did not improve from 1.00500\n",
            "Epoch 70/100\n",
            "1562/1562 [==============================] - 34s 22ms/step - loss: 1.0613 - accuracy: 0.6300 - val_loss: 1.0002 - val_accuracy: 0.6575\n",
            "\n",
            "Epoch 00070: val_loss improved from 1.00500 to 1.00018, saving model to unet_classifier.h5\n",
            "Epoch 71/100\n",
            "1562/1562 [==============================] - 34s 22ms/step - loss: 1.0625 - accuracy: 0.6258 - val_loss: 1.0026 - val_accuracy: 0.6548\n",
            "\n",
            "Epoch 00071: val_loss did not improve from 1.00018\n",
            "Epoch 72/100\n",
            "1562/1562 [==============================] - 34s 22ms/step - loss: 1.0556 - accuracy: 0.6278 - val_loss: 0.9804 - val_accuracy: 0.6636\n",
            "\n",
            "Epoch 00072: val_loss improved from 1.00018 to 0.98037, saving model to unet_classifier.h5\n",
            "Epoch 73/100\n",
            "1562/1562 [==============================] - 34s 22ms/step - loss: 1.0524 - accuracy: 0.6316 - val_loss: 0.9911 - val_accuracy: 0.6542\n",
            "\n",
            "Epoch 00073: val_loss did not improve from 0.98037\n",
            "Epoch 74/100\n",
            "1562/1562 [==============================] - 34s 22ms/step - loss: 1.0464 - accuracy: 0.6348 - val_loss: 0.9911 - val_accuracy: 0.6522\n",
            "\n",
            "Epoch 00074: val_loss did not improve from 0.98037\n",
            "Epoch 75/100\n",
            "1562/1562 [==============================] - 35s 22ms/step - loss: 1.0405 - accuracy: 0.6382 - val_loss: 0.9972 - val_accuracy: 0.6555\n",
            "\n",
            "Epoch 00075: val_loss did not improve from 0.98037\n",
            "Epoch 76/100\n",
            "1562/1562 [==============================] - 35s 22ms/step - loss: 1.0415 - accuracy: 0.6386 - val_loss: 1.0027 - val_accuracy: 0.6509\n",
            "\n",
            "Epoch 00076: val_loss did not improve from 0.98037\n",
            "Epoch 77/100\n",
            "1562/1562 [==============================] - 35s 22ms/step - loss: 1.0396 - accuracy: 0.6346 - val_loss: 0.9878 - val_accuracy: 0.6590\n",
            "\n",
            "Epoch 00077: ReduceLROnPlateau reducing learning rate to 9.999999747378752e-07.\n",
            "\n",
            "Epoch 00077: val_loss did not improve from 0.98037\n",
            "Epoch 78/100\n",
            "1562/1562 [==============================] - 35s 22ms/step - loss: 1.0201 - accuracy: 0.6414 - val_loss: 0.9624 - val_accuracy: 0.6703\n",
            "\n",
            "Epoch 00078: val_loss improved from 0.98037 to 0.96243, saving model to unet_classifier.h5\n",
            "Epoch 79/100\n",
            "1562/1562 [==============================] - 35s 22ms/step - loss: 0.9977 - accuracy: 0.6514 - val_loss: 0.9648 - val_accuracy: 0.6716\n",
            "\n",
            "Epoch 00079: val_loss did not improve from 0.96243\n",
            "Epoch 80/100\n",
            "1562/1562 [==============================] - 34s 22ms/step - loss: 0.9985 - accuracy: 0.6503 - val_loss: 0.9634 - val_accuracy: 0.6724\n",
            "\n",
            "Epoch 00080: val_loss did not improve from 0.96243\n",
            "Epoch 81/100\n",
            "1562/1562 [==============================] - 35s 22ms/step - loss: 0.9974 - accuracy: 0.6543 - val_loss: 0.9625 - val_accuracy: 0.6753\n",
            "\n",
            "Epoch 00081: val_loss did not improve from 0.96243\n",
            "Epoch 82/100\n",
            "1562/1562 [==============================] - 35s 22ms/step - loss: 0.9879 - accuracy: 0.6512 - val_loss: 0.9695 - val_accuracy: 0.6703\n",
            "\n",
            "Epoch 00082: val_loss did not improve from 0.96243\n",
            "Epoch 83/100\n",
            "1562/1562 [==============================] - 35s 22ms/step - loss: 0.9847 - accuracy: 0.6536 - val_loss: 0.9621 - val_accuracy: 0.6717\n",
            "\n",
            "Epoch 00083: val_loss improved from 0.96243 to 0.96211, saving model to unet_classifier.h5\n",
            "Epoch 84/100\n",
            "1562/1562 [==============================] - 35s 22ms/step - loss: 0.9918 - accuracy: 0.6544 - val_loss: 0.9649 - val_accuracy: 0.6718\n",
            "\n",
            "Epoch 00084: val_loss did not improve from 0.96211\n",
            "Epoch 85/100\n",
            "1562/1562 [==============================] - 34s 22ms/step - loss: 0.9932 - accuracy: 0.6550 - val_loss: 0.9630 - val_accuracy: 0.6718\n",
            "\n",
            "Epoch 00085: val_loss did not improve from 0.96211\n",
            "Epoch 86/100\n",
            "1562/1562 [==============================] - 35s 22ms/step - loss: 0.9851 - accuracy: 0.6532 - val_loss: 0.9598 - val_accuracy: 0.6733\n",
            "\n",
            "Epoch 00086: val_loss improved from 0.96211 to 0.95980, saving model to unet_classifier.h5\n",
            "Epoch 87/100\n",
            "1562/1562 [==============================] - 35s 22ms/step - loss: 0.9966 - accuracy: 0.6521 - val_loss: 0.9602 - val_accuracy: 0.6738\n",
            "\n",
            "Epoch 00087: val_loss did not improve from 0.95980\n",
            "Epoch 88/100\n",
            "1562/1562 [==============================] - 34s 22ms/step - loss: 0.9791 - accuracy: 0.6562 - val_loss: 0.9645 - val_accuracy: 0.6698\n",
            "\n",
            "Epoch 00088: val_loss did not improve from 0.95980\n",
            "Epoch 89/100\n",
            "1562/1562 [==============================] - 35s 22ms/step - loss: 0.9834 - accuracy: 0.6573 - val_loss: 0.9654 - val_accuracy: 0.6720\n",
            "\n",
            "Epoch 00089: val_loss did not improve from 0.95980\n",
            "Epoch 90/100\n",
            "1562/1562 [==============================] - 35s 22ms/step - loss: 0.9948 - accuracy: 0.6539 - val_loss: 0.9720 - val_accuracy: 0.6689\n",
            "\n",
            "Epoch 00090: val_loss did not improve from 0.95980\n",
            "Epoch 91/100\n",
            "1562/1562 [==============================] - 34s 22ms/step - loss: 0.9898 - accuracy: 0.6534 - val_loss: 0.9528 - val_accuracy: 0.6744\n",
            "\n",
            "Epoch 00091: val_loss improved from 0.95980 to 0.95275, saving model to unet_classifier.h5\n",
            "Epoch 92/100\n",
            "1562/1562 [==============================] - 35s 22ms/step - loss: 0.9927 - accuracy: 0.6562 - val_loss: 0.9598 - val_accuracy: 0.6706\n",
            "\n",
            "Epoch 00092: val_loss did not improve from 0.95275\n",
            "Epoch 93/100\n",
            "1562/1562 [==============================] - 35s 22ms/step - loss: 0.9850 - accuracy: 0.6553 - val_loss: 0.9626 - val_accuracy: 0.6693\n",
            "\n",
            "Epoch 00093: val_loss did not improve from 0.95275\n",
            "Epoch 94/100\n",
            "1562/1562 [==============================] - 35s 23ms/step - loss: 0.9802 - accuracy: 0.6568 - val_loss: 0.9699 - val_accuracy: 0.6715\n",
            "\n",
            "Epoch 00094: val_loss did not improve from 0.95275\n",
            "Epoch 95/100\n",
            "1562/1562 [==============================] - 35s 22ms/step - loss: 0.9870 - accuracy: 0.6575 - val_loss: 0.9642 - val_accuracy: 0.6708\n",
            "\n",
            "Epoch 00095: val_loss did not improve from 0.95275\n",
            "Epoch 96/100\n",
            "1562/1562 [==============================] - 35s 22ms/step - loss: 0.9919 - accuracy: 0.6549 - val_loss: 0.9532 - val_accuracy: 0.6750\n",
            "\n",
            "Epoch 00096: ReduceLROnPlateau reducing learning rate to 1e-07.\n",
            "\n",
            "Epoch 00096: val_loss did not improve from 0.95275\n",
            "Epoch 97/100\n",
            "1562/1562 [==============================] - 35s 22ms/step - loss: 0.9924 - accuracy: 0.6545 - val_loss: 0.9567 - val_accuracy: 0.6741\n",
            "\n",
            "Epoch 00097: val_loss did not improve from 0.95275\n",
            "Epoch 98/100\n",
            "1562/1562 [==============================] - 35s 22ms/step - loss: 0.9842 - accuracy: 0.6566 - val_loss: 0.9582 - val_accuracy: 0.6753\n",
            "\n",
            "Epoch 00098: val_loss did not improve from 0.95275\n",
            "Epoch 99/100\n",
            "1562/1562 [==============================] - 35s 23ms/step - loss: 0.9853 - accuracy: 0.6567 - val_loss: 0.9616 - val_accuracy: 0.6738\n",
            "\n",
            "Epoch 00099: val_loss did not improve from 0.95275\n",
            "Epoch 100/100\n",
            "1562/1562 [==============================] - 35s 22ms/step - loss: 0.9848 - accuracy: 0.6575 - val_loss: 0.9605 - val_accuracy: 0.6748\n",
            "\n",
            "Epoch 00100: val_loss did not improve from 0.95275\n"
          ],
          "name": "stdout"
        }
      ]
    },
    {
      "cell_type": "markdown",
      "metadata": {
        "id": "ZBUk4LZiuIOf"
      },
      "source": [
        "### Loss"
      ]
    },
    {
      "cell_type": "code",
      "metadata": {
        "colab": {
          "base_uri": "https://localhost:8080/",
          "height": 282
        },
        "id": "HQWHW66etttH",
        "outputId": "84e699f7-e022-4812-d15e-790c86a3c11d"
      },
      "source": [
        "plt.plot(history.history['loss'], label='loss')\r\n",
        "plt.plot(history.history['val_loss'], label='val_loss')\r\n",
        "plt.legend()"
      ],
      "execution_count": 60,
      "outputs": [
        {
          "output_type": "execute_result",
          "data": {
            "text/plain": [
              "<matplotlib.legend.Legend at 0x7f7ee04ef110>"
            ]
          },
          "metadata": {
            "tags": []
          },
          "execution_count": 60
        },
        {
          "output_type": "display_data",
          "data": {
            "image/png": "[encoded data removed]",
            "text/plain": [
              "<Figure size 432x288 with 1 Axes>"
            ]
          },
          "metadata": {
            "tags": [],
            "needs_background": "light"
          }
        }
      ]
    },
    {
      "cell_type": "code",
      "metadata": {
        "colab": {
          "base_uri": "https://localhost:8080/",
          "height": 513
        },
        "id": "hc63D_ROwZEA",
        "outputId": "666ef9b9-58e6-4729-9493-c711b32d50e7"
      },
      "source": [
        "plt.figure(figsize=(8, 8))\r\n",
        "plt.title(\"Learning curve\")\r\n",
        "plt.plot(history.history[\"loss\"], label=\"loss\")\r\n",
        "plt.plot(history.history[\"val_loss\"], label=\"val_loss\")\r\n",
        "plt.plot( np.argmin(history.history[\"val_loss\"]), np.min(history.history[\"val_loss\"]), marker=\"x\", color=\"r\", label=\"best model\")\r\n",
        "plt.xlabel(\"Epochs\")\r\n",
        "plt.ylabel(\"log_loss\")\r\n",
        "plt.legend();"
      ],
      "execution_count": 61,
      "outputs": [
        {
          "output_type": "display_data",
          "data": {
            "image/png": "[encoded data removed]",
            "text/plain": [
              "<Figure size 576x576 with 1 Axes>"
            ]
          },
          "metadata": {
            "tags": [],
            "needs_background": "light"
          }
        }
      ]
    },
    {
      "cell_type": "markdown",
      "metadata": {
        "id": "kU_chmEauQZH"
      },
      "source": [
        "### Accuracy"
      ]
    },
    {
      "cell_type": "code",
      "metadata": {
        "colab": {
          "base_uri": "https://localhost:8080/",
          "height": 286
        },
        "id": "rIzeGtETuSzZ",
        "outputId": "472005bc-7dd2-4017-8084-27f9d36a479a"
      },
      "source": [
        "plt.plot(history.history['accuracy'], label='acc')\r\n",
        "plt.plot(history.history['val_accuracy'], label='val_acc')\r\n",
        "plt.legend()"
      ],
      "execution_count": 62,
      "outputs": [
        {
          "output_type": "execute_result",
          "data": {
            "text/plain": [
              "<matplotlib.legend.Legend at 0x7f7e642c9410>"
            ]
          },
          "metadata": {
            "tags": []
          },
          "execution_count": 62
        },
        {
          "output_type": "display_data",
          "data": {
            "image/png": "[encoded data removed]",
            "text/plain": [
              "<Figure size 432x288 with 1 Axes>"
            ]
          },
          "metadata": {
            "tags": [],
            "needs_background": "light"
          }
        }
      ]
    },
    {
      "cell_type": "markdown",
      "metadata": {
        "id": "PoDp7Zfkufko"
      },
      "source": [
        "### Confusion Matrix"
      ]
    },
    {
      "cell_type": "code",
      "metadata": {
        "colab": {
          "base_uri": "https://localhost:8080/",
          "height": 496
        },
        "id": "ntzFmxIHuivo",
        "outputId": "3165e94f-8ade-4b90-db1a-30e6f507de69"
      },
      "source": [
        "def plot_confusion_matrix(cm, classes,\r\n",
        "                          normalize=False,\r\n",
        "                          title='Confusion matrix',\r\n",
        "                          cmap=plt.cm.Blues):\r\n",
        "  \"\"\"\r\n",
        "  This function prints and plots the confusion matrix.\r\n",
        "  Normalization can be applied by setting `normalize=True`.\r\n",
        "  \"\"\"\r\n",
        "  if normalize:\r\n",
        "      cm = cm.astype('float') / cm.sum(axis=1)[:, np.newaxis]\r\n",
        "      print(\"Normalized confusion matrix\")\r\n",
        "  else:\r\n",
        "      print('Confusion matrix, without normalization')\r\n",
        "\r\n",
        "  print(cm)\r\n",
        "\r\n",
        "  plt.imshow(cm, interpolation='nearest', cmap=cmap)\r\n",
        "  plt.title(title)\r\n",
        "  plt.colorbar()\r\n",
        "  tick_marks = np.arange(len(classes))\r\n",
        "  plt.xticks(tick_marks, classes, rotation=45)\r\n",
        "  plt.yticks(tick_marks, classes)\r\n",
        "\r\n",
        "  fmt = '.2f' if normalize else 'd'\r\n",
        "  thresh = cm.max() / 2.\r\n",
        "  for i, j in itertools.product(range(cm.shape[0]), range(cm.shape[1])):\r\n",
        "      plt.text(j, i, format(cm[i, j], fmt),\r\n",
        "               horizontalalignment=\"center\",\r\n",
        "               color=\"white\" if cm[i, j] > thresh else \"black\")\r\n",
        "\r\n",
        "  plt.tight_layout()\r\n",
        "  plt.ylabel('True label')\r\n",
        "  plt.xlabel('Predicted label')\r\n",
        "  plt.show()\r\n",
        "\r\n",
        "\r\n",
        "p_test = model.predict(x_test).argmax(axis=1)\r\n",
        "cm = confusion_matrix(y_test, p_test)\r\n",
        "plot_confusion_matrix(cm, list(range(10)))"
      ],
      "execution_count": 64,
      "outputs": [
        {
          "output_type": "stream",
          "text": [
            "Confusion matrix, without normalization\n",
            "[[732  39  48   4  15   3  25  19  69  46]\n",
            " [  9 759   1   3   1   0  23   3  14 187]\n",
            " [ 81   8 430  47  95  49 225  29  20  16]\n",
            " [ 12  18  43 421  64 101 239  49  23  30]\n",
            " [ 21   4  50  29 582  11 229  62   8   4]\n",
            " [ 10  15  20 228  52 475 122  47  14  17]\n",
            " [  4   3  11  26   8   5 933   1   9   0]\n",
            " [ 19   3  16  51  93  38  47 710   7  16]\n",
            " [ 56  40   5   4   9   0  17   1 823  45]\n",
            " [ 14  50   2   6   3   0  16   9  17 883]]\n"
          ],
          "name": "stdout"
        },
        {
          "output_type": "display_data",
          "data": {
            "image/png": "[encoded data removed]",
            "text/plain": [
              "<Figure size 432x288 with 2 Axes>"
            ]
          },
          "metadata": {
            "tags": [],
            "needs_background": "light"
          }
        }
      ]
    },
    {
      "cell_type": "code",
      "metadata": {
        "colab": {
          "base_uri": "https://localhost:8080/"
        },
        "id": "aH_3BmI4caUT",
        "outputId": "366eecdc-514c-4279-8799-e1495f1b8f71"
      },
      "source": [
        "from sklearn.metrics import classification_report\r\n",
        "print(classification_report(y_test, p_test))"
      ],
      "execution_count": 65,
      "outputs": [
        {
          "output_type": "stream",
          "text": [
            "              precision    recall  f1-score   support\n",
            "\n",
            "           0       0.76      0.73      0.75      1000\n",
            "           1       0.81      0.76      0.78      1000\n",
            "           2       0.69      0.43      0.53      1000\n",
            "           3       0.51      0.42      0.46      1000\n",
            "           4       0.63      0.58      0.61      1000\n",
            "           5       0.70      0.47      0.56      1000\n",
            "           6       0.50      0.93      0.65      1000\n",
            "           7       0.76      0.71      0.74      1000\n",
            "           8       0.82      0.82      0.82      1000\n",
            "           9       0.71      0.88      0.79      1000\n",
            "\n",
            "    accuracy                           0.67     10000\n",
            "   macro avg       0.69      0.67      0.67     10000\n",
            "weighted avg       0.69      0.67      0.67     10000\n",
            "\n"
          ],
          "name": "stdout"
        }
      ]
    },
    {
      "cell_type": "markdown",
      "metadata": {
        "id": "gh5AYb5suxCg"
      },
      "source": [
        "### Verificar erros do modelo"
      ]
    },
    {
      "cell_type": "code",
      "metadata": {
        "id": "i5_CRikMu8_X"
      },
      "source": [
        "labels = '''avião\r\n",
        "automóvel\r\n",
        "pássaro\r\n",
        "gato\r\n",
        "veado\r\n",
        "cachorro\r\n",
        "sapo\r\n",
        "cavalo\r\n",
        "barco\r\n",
        "caminhão'''.split()"
      ],
      "execution_count": 66,
      "outputs": []
    },
    {
      "cell_type": "code",
      "metadata": {
        "colab": {
          "base_uri": "https://localhost:8080/",
          "height": 281
        },
        "id": "etpWiYrluzau",
        "outputId": "0cf1a1f0-6a14-4a56-f8d7-7c934c98569d"
      },
      "source": [
        "misclassified_idx = np.where(p_test != y_test)[0]\r\n",
        "i = np.random.choice(misclassified_idx)\r\n",
        "plt.imshow(x_test[i], cmap='gray')\r\n",
        "plt.title(\"True label: %s Predicted: %s\" % (labels[y_test[i]], labels[p_test[i]]));"
      ],
      "execution_count": 67,
      "outputs": [
        {
          "output_type": "display_data",
          "data": {
            "image/png": "[encoded data removed]",
            "text/plain": [
              "<Figure size 432x288 with 1 Axes>"
            ]
          },
          "metadata": {
            "tags": [],
            "needs_background": "light"
          }
        }
      ]
    }
  ]
}